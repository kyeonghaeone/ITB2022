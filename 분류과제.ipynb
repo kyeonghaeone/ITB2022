{
  "nbformat": 4,
  "nbformat_minor": 0,
  "metadata": {
    "colab": {
      "provenance": [],
      "toc_visible": true,
      "authorship_tag": "ABX9TyOvNYsr4yqCf9NPi45VCjkK",
      "include_colab_link": true
    },
    "kernelspec": {
      "name": "python3",
      "display_name": "Python 3"
    },
    "language_info": {
      "name": "python"
    }
  },
  "cells": [
    {
      "cell_type": "markdown",
      "metadata": {
        "id": "view-in-github",
        "colab_type": "text"
      },
      "source": [
        "<a href=\"https://colab.research.google.com/github/kyeonghaeone/ITB2022/blob/main/%EB%B6%84%EB%A5%98%EA%B3%BC%EC%A0%9C.ipynb\" target=\"_parent\"><img src=\"https://colab.research.google.com/assets/colab-badge.svg\" alt=\"Open In Colab\"/></a>"
      ]
    },
    {
      "cell_type": "code",
      "source": [
        "#시각화 한글깨짐 해결위한 폰트\n",
        "!sudo apt-get install -y fonts-nanum\n",
        "!sudo fc-cache -fv\n",
        "!rm ~/.cache/matplotlib -rf\n",
        "\n",
        "import matplotlib.pyplot as plt\n",
        "\n",
        "plt.rc('font', family='NanumBarunGothic')"
      ],
      "metadata": {
        "colab": {
          "base_uri": "https://localhost:8080/"
        },
        "id": "18VBhVIJ5pfh",
        "outputId": "641a2a7a-c801-4df8-f1f5-411a59cf4fa4"
      },
      "execution_count": 1,
      "outputs": [
        {
          "output_type": "stream",
          "name": "stdout",
          "text": [
            "Reading package lists... Done\n",
            "Building dependency tree       \n",
            "Reading state information... Done\n",
            "fonts-nanum is already the newest version (20170925-1).\n",
            "The following package was automatically installed and is no longer required:\n",
            "  libnvidia-common-460\n",
            "Use 'sudo apt autoremove' to remove it.\n",
            "0 upgraded, 0 newly installed, 0 to remove and 5 not upgraded.\n",
            "/usr/share/fonts: caching, new cache contents: 0 fonts, 1 dirs\n",
            "/usr/share/fonts/truetype: caching, new cache contents: 0 fonts, 3 dirs\n",
            "/usr/share/fonts/truetype/humor-sans: caching, new cache contents: 1 fonts, 0 dirs\n",
            "/usr/share/fonts/truetype/liberation: caching, new cache contents: 16 fonts, 0 dirs\n",
            "/usr/share/fonts/truetype/nanum: caching, new cache contents: 10 fonts, 0 dirs\n",
            "/usr/local/share/fonts: caching, new cache contents: 0 fonts, 0 dirs\n",
            "/root/.local/share/fonts: skipping, no such directory\n",
            "/root/.fonts: skipping, no such directory\n",
            "/var/cache/fontconfig: cleaning cache directory\n",
            "/root/.cache/fontconfig: not cleaning non-existent cache directory\n",
            "/root/.fontconfig: not cleaning non-existent cache directory\n",
            "fc-cache: succeeded\n"
          ]
        }
      ]
    },
    {
      "cell_type": "code",
      "source": [
        "!pip install mglearn \n",
        "!pip install --upgrade joblib==1.1.0"
      ],
      "metadata": {
        "colab": {
          "base_uri": "https://localhost:8080/"
        },
        "id": "YEdpjYcW3n2a",
        "outputId": "8458ac8c-9dce-469b-f91e-d22a6191aeb1"
      },
      "execution_count": 2,
      "outputs": [
        {
          "output_type": "stream",
          "name": "stdout",
          "text": [
            "Looking in indexes: https://pypi.org/simple, https://us-python.pkg.dev/colab-wheels/public/simple/\n",
            "Requirement already satisfied: mglearn in /usr/local/lib/python3.7/dist-packages (0.1.9)\n",
            "Requirement already satisfied: imageio in /usr/local/lib/python3.7/dist-packages (from mglearn) (2.9.0)\n",
            "Requirement already satisfied: pillow in /usr/local/lib/python3.7/dist-packages (from mglearn) (7.1.2)\n",
            "Requirement already satisfied: numpy in /usr/local/lib/python3.7/dist-packages (from mglearn) (1.21.6)\n",
            "Requirement already satisfied: matplotlib in /usr/local/lib/python3.7/dist-packages (from mglearn) (3.2.2)\n",
            "Requirement already satisfied: cycler in /usr/local/lib/python3.7/dist-packages (from mglearn) (0.11.0)\n",
            "Requirement already satisfied: scikit-learn in /usr/local/lib/python3.7/dist-packages (from mglearn) (1.0.2)\n",
            "Requirement already satisfied: pandas in /usr/local/lib/python3.7/dist-packages (from mglearn) (1.3.5)\n",
            "Requirement already satisfied: joblib in /usr/local/lib/python3.7/dist-packages (from mglearn) (1.1.0)\n",
            "Requirement already satisfied: kiwisolver>=1.0.1 in /usr/local/lib/python3.7/dist-packages (from matplotlib->mglearn) (1.4.4)\n",
            "Requirement already satisfied: pyparsing!=2.0.4,!=2.1.2,!=2.1.6,>=2.0.1 in /usr/local/lib/python3.7/dist-packages (from matplotlib->mglearn) (3.0.9)\n",
            "Requirement already satisfied: python-dateutil>=2.1 in /usr/local/lib/python3.7/dist-packages (from matplotlib->mglearn) (2.8.2)\n",
            "Requirement already satisfied: typing-extensions in /usr/local/lib/python3.7/dist-packages (from kiwisolver>=1.0.1->matplotlib->mglearn) (4.1.1)\n",
            "Requirement already satisfied: six>=1.5 in /usr/local/lib/python3.7/dist-packages (from python-dateutil>=2.1->matplotlib->mglearn) (1.15.0)\n",
            "Requirement already satisfied: pytz>=2017.3 in /usr/local/lib/python3.7/dist-packages (from pandas->mglearn) (2022.6)\n",
            "Requirement already satisfied: scipy>=1.1.0 in /usr/local/lib/python3.7/dist-packages (from scikit-learn->mglearn) (1.7.3)\n",
            "Requirement already satisfied: threadpoolctl>=2.0.0 in /usr/local/lib/python3.7/dist-packages (from scikit-learn->mglearn) (3.1.0)\n",
            "Looking in indexes: https://pypi.org/simple, https://us-python.pkg.dev/colab-wheels/public/simple/\n",
            "Requirement already satisfied: joblib==1.1.0 in /usr/local/lib/python3.7/dist-packages (1.1.0)\n"
          ]
        }
      ]
    },
    {
      "cell_type": "code",
      "source": [
        "import mglearn\n",
        "from google.colab import drive\n",
        "drive.mount('/content/drive')\n",
        "%matplotlib inline\n",
        "import pandas as pd\n",
        "import seaborn as sns          \n",
        "import matplotlib.pyplot as plt\n",
        "import numpy as np        \n",
        "import matplotlib as mpl"
      ],
      "metadata": {
        "colab": {
          "base_uri": "https://localhost:8080/"
        },
        "id": "VtOv_3bU0oCX",
        "outputId": "3528817b-4bf2-4177-cb80-d04bdf0203e2"
      },
      "execution_count": 3,
      "outputs": [
        {
          "output_type": "stream",
          "name": "stdout",
          "text": [
            "Drive already mounted at /content/drive; to attempt to forcibly remount, call drive.mount(\"/content/drive\", force_remount=True).\n"
          ]
        }
      ]
    },
    {
      "cell_type": "markdown",
      "source": [
        "\n",
        "#데이터 불러오기 및 탐색"
      ],
      "metadata": {
        "id": "9mEUmva85ucm"
      }
    },
    {
      "cell_type": "code",
      "source": [
        "health = pd.read_csv(\"/content/drive/My Drive/Colab Notebooks/ITB/health_data.csv\", encoding='utf-8')\n",
        "display(health.head()) \n",
        "print(health.info()) \n",
        "print(health.describe())"
      ],
      "metadata": {
        "colab": {
          "base_uri": "https://localhost:8080/",
          "height": 1000
        },
        "id": "MZ5ADQ0p09MT",
        "outputId": "4a2bce9e-8e50-4eef-d873-c52b5ea564af"
      },
      "execution_count": 4,
      "outputs": [
        {
          "output_type": "display_data",
          "data": {
            "text/plain": [
              "   기준년도  가입자일련번호  시도코드 성별코드  연령대코드(5세단위)  신장(5Cm단위)  체중(5Kg 단위)  허리둘레  시력(좌)  \\\n",
              "0  2020        1    36    M            9        165          60  72.1    1.2   \n",
              "1  2020        2    27    F           13        150          65  81.0    0.8   \n",
              "2  2020        3    11    F           12        155          55  70.0    0.6   \n",
              "3  2020        4    31    M           13        160          70  90.8    1.0   \n",
              "4  2020        5    41    F           12        155          50  75.2    1.5   \n",
              "\n",
              "   시력(우)  ...  혈청크레아티닌  (혈청지오티)AST  (혈청지오티)ALT  감마지티피  흡연상태  음주여부  구강검진수검여부  \\\n",
              "0    1.5  ...      1.1        21.0        27.0   21.0    No    No         0   \n",
              "1    0.8  ...      0.5        18.0        15.0   15.0    No    No         0   \n",
              "2    0.7  ...      0.7        27.0        25.0    7.0    No    No         0   \n",
              "3    1.0  ...      1.2        65.0        97.0   72.0    No    No         1   \n",
              "4    1.2  ...      0.7        18.0        17.0   14.0    No    No         0   \n",
              "\n",
              "   치아우식증유무   치석     데이터공개일자  \n",
              "0      NaN  NaN  12/29/2021  \n",
              "1      NaN  NaN  12/29/2021  \n",
              "2      NaN  NaN  12/29/2021  \n",
              "3      0.0  0.0  12/29/2021  \n",
              "4      NaN  NaN  12/29/2021  \n",
              "\n",
              "[5 rows x 31 columns]"
            ],
            "text/html": [
              "\n",
              "  <div id=\"df-7c48d7b4-476d-4879-9ea4-66a22e2bf32f\">\n",
              "    <div class=\"colab-df-container\">\n",
              "      <div>\n",
              "<style scoped>\n",
              "    .dataframe tbody tr th:only-of-type {\n",
              "        vertical-align: middle;\n",
              "    }\n",
              "\n",
              "    .dataframe tbody tr th {\n",
              "        vertical-align: top;\n",
              "    }\n",
              "\n",
              "    .dataframe thead th {\n",
              "        text-align: right;\n",
              "    }\n",
              "</style>\n",
              "<table border=\"1\" class=\"dataframe\">\n",
              "  <thead>\n",
              "    <tr style=\"text-align: right;\">\n",
              "      <th></th>\n",
              "      <th>기준년도</th>\n",
              "      <th>가입자일련번호</th>\n",
              "      <th>시도코드</th>\n",
              "      <th>성별코드</th>\n",
              "      <th>연령대코드(5세단위)</th>\n",
              "      <th>신장(5Cm단위)</th>\n",
              "      <th>체중(5Kg 단위)</th>\n",
              "      <th>허리둘레</th>\n",
              "      <th>시력(좌)</th>\n",
              "      <th>시력(우)</th>\n",
              "      <th>...</th>\n",
              "      <th>혈청크레아티닌</th>\n",
              "      <th>(혈청지오티)AST</th>\n",
              "      <th>(혈청지오티)ALT</th>\n",
              "      <th>감마지티피</th>\n",
              "      <th>흡연상태</th>\n",
              "      <th>음주여부</th>\n",
              "      <th>구강검진수검여부</th>\n",
              "      <th>치아우식증유무</th>\n",
              "      <th>치석</th>\n",
              "      <th>데이터공개일자</th>\n",
              "    </tr>\n",
              "  </thead>\n",
              "  <tbody>\n",
              "    <tr>\n",
              "      <th>0</th>\n",
              "      <td>2020</td>\n",
              "      <td>1</td>\n",
              "      <td>36</td>\n",
              "      <td>M</td>\n",
              "      <td>9</td>\n",
              "      <td>165</td>\n",
              "      <td>60</td>\n",
              "      <td>72.1</td>\n",
              "      <td>1.2</td>\n",
              "      <td>1.5</td>\n",
              "      <td>...</td>\n",
              "      <td>1.1</td>\n",
              "      <td>21.0</td>\n",
              "      <td>27.0</td>\n",
              "      <td>21.0</td>\n",
              "      <td>No</td>\n",
              "      <td>No</td>\n",
              "      <td>0</td>\n",
              "      <td>NaN</td>\n",
              "      <td>NaN</td>\n",
              "      <td>12/29/2021</td>\n",
              "    </tr>\n",
              "    <tr>\n",
              "      <th>1</th>\n",
              "      <td>2020</td>\n",
              "      <td>2</td>\n",
              "      <td>27</td>\n",
              "      <td>F</td>\n",
              "      <td>13</td>\n",
              "      <td>150</td>\n",
              "      <td>65</td>\n",
              "      <td>81.0</td>\n",
              "      <td>0.8</td>\n",
              "      <td>0.8</td>\n",
              "      <td>...</td>\n",
              "      <td>0.5</td>\n",
              "      <td>18.0</td>\n",
              "      <td>15.0</td>\n",
              "      <td>15.0</td>\n",
              "      <td>No</td>\n",
              "      <td>No</td>\n",
              "      <td>0</td>\n",
              "      <td>NaN</td>\n",
              "      <td>NaN</td>\n",
              "      <td>12/29/2021</td>\n",
              "    </tr>\n",
              "    <tr>\n",
              "      <th>2</th>\n",
              "      <td>2020</td>\n",
              "      <td>3</td>\n",
              "      <td>11</td>\n",
              "      <td>F</td>\n",
              "      <td>12</td>\n",
              "      <td>155</td>\n",
              "      <td>55</td>\n",
              "      <td>70.0</td>\n",
              "      <td>0.6</td>\n",
              "      <td>0.7</td>\n",
              "      <td>...</td>\n",
              "      <td>0.7</td>\n",
              "      <td>27.0</td>\n",
              "      <td>25.0</td>\n",
              "      <td>7.0</td>\n",
              "      <td>No</td>\n",
              "      <td>No</td>\n",
              "      <td>0</td>\n",
              "      <td>NaN</td>\n",
              "      <td>NaN</td>\n",
              "      <td>12/29/2021</td>\n",
              "    </tr>\n",
              "    <tr>\n",
              "      <th>3</th>\n",
              "      <td>2020</td>\n",
              "      <td>4</td>\n",
              "      <td>31</td>\n",
              "      <td>M</td>\n",
              "      <td>13</td>\n",
              "      <td>160</td>\n",
              "      <td>70</td>\n",
              "      <td>90.8</td>\n",
              "      <td>1.0</td>\n",
              "      <td>1.0</td>\n",
              "      <td>...</td>\n",
              "      <td>1.2</td>\n",
              "      <td>65.0</td>\n",
              "      <td>97.0</td>\n",
              "      <td>72.0</td>\n",
              "      <td>No</td>\n",
              "      <td>No</td>\n",
              "      <td>1</td>\n",
              "      <td>0.0</td>\n",
              "      <td>0.0</td>\n",
              "      <td>12/29/2021</td>\n",
              "    </tr>\n",
              "    <tr>\n",
              "      <th>4</th>\n",
              "      <td>2020</td>\n",
              "      <td>5</td>\n",
              "      <td>41</td>\n",
              "      <td>F</td>\n",
              "      <td>12</td>\n",
              "      <td>155</td>\n",
              "      <td>50</td>\n",
              "      <td>75.2</td>\n",
              "      <td>1.5</td>\n",
              "      <td>1.2</td>\n",
              "      <td>...</td>\n",
              "      <td>0.7</td>\n",
              "      <td>18.0</td>\n",
              "      <td>17.0</td>\n",
              "      <td>14.0</td>\n",
              "      <td>No</td>\n",
              "      <td>No</td>\n",
              "      <td>0</td>\n",
              "      <td>NaN</td>\n",
              "      <td>NaN</td>\n",
              "      <td>12/29/2021</td>\n",
              "    </tr>\n",
              "  </tbody>\n",
              "</table>\n",
              "<p>5 rows × 31 columns</p>\n",
              "</div>\n",
              "      <button class=\"colab-df-convert\" onclick=\"convertToInteractive('df-7c48d7b4-476d-4879-9ea4-66a22e2bf32f')\"\n",
              "              title=\"Convert this dataframe to an interactive table.\"\n",
              "              style=\"display:none;\">\n",
              "        \n",
              "  <svg xmlns=\"http://www.w3.org/2000/svg\" height=\"24px\"viewBox=\"0 0 24 24\"\n",
              "       width=\"24px\">\n",
              "    <path d=\"M0 0h24v24H0V0z\" fill=\"none\"/>\n",
              "    <path d=\"M18.56 5.44l.94 2.06.94-2.06 2.06-.94-2.06-.94-.94-2.06-.94 2.06-2.06.94zm-11 1L8.5 8.5l.94-2.06 2.06-.94-2.06-.94L8.5 2.5l-.94 2.06-2.06.94zm10 10l.94 2.06.94-2.06 2.06-.94-2.06-.94-.94-2.06-.94 2.06-2.06.94z\"/><path d=\"M17.41 7.96l-1.37-1.37c-.4-.4-.92-.59-1.43-.59-.52 0-1.04.2-1.43.59L10.3 9.45l-7.72 7.72c-.78.78-.78 2.05 0 2.83L4 21.41c.39.39.9.59 1.41.59.51 0 1.02-.2 1.41-.59l7.78-7.78 2.81-2.81c.8-.78.8-2.07 0-2.86zM5.41 20L4 18.59l7.72-7.72 1.47 1.35L5.41 20z\"/>\n",
              "  </svg>\n",
              "      </button>\n",
              "      \n",
              "  <style>\n",
              "    .colab-df-container {\n",
              "      display:flex;\n",
              "      flex-wrap:wrap;\n",
              "      gap: 12px;\n",
              "    }\n",
              "\n",
              "    .colab-df-convert {\n",
              "      background-color: #E8F0FE;\n",
              "      border: none;\n",
              "      border-radius: 50%;\n",
              "      cursor: pointer;\n",
              "      display: none;\n",
              "      fill: #1967D2;\n",
              "      height: 32px;\n",
              "      padding: 0 0 0 0;\n",
              "      width: 32px;\n",
              "    }\n",
              "\n",
              "    .colab-df-convert:hover {\n",
              "      background-color: #E2EBFA;\n",
              "      box-shadow: 0px 1px 2px rgba(60, 64, 67, 0.3), 0px 1px 3px 1px rgba(60, 64, 67, 0.15);\n",
              "      fill: #174EA6;\n",
              "    }\n",
              "\n",
              "    [theme=dark] .colab-df-convert {\n",
              "      background-color: #3B4455;\n",
              "      fill: #D2E3FC;\n",
              "    }\n",
              "\n",
              "    [theme=dark] .colab-df-convert:hover {\n",
              "      background-color: #434B5C;\n",
              "      box-shadow: 0px 1px 3px 1px rgba(0, 0, 0, 0.15);\n",
              "      filter: drop-shadow(0px 1px 2px rgba(0, 0, 0, 0.3));\n",
              "      fill: #FFFFFF;\n",
              "    }\n",
              "  </style>\n",
              "\n",
              "      <script>\n",
              "        const buttonEl =\n",
              "          document.querySelector('#df-7c48d7b4-476d-4879-9ea4-66a22e2bf32f button.colab-df-convert');\n",
              "        buttonEl.style.display =\n",
              "          google.colab.kernel.accessAllowed ? 'block' : 'none';\n",
              "\n",
              "        async function convertToInteractive(key) {\n",
              "          const element = document.querySelector('#df-7c48d7b4-476d-4879-9ea4-66a22e2bf32f');\n",
              "          const dataTable =\n",
              "            await google.colab.kernel.invokeFunction('convertToInteractive',\n",
              "                                                     [key], {});\n",
              "          if (!dataTable) return;\n",
              "\n",
              "          const docLinkHtml = 'Like what you see? Visit the ' +\n",
              "            '<a target=\"_blank\" href=https://colab.research.google.com/notebooks/data_table.ipynb>data table notebook</a>'\n",
              "            + ' to learn more about interactive tables.';\n",
              "          element.innerHTML = '';\n",
              "          dataTable['output_type'] = 'display_data';\n",
              "          await google.colab.output.renderOutput(dataTable, element);\n",
              "          const docLink = document.createElement('div');\n",
              "          docLink.innerHTML = docLinkHtml;\n",
              "          element.appendChild(docLink);\n",
              "        }\n",
              "      </script>\n",
              "    </div>\n",
              "  </div>\n",
              "  "
            ]
          },
          "metadata": {}
        },
        {
          "output_type": "stream",
          "name": "stdout",
          "text": [
            "<class 'pandas.core.frame.DataFrame'>\n",
            "RangeIndex: 10000 entries, 0 to 9999\n",
            "Data columns (total 31 columns):\n",
            " #   Column       Non-Null Count  Dtype  \n",
            "---  ------       --------------  -----  \n",
            " 0   기준년도         10000 non-null  int64  \n",
            " 1   가입자일련번호      10000 non-null  int64  \n",
            " 2   시도코드         10000 non-null  int64  \n",
            " 3   성별코드         10000 non-null  object \n",
            " 4   연령대코드(5세단위)  10000 non-null  int64  \n",
            " 5   신장(5Cm단위)    10000 non-null  int64  \n",
            " 6   체중(5Kg 단위)   10000 non-null  int64  \n",
            " 7   허리둘레         10000 non-null  float64\n",
            " 8   시력(좌)        10000 non-null  float64\n",
            " 9   시력(우)        10000 non-null  float64\n",
            " 10  청력(좌)        10000 non-null  int64  \n",
            " 11  청력(우)        10000 non-null  int64  \n",
            " 12  수축기혈압        9912 non-null   float64\n",
            " 13  이완기혈압        9912 non-null   float64\n",
            " 14  식전혈당(공복혈당)   9912 non-null   float64\n",
            " 15  총콜레스테롤       4044 non-null   float64\n",
            " 16  트리글리세라이드     4044 non-null   float64\n",
            " 17  HDL콜레스테롤     4044 non-null   float64\n",
            " 18  LDL콜레스테롤     3977 non-null   float64\n",
            " 19  혈색소          9912 non-null   float64\n",
            " 20  요단백          9861 non-null   float64\n",
            " 21  혈청크레아티닌      9912 non-null   float64\n",
            " 22  (혈청지오티)AST   9912 non-null   float64\n",
            " 23  (혈청지오티)ALT   9912 non-null   float64\n",
            " 24  감마지티피        9912 non-null   float64\n",
            " 25  흡연상태         9998 non-null   object \n",
            " 26  음주여부         9999 non-null   object \n",
            " 27  구강검진수검여부     10000 non-null  int64  \n",
            " 28  치아우식증유무      3251 non-null   float64\n",
            " 29  치석           3251 non-null   float64\n",
            " 30  데이터공개일자      10000 non-null  object \n",
            "dtypes: float64(18), int64(9), object(4)\n",
            "memory usage: 2.4+ MB\n",
            "None\n",
            "          기준년도      가입자일련번호          시도코드   연령대코드(5세단위)     신장(5Cm단위)  \\\n",
            "count  10000.0  10000.00000  10000.000000  10000.000000  10000.000000   \n",
            "mean    2020.0   5000.50000     34.100100     11.931400    160.983500   \n",
            "std        0.0   2886.89568     12.394581      2.166048      9.211608   \n",
            "min     2020.0      1.00000     11.000000      9.000000    130.000000   \n",
            "25%     2020.0   2500.75000     27.000000     10.000000    155.000000   \n",
            "50%     2020.0   5000.50000     41.000000     12.000000    160.000000   \n",
            "75%     2020.0   7500.25000     44.000000     13.000000    170.000000   \n",
            "max     2020.0  10000.00000     49.000000     18.000000    195.000000   \n",
            "\n",
            "         체중(5Kg 단위)          허리둘레         시력(좌)         시력(우)         청력(좌)  \\\n",
            "count  10000.000000  10000.000000  10000.000000  10000.000000  10000.000000   \n",
            "mean      63.034500     82.366100      0.933750      0.936750      1.050500   \n",
            "std       12.205294      9.561973      0.662057      0.641378      0.227936   \n",
            "min       30.000000     53.000000      0.100000      0.100000      1.000000   \n",
            "25%       55.000000     76.000000      0.700000      0.700000      1.000000   \n",
            "50%       60.000000     82.000000      0.900000      0.900000      1.000000   \n",
            "75%       70.000000     88.900000      1.200000      1.200000      1.000000   \n",
            "max      130.000000    134.000000      9.900000      9.900000      3.000000   \n",
            "\n",
            "       ...     LDL콜레스테롤          혈색소          요단백      혈청크레아티닌  (혈청지오티)AST  \\\n",
            "count  ...  3977.000000  9912.000000  9861.000000  9912.000000  9912.00000   \n",
            "mean   ...   116.263264    14.214255     1.119461     0.848484    27.58979   \n",
            "std    ...    37.829955     1.555386     0.489782     0.301012    17.88442   \n",
            "min    ...    13.000000     5.100000     1.000000     0.050000     3.00000   \n",
            "25%    ...    89.000000    13.200000     1.000000     0.700000    20.00000   \n",
            "50%    ...   115.000000    14.200000     1.000000     0.800000    24.00000   \n",
            "75%    ...   141.000000    15.300000     1.000000     1.000000    30.00000   \n",
            "max    ...   297.000000    20.000000     6.000000     9.200000   692.00000   \n",
            "\n",
            "        (혈청지오티)ALT        감마지티피      구강검진수검여부      치아우식증유무           치석  \n",
            "count  9912.000000  9912.000000  10000.000000  3251.000000  3251.000000  \n",
            "mean     26.789851    38.098668      0.325100     0.175331     0.579514  \n",
            "std      23.735687    58.184579      0.468436     0.380308     0.591269  \n",
            "min       2.000000     3.000000      0.000000     0.000000     0.000000  \n",
            "25%      16.000000    16.000000      0.000000     0.000000     0.000000  \n",
            "50%      21.000000    24.000000      0.000000     0.000000     1.000000  \n",
            "75%      31.000000    39.000000      1.000000     0.000000     1.000000  \n",
            "max    1146.000000  2322.000000      1.000000     1.000000     2.000000  \n",
            "\n",
            "[8 rows x 27 columns]\n"
          ]
        }
      ]
    },
    {
      "cell_type": "code",
      "source": [
        "health.describe()"
      ],
      "metadata": {
        "colab": {
          "base_uri": "https://localhost:8080/",
          "height": 411
        },
        "id": "5kVfS2hU1VJL",
        "outputId": "3a156fac-c05f-4953-cc57-8a79e8595ce9"
      },
      "execution_count": 5,
      "outputs": [
        {
          "output_type": "execute_result",
          "data": {
            "text/plain": [
              "          기준년도      가입자일련번호          시도코드   연령대코드(5세단위)     신장(5Cm단위)  \\\n",
              "count  10000.0  10000.00000  10000.000000  10000.000000  10000.000000   \n",
              "mean    2020.0   5000.50000     34.100100     11.931400    160.983500   \n",
              "std        0.0   2886.89568     12.394581      2.166048      9.211608   \n",
              "min     2020.0      1.00000     11.000000      9.000000    130.000000   \n",
              "25%     2020.0   2500.75000     27.000000     10.000000    155.000000   \n",
              "50%     2020.0   5000.50000     41.000000     12.000000    160.000000   \n",
              "75%     2020.0   7500.25000     44.000000     13.000000    170.000000   \n",
              "max     2020.0  10000.00000     49.000000     18.000000    195.000000   \n",
              "\n",
              "         체중(5Kg 단위)          허리둘레         시력(좌)         시력(우)         청력(좌)  \\\n",
              "count  10000.000000  10000.000000  10000.000000  10000.000000  10000.000000   \n",
              "mean      63.034500     82.366100      0.933750      0.936750      1.050500   \n",
              "std       12.205294      9.561973      0.662057      0.641378      0.227936   \n",
              "min       30.000000     53.000000      0.100000      0.100000      1.000000   \n",
              "25%       55.000000     76.000000      0.700000      0.700000      1.000000   \n",
              "50%       60.000000     82.000000      0.900000      0.900000      1.000000   \n",
              "75%       70.000000     88.900000      1.200000      1.200000      1.000000   \n",
              "max      130.000000    134.000000      9.900000      9.900000      3.000000   \n",
              "\n",
              "       ...     LDL콜레스테롤          혈색소          요단백      혈청크레아티닌  (혈청지오티)AST  \\\n",
              "count  ...  3977.000000  9912.000000  9861.000000  9912.000000  9912.00000   \n",
              "mean   ...   116.263264    14.214255     1.119461     0.848484    27.58979   \n",
              "std    ...    37.829955     1.555386     0.489782     0.301012    17.88442   \n",
              "min    ...    13.000000     5.100000     1.000000     0.050000     3.00000   \n",
              "25%    ...    89.000000    13.200000     1.000000     0.700000    20.00000   \n",
              "50%    ...   115.000000    14.200000     1.000000     0.800000    24.00000   \n",
              "75%    ...   141.000000    15.300000     1.000000     1.000000    30.00000   \n",
              "max    ...   297.000000    20.000000     6.000000     9.200000   692.00000   \n",
              "\n",
              "        (혈청지오티)ALT        감마지티피      구강검진수검여부      치아우식증유무           치석  \n",
              "count  9912.000000  9912.000000  10000.000000  3251.000000  3251.000000  \n",
              "mean     26.789851    38.098668      0.325100     0.175331     0.579514  \n",
              "std      23.735687    58.184579      0.468436     0.380308     0.591269  \n",
              "min       2.000000     3.000000      0.000000     0.000000     0.000000  \n",
              "25%      16.000000    16.000000      0.000000     0.000000     0.000000  \n",
              "50%      21.000000    24.000000      0.000000     0.000000     1.000000  \n",
              "75%      31.000000    39.000000      1.000000     0.000000     1.000000  \n",
              "max    1146.000000  2322.000000      1.000000     1.000000     2.000000  \n",
              "\n",
              "[8 rows x 27 columns]"
            ],
            "text/html": [
              "\n",
              "  <div id=\"df-23e1e6ab-6a03-416a-bfa5-f1ffe02e7fb6\">\n",
              "    <div class=\"colab-df-container\">\n",
              "      <div>\n",
              "<style scoped>\n",
              "    .dataframe tbody tr th:only-of-type {\n",
              "        vertical-align: middle;\n",
              "    }\n",
              "\n",
              "    .dataframe tbody tr th {\n",
              "        vertical-align: top;\n",
              "    }\n",
              "\n",
              "    .dataframe thead th {\n",
              "        text-align: right;\n",
              "    }\n",
              "</style>\n",
              "<table border=\"1\" class=\"dataframe\">\n",
              "  <thead>\n",
              "    <tr style=\"text-align: right;\">\n",
              "      <th></th>\n",
              "      <th>기준년도</th>\n",
              "      <th>가입자일련번호</th>\n",
              "      <th>시도코드</th>\n",
              "      <th>연령대코드(5세단위)</th>\n",
              "      <th>신장(5Cm단위)</th>\n",
              "      <th>체중(5Kg 단위)</th>\n",
              "      <th>허리둘레</th>\n",
              "      <th>시력(좌)</th>\n",
              "      <th>시력(우)</th>\n",
              "      <th>청력(좌)</th>\n",
              "      <th>...</th>\n",
              "      <th>LDL콜레스테롤</th>\n",
              "      <th>혈색소</th>\n",
              "      <th>요단백</th>\n",
              "      <th>혈청크레아티닌</th>\n",
              "      <th>(혈청지오티)AST</th>\n",
              "      <th>(혈청지오티)ALT</th>\n",
              "      <th>감마지티피</th>\n",
              "      <th>구강검진수검여부</th>\n",
              "      <th>치아우식증유무</th>\n",
              "      <th>치석</th>\n",
              "    </tr>\n",
              "  </thead>\n",
              "  <tbody>\n",
              "    <tr>\n",
              "      <th>count</th>\n",
              "      <td>10000.0</td>\n",
              "      <td>10000.00000</td>\n",
              "      <td>10000.000000</td>\n",
              "      <td>10000.000000</td>\n",
              "      <td>10000.000000</td>\n",
              "      <td>10000.000000</td>\n",
              "      <td>10000.000000</td>\n",
              "      <td>10000.000000</td>\n",
              "      <td>10000.000000</td>\n",
              "      <td>10000.000000</td>\n",
              "      <td>...</td>\n",
              "      <td>3977.000000</td>\n",
              "      <td>9912.000000</td>\n",
              "      <td>9861.000000</td>\n",
              "      <td>9912.000000</td>\n",
              "      <td>9912.00000</td>\n",
              "      <td>9912.000000</td>\n",
              "      <td>9912.000000</td>\n",
              "      <td>10000.000000</td>\n",
              "      <td>3251.000000</td>\n",
              "      <td>3251.000000</td>\n",
              "    </tr>\n",
              "    <tr>\n",
              "      <th>mean</th>\n",
              "      <td>2020.0</td>\n",
              "      <td>5000.50000</td>\n",
              "      <td>34.100100</td>\n",
              "      <td>11.931400</td>\n",
              "      <td>160.983500</td>\n",
              "      <td>63.034500</td>\n",
              "      <td>82.366100</td>\n",
              "      <td>0.933750</td>\n",
              "      <td>0.936750</td>\n",
              "      <td>1.050500</td>\n",
              "      <td>...</td>\n",
              "      <td>116.263264</td>\n",
              "      <td>14.214255</td>\n",
              "      <td>1.119461</td>\n",
              "      <td>0.848484</td>\n",
              "      <td>27.58979</td>\n",
              "      <td>26.789851</td>\n",
              "      <td>38.098668</td>\n",
              "      <td>0.325100</td>\n",
              "      <td>0.175331</td>\n",
              "      <td>0.579514</td>\n",
              "    </tr>\n",
              "    <tr>\n",
              "      <th>std</th>\n",
              "      <td>0.0</td>\n",
              "      <td>2886.89568</td>\n",
              "      <td>12.394581</td>\n",
              "      <td>2.166048</td>\n",
              "      <td>9.211608</td>\n",
              "      <td>12.205294</td>\n",
              "      <td>9.561973</td>\n",
              "      <td>0.662057</td>\n",
              "      <td>0.641378</td>\n",
              "      <td>0.227936</td>\n",
              "      <td>...</td>\n",
              "      <td>37.829955</td>\n",
              "      <td>1.555386</td>\n",
              "      <td>0.489782</td>\n",
              "      <td>0.301012</td>\n",
              "      <td>17.88442</td>\n",
              "      <td>23.735687</td>\n",
              "      <td>58.184579</td>\n",
              "      <td>0.468436</td>\n",
              "      <td>0.380308</td>\n",
              "      <td>0.591269</td>\n",
              "    </tr>\n",
              "    <tr>\n",
              "      <th>min</th>\n",
              "      <td>2020.0</td>\n",
              "      <td>1.00000</td>\n",
              "      <td>11.000000</td>\n",
              "      <td>9.000000</td>\n",
              "      <td>130.000000</td>\n",
              "      <td>30.000000</td>\n",
              "      <td>53.000000</td>\n",
              "      <td>0.100000</td>\n",
              "      <td>0.100000</td>\n",
              "      <td>1.000000</td>\n",
              "      <td>...</td>\n",
              "      <td>13.000000</td>\n",
              "      <td>5.100000</td>\n",
              "      <td>1.000000</td>\n",
              "      <td>0.050000</td>\n",
              "      <td>3.00000</td>\n",
              "      <td>2.000000</td>\n",
              "      <td>3.000000</td>\n",
              "      <td>0.000000</td>\n",
              "      <td>0.000000</td>\n",
              "      <td>0.000000</td>\n",
              "    </tr>\n",
              "    <tr>\n",
              "      <th>25%</th>\n",
              "      <td>2020.0</td>\n",
              "      <td>2500.75000</td>\n",
              "      <td>27.000000</td>\n",
              "      <td>10.000000</td>\n",
              "      <td>155.000000</td>\n",
              "      <td>55.000000</td>\n",
              "      <td>76.000000</td>\n",
              "      <td>0.700000</td>\n",
              "      <td>0.700000</td>\n",
              "      <td>1.000000</td>\n",
              "      <td>...</td>\n",
              "      <td>89.000000</td>\n",
              "      <td>13.200000</td>\n",
              "      <td>1.000000</td>\n",
              "      <td>0.700000</td>\n",
              "      <td>20.00000</td>\n",
              "      <td>16.000000</td>\n",
              "      <td>16.000000</td>\n",
              "      <td>0.000000</td>\n",
              "      <td>0.000000</td>\n",
              "      <td>0.000000</td>\n",
              "    </tr>\n",
              "    <tr>\n",
              "      <th>50%</th>\n",
              "      <td>2020.0</td>\n",
              "      <td>5000.50000</td>\n",
              "      <td>41.000000</td>\n",
              "      <td>12.000000</td>\n",
              "      <td>160.000000</td>\n",
              "      <td>60.000000</td>\n",
              "      <td>82.000000</td>\n",
              "      <td>0.900000</td>\n",
              "      <td>0.900000</td>\n",
              "      <td>1.000000</td>\n",
              "      <td>...</td>\n",
              "      <td>115.000000</td>\n",
              "      <td>14.200000</td>\n",
              "      <td>1.000000</td>\n",
              "      <td>0.800000</td>\n",
              "      <td>24.00000</td>\n",
              "      <td>21.000000</td>\n",
              "      <td>24.000000</td>\n",
              "      <td>0.000000</td>\n",
              "      <td>0.000000</td>\n",
              "      <td>1.000000</td>\n",
              "    </tr>\n",
              "    <tr>\n",
              "      <th>75%</th>\n",
              "      <td>2020.0</td>\n",
              "      <td>7500.25000</td>\n",
              "      <td>44.000000</td>\n",
              "      <td>13.000000</td>\n",
              "      <td>170.000000</td>\n",
              "      <td>70.000000</td>\n",
              "      <td>88.900000</td>\n",
              "      <td>1.200000</td>\n",
              "      <td>1.200000</td>\n",
              "      <td>1.000000</td>\n",
              "      <td>...</td>\n",
              "      <td>141.000000</td>\n",
              "      <td>15.300000</td>\n",
              "      <td>1.000000</td>\n",
              "      <td>1.000000</td>\n",
              "      <td>30.00000</td>\n",
              "      <td>31.000000</td>\n",
              "      <td>39.000000</td>\n",
              "      <td>1.000000</td>\n",
              "      <td>0.000000</td>\n",
              "      <td>1.000000</td>\n",
              "    </tr>\n",
              "    <tr>\n",
              "      <th>max</th>\n",
              "      <td>2020.0</td>\n",
              "      <td>10000.00000</td>\n",
              "      <td>49.000000</td>\n",
              "      <td>18.000000</td>\n",
              "      <td>195.000000</td>\n",
              "      <td>130.000000</td>\n",
              "      <td>134.000000</td>\n",
              "      <td>9.900000</td>\n",
              "      <td>9.900000</td>\n",
              "      <td>3.000000</td>\n",
              "      <td>...</td>\n",
              "      <td>297.000000</td>\n",
              "      <td>20.000000</td>\n",
              "      <td>6.000000</td>\n",
              "      <td>9.200000</td>\n",
              "      <td>692.00000</td>\n",
              "      <td>1146.000000</td>\n",
              "      <td>2322.000000</td>\n",
              "      <td>1.000000</td>\n",
              "      <td>1.000000</td>\n",
              "      <td>2.000000</td>\n",
              "    </tr>\n",
              "  </tbody>\n",
              "</table>\n",
              "<p>8 rows × 27 columns</p>\n",
              "</div>\n",
              "      <button class=\"colab-df-convert\" onclick=\"convertToInteractive('df-23e1e6ab-6a03-416a-bfa5-f1ffe02e7fb6')\"\n",
              "              title=\"Convert this dataframe to an interactive table.\"\n",
              "              style=\"display:none;\">\n",
              "        \n",
              "  <svg xmlns=\"http://www.w3.org/2000/svg\" height=\"24px\"viewBox=\"0 0 24 24\"\n",
              "       width=\"24px\">\n",
              "    <path d=\"M0 0h24v24H0V0z\" fill=\"none\"/>\n",
              "    <path d=\"M18.56 5.44l.94 2.06.94-2.06 2.06-.94-2.06-.94-.94-2.06-.94 2.06-2.06.94zm-11 1L8.5 8.5l.94-2.06 2.06-.94-2.06-.94L8.5 2.5l-.94 2.06-2.06.94zm10 10l.94 2.06.94-2.06 2.06-.94-2.06-.94-.94-2.06-.94 2.06-2.06.94z\"/><path d=\"M17.41 7.96l-1.37-1.37c-.4-.4-.92-.59-1.43-.59-.52 0-1.04.2-1.43.59L10.3 9.45l-7.72 7.72c-.78.78-.78 2.05 0 2.83L4 21.41c.39.39.9.59 1.41.59.51 0 1.02-.2 1.41-.59l7.78-7.78 2.81-2.81c.8-.78.8-2.07 0-2.86zM5.41 20L4 18.59l7.72-7.72 1.47 1.35L5.41 20z\"/>\n",
              "  </svg>\n",
              "      </button>\n",
              "      \n",
              "  <style>\n",
              "    .colab-df-container {\n",
              "      display:flex;\n",
              "      flex-wrap:wrap;\n",
              "      gap: 12px;\n",
              "    }\n",
              "\n",
              "    .colab-df-convert {\n",
              "      background-color: #E8F0FE;\n",
              "      border: none;\n",
              "      border-radius: 50%;\n",
              "      cursor: pointer;\n",
              "      display: none;\n",
              "      fill: #1967D2;\n",
              "      height: 32px;\n",
              "      padding: 0 0 0 0;\n",
              "      width: 32px;\n",
              "    }\n",
              "\n",
              "    .colab-df-convert:hover {\n",
              "      background-color: #E2EBFA;\n",
              "      box-shadow: 0px 1px 2px rgba(60, 64, 67, 0.3), 0px 1px 3px 1px rgba(60, 64, 67, 0.15);\n",
              "      fill: #174EA6;\n",
              "    }\n",
              "\n",
              "    [theme=dark] .colab-df-convert {\n",
              "      background-color: #3B4455;\n",
              "      fill: #D2E3FC;\n",
              "    }\n",
              "\n",
              "    [theme=dark] .colab-df-convert:hover {\n",
              "      background-color: #434B5C;\n",
              "      box-shadow: 0px 1px 3px 1px rgba(0, 0, 0, 0.15);\n",
              "      filter: drop-shadow(0px 1px 2px rgba(0, 0, 0, 0.3));\n",
              "      fill: #FFFFFF;\n",
              "    }\n",
              "  </style>\n",
              "\n",
              "      <script>\n",
              "        const buttonEl =\n",
              "          document.querySelector('#df-23e1e6ab-6a03-416a-bfa5-f1ffe02e7fb6 button.colab-df-convert');\n",
              "        buttonEl.style.display =\n",
              "          google.colab.kernel.accessAllowed ? 'block' : 'none';\n",
              "\n",
              "        async function convertToInteractive(key) {\n",
              "          const element = document.querySelector('#df-23e1e6ab-6a03-416a-bfa5-f1ffe02e7fb6');\n",
              "          const dataTable =\n",
              "            await google.colab.kernel.invokeFunction('convertToInteractive',\n",
              "                                                     [key], {});\n",
              "          if (!dataTable) return;\n",
              "\n",
              "          const docLinkHtml = 'Like what you see? Visit the ' +\n",
              "            '<a target=\"_blank\" href=https://colab.research.google.com/notebooks/data_table.ipynb>data table notebook</a>'\n",
              "            + ' to learn more about interactive tables.';\n",
              "          element.innerHTML = '';\n",
              "          dataTable['output_type'] = 'display_data';\n",
              "          await google.colab.output.renderOutput(dataTable, element);\n",
              "          const docLink = document.createElement('div');\n",
              "          docLink.innerHTML = docLinkHtml;\n",
              "          element.appendChild(docLink);\n",
              "        }\n",
              "      </script>\n",
              "    </div>\n",
              "  </div>\n",
              "  "
            ]
          },
          "metadata": {},
          "execution_count": 5
        }
      ]
    },
    {
      "cell_type": "markdown",
      "source": [
        "###비만도에 따라 분류\n",
        "###bmi 파생변수 만들기"
      ],
      "metadata": {
        "id": "5_OHgqqH3FU-"
      }
    },
    {
      "cell_type": "code",
      "source": [
        "#변수명 바꾸기\n",
        "health_new = health.copy()\n",
        "health_new = health_new.rename(columns = {'체중(5Kg 단위)' : '체중'})\n",
        "health_new = health_new.rename(columns = {'신장(5Cm단위)' : '신장'})\n",
        "\n",
        "#파생변수 만들기 비만도 \n",
        "health_new['bmi'] = health_new['체중'] / (health_new['신장']/100)**2\n",
        "health_new['bmi_grade'] = np.where(health_new['bmi']>=35, '고도비만',\n",
        "                          np.where(health_new['bmi']>=30, '2비만',\n",
        "                          np.where(health_new['bmi']>=25, '1비만',\n",
        "                          np.where(health_new['bmi']>=23, '과체중',\n",
        "                          np.where(health_new['bmi']>=18.6, '정상','저체중')))))\n",
        "display(health_new.head())"
      ],
      "metadata": {
        "colab": {
          "base_uri": "https://localhost:8080/",
          "height": 332
        },
        "id": "u3LvJ0gp32Iz",
        "outputId": "4a0f01c8-535b-4a81-aeef-0465b7b1e5da"
      },
      "execution_count": 6,
      "outputs": [
        {
          "output_type": "display_data",
          "data": {
            "text/plain": [
              "   기준년도  가입자일련번호  시도코드 성별코드  연령대코드(5세단위)   신장  체중  허리둘레  시력(좌)  시력(우)  ...  \\\n",
              "0  2020        1    36    M            9  165  60  72.1    1.2    1.5  ...   \n",
              "1  2020        2    27    F           13  150  65  81.0    0.8    0.8  ...   \n",
              "2  2020        3    11    F           12  155  55  70.0    0.6    0.7  ...   \n",
              "3  2020        4    31    M           13  160  70  90.8    1.0    1.0  ...   \n",
              "4  2020        5    41    F           12  155  50  75.2    1.5    1.2  ...   \n",
              "\n",
              "   (혈청지오티)ALT  감마지티피  흡연상태  음주여부  구강검진수검여부  치아우식증유무   치석     데이터공개일자  \\\n",
              "0        27.0   21.0    No    No         0      NaN  NaN  12/29/2021   \n",
              "1        15.0   15.0    No    No         0      NaN  NaN  12/29/2021   \n",
              "2        25.0    7.0    No    No         0      NaN  NaN  12/29/2021   \n",
              "3        97.0   72.0    No    No         1      0.0  0.0  12/29/2021   \n",
              "4        17.0   14.0    No    No         0      NaN  NaN  12/29/2021   \n",
              "\n",
              "         bmi  bmi_grade  \n",
              "0  22.038567         정상  \n",
              "1  28.888889        1비만  \n",
              "2  22.892820         정상  \n",
              "3  27.343750        1비만  \n",
              "4  20.811655         정상  \n",
              "\n",
              "[5 rows x 33 columns]"
            ],
            "text/html": [
              "\n",
              "  <div id=\"df-33055e07-ee67-424c-a3be-a7fd8c7b085c\">\n",
              "    <div class=\"colab-df-container\">\n",
              "      <div>\n",
              "<style scoped>\n",
              "    .dataframe tbody tr th:only-of-type {\n",
              "        vertical-align: middle;\n",
              "    }\n",
              "\n",
              "    .dataframe tbody tr th {\n",
              "        vertical-align: top;\n",
              "    }\n",
              "\n",
              "    .dataframe thead th {\n",
              "        text-align: right;\n",
              "    }\n",
              "</style>\n",
              "<table border=\"1\" class=\"dataframe\">\n",
              "  <thead>\n",
              "    <tr style=\"text-align: right;\">\n",
              "      <th></th>\n",
              "      <th>기준년도</th>\n",
              "      <th>가입자일련번호</th>\n",
              "      <th>시도코드</th>\n",
              "      <th>성별코드</th>\n",
              "      <th>연령대코드(5세단위)</th>\n",
              "      <th>신장</th>\n",
              "      <th>체중</th>\n",
              "      <th>허리둘레</th>\n",
              "      <th>시력(좌)</th>\n",
              "      <th>시력(우)</th>\n",
              "      <th>...</th>\n",
              "      <th>(혈청지오티)ALT</th>\n",
              "      <th>감마지티피</th>\n",
              "      <th>흡연상태</th>\n",
              "      <th>음주여부</th>\n",
              "      <th>구강검진수검여부</th>\n",
              "      <th>치아우식증유무</th>\n",
              "      <th>치석</th>\n",
              "      <th>데이터공개일자</th>\n",
              "      <th>bmi</th>\n",
              "      <th>bmi_grade</th>\n",
              "    </tr>\n",
              "  </thead>\n",
              "  <tbody>\n",
              "    <tr>\n",
              "      <th>0</th>\n",
              "      <td>2020</td>\n",
              "      <td>1</td>\n",
              "      <td>36</td>\n",
              "      <td>M</td>\n",
              "      <td>9</td>\n",
              "      <td>165</td>\n",
              "      <td>60</td>\n",
              "      <td>72.1</td>\n",
              "      <td>1.2</td>\n",
              "      <td>1.5</td>\n",
              "      <td>...</td>\n",
              "      <td>27.0</td>\n",
              "      <td>21.0</td>\n",
              "      <td>No</td>\n",
              "      <td>No</td>\n",
              "      <td>0</td>\n",
              "      <td>NaN</td>\n",
              "      <td>NaN</td>\n",
              "      <td>12/29/2021</td>\n",
              "      <td>22.038567</td>\n",
              "      <td>정상</td>\n",
              "    </tr>\n",
              "    <tr>\n",
              "      <th>1</th>\n",
              "      <td>2020</td>\n",
              "      <td>2</td>\n",
              "      <td>27</td>\n",
              "      <td>F</td>\n",
              "      <td>13</td>\n",
              "      <td>150</td>\n",
              "      <td>65</td>\n",
              "      <td>81.0</td>\n",
              "      <td>0.8</td>\n",
              "      <td>0.8</td>\n",
              "      <td>...</td>\n",
              "      <td>15.0</td>\n",
              "      <td>15.0</td>\n",
              "      <td>No</td>\n",
              "      <td>No</td>\n",
              "      <td>0</td>\n",
              "      <td>NaN</td>\n",
              "      <td>NaN</td>\n",
              "      <td>12/29/2021</td>\n",
              "      <td>28.888889</td>\n",
              "      <td>1비만</td>\n",
              "    </tr>\n",
              "    <tr>\n",
              "      <th>2</th>\n",
              "      <td>2020</td>\n",
              "      <td>3</td>\n",
              "      <td>11</td>\n",
              "      <td>F</td>\n",
              "      <td>12</td>\n",
              "      <td>155</td>\n",
              "      <td>55</td>\n",
              "      <td>70.0</td>\n",
              "      <td>0.6</td>\n",
              "      <td>0.7</td>\n",
              "      <td>...</td>\n",
              "      <td>25.0</td>\n",
              "      <td>7.0</td>\n",
              "      <td>No</td>\n",
              "      <td>No</td>\n",
              "      <td>0</td>\n",
              "      <td>NaN</td>\n",
              "      <td>NaN</td>\n",
              "      <td>12/29/2021</td>\n",
              "      <td>22.892820</td>\n",
              "      <td>정상</td>\n",
              "    </tr>\n",
              "    <tr>\n",
              "      <th>3</th>\n",
              "      <td>2020</td>\n",
              "      <td>4</td>\n",
              "      <td>31</td>\n",
              "      <td>M</td>\n",
              "      <td>13</td>\n",
              "      <td>160</td>\n",
              "      <td>70</td>\n",
              "      <td>90.8</td>\n",
              "      <td>1.0</td>\n",
              "      <td>1.0</td>\n",
              "      <td>...</td>\n",
              "      <td>97.0</td>\n",
              "      <td>72.0</td>\n",
              "      <td>No</td>\n",
              "      <td>No</td>\n",
              "      <td>1</td>\n",
              "      <td>0.0</td>\n",
              "      <td>0.0</td>\n",
              "      <td>12/29/2021</td>\n",
              "      <td>27.343750</td>\n",
              "      <td>1비만</td>\n",
              "    </tr>\n",
              "    <tr>\n",
              "      <th>4</th>\n",
              "      <td>2020</td>\n",
              "      <td>5</td>\n",
              "      <td>41</td>\n",
              "      <td>F</td>\n",
              "      <td>12</td>\n",
              "      <td>155</td>\n",
              "      <td>50</td>\n",
              "      <td>75.2</td>\n",
              "      <td>1.5</td>\n",
              "      <td>1.2</td>\n",
              "      <td>...</td>\n",
              "      <td>17.0</td>\n",
              "      <td>14.0</td>\n",
              "      <td>No</td>\n",
              "      <td>No</td>\n",
              "      <td>0</td>\n",
              "      <td>NaN</td>\n",
              "      <td>NaN</td>\n",
              "      <td>12/29/2021</td>\n",
              "      <td>20.811655</td>\n",
              "      <td>정상</td>\n",
              "    </tr>\n",
              "  </tbody>\n",
              "</table>\n",
              "<p>5 rows × 33 columns</p>\n",
              "</div>\n",
              "      <button class=\"colab-df-convert\" onclick=\"convertToInteractive('df-33055e07-ee67-424c-a3be-a7fd8c7b085c')\"\n",
              "              title=\"Convert this dataframe to an interactive table.\"\n",
              "              style=\"display:none;\">\n",
              "        \n",
              "  <svg xmlns=\"http://www.w3.org/2000/svg\" height=\"24px\"viewBox=\"0 0 24 24\"\n",
              "       width=\"24px\">\n",
              "    <path d=\"M0 0h24v24H0V0z\" fill=\"none\"/>\n",
              "    <path d=\"M18.56 5.44l.94 2.06.94-2.06 2.06-.94-2.06-.94-.94-2.06-.94 2.06-2.06.94zm-11 1L8.5 8.5l.94-2.06 2.06-.94-2.06-.94L8.5 2.5l-.94 2.06-2.06.94zm10 10l.94 2.06.94-2.06 2.06-.94-2.06-.94-.94-2.06-.94 2.06-2.06.94z\"/><path d=\"M17.41 7.96l-1.37-1.37c-.4-.4-.92-.59-1.43-.59-.52 0-1.04.2-1.43.59L10.3 9.45l-7.72 7.72c-.78.78-.78 2.05 0 2.83L4 21.41c.39.39.9.59 1.41.59.51 0 1.02-.2 1.41-.59l7.78-7.78 2.81-2.81c.8-.78.8-2.07 0-2.86zM5.41 20L4 18.59l7.72-7.72 1.47 1.35L5.41 20z\"/>\n",
              "  </svg>\n",
              "      </button>\n",
              "      \n",
              "  <style>\n",
              "    .colab-df-container {\n",
              "      display:flex;\n",
              "      flex-wrap:wrap;\n",
              "      gap: 12px;\n",
              "    }\n",
              "\n",
              "    .colab-df-convert {\n",
              "      background-color: #E8F0FE;\n",
              "      border: none;\n",
              "      border-radius: 50%;\n",
              "      cursor: pointer;\n",
              "      display: none;\n",
              "      fill: #1967D2;\n",
              "      height: 32px;\n",
              "      padding: 0 0 0 0;\n",
              "      width: 32px;\n",
              "    }\n",
              "\n",
              "    .colab-df-convert:hover {\n",
              "      background-color: #E2EBFA;\n",
              "      box-shadow: 0px 1px 2px rgba(60, 64, 67, 0.3), 0px 1px 3px 1px rgba(60, 64, 67, 0.15);\n",
              "      fill: #174EA6;\n",
              "    }\n",
              "\n",
              "    [theme=dark] .colab-df-convert {\n",
              "      background-color: #3B4455;\n",
              "      fill: #D2E3FC;\n",
              "    }\n",
              "\n",
              "    [theme=dark] .colab-df-convert:hover {\n",
              "      background-color: #434B5C;\n",
              "      box-shadow: 0px 1px 3px 1px rgba(0, 0, 0, 0.15);\n",
              "      filter: drop-shadow(0px 1px 2px rgba(0, 0, 0, 0.3));\n",
              "      fill: #FFFFFF;\n",
              "    }\n",
              "  </style>\n",
              "\n",
              "      <script>\n",
              "        const buttonEl =\n",
              "          document.querySelector('#df-33055e07-ee67-424c-a3be-a7fd8c7b085c button.colab-df-convert');\n",
              "        buttonEl.style.display =\n",
              "          google.colab.kernel.accessAllowed ? 'block' : 'none';\n",
              "\n",
              "        async function convertToInteractive(key) {\n",
              "          const element = document.querySelector('#df-33055e07-ee67-424c-a3be-a7fd8c7b085c');\n",
              "          const dataTable =\n",
              "            await google.colab.kernel.invokeFunction('convertToInteractive',\n",
              "                                                     [key], {});\n",
              "          if (!dataTable) return;\n",
              "\n",
              "          const docLinkHtml = 'Like what you see? Visit the ' +\n",
              "            '<a target=\"_blank\" href=https://colab.research.google.com/notebooks/data_table.ipynb>data table notebook</a>'\n",
              "            + ' to learn more about interactive tables.';\n",
              "          element.innerHTML = '';\n",
              "          dataTable['output_type'] = 'display_data';\n",
              "          await google.colab.output.renderOutput(dataTable, element);\n",
              "          const docLink = document.createElement('div');\n",
              "          docLink.innerHTML = docLinkHtml;\n",
              "          element.appendChild(docLink);\n",
              "        }\n",
              "      </script>\n",
              "    </div>\n",
              "  </div>\n",
              "  "
            ]
          },
          "metadata": {}
        }
      ]
    },
    {
      "cell_type": "markdown",
      "source": [
        "##결측치 처리"
      ],
      "metadata": {
        "id": "3AJ_vr0k59dT"
      }
    },
    {
      "cell_type": "code",
      "source": [
        "display(health_new.shape) \n",
        "display(health_new.info()) \n",
        "display(health_new.isna().sum())"
      ],
      "metadata": {
        "colab": {
          "base_uri": "https://localhost:8080/",
          "height": 1000
        },
        "id": "B_Fogxpg4KRv",
        "outputId": "f14f71e1-165b-45bc-9ad2-a0a04550c8a3"
      },
      "execution_count": 7,
      "outputs": [
        {
          "output_type": "display_data",
          "data": {
            "text/plain": [
              "(10000, 33)"
            ]
          },
          "metadata": {}
        },
        {
          "output_type": "stream",
          "name": "stdout",
          "text": [
            "<class 'pandas.core.frame.DataFrame'>\n",
            "RangeIndex: 10000 entries, 0 to 9999\n",
            "Data columns (total 33 columns):\n",
            " #   Column       Non-Null Count  Dtype  \n",
            "---  ------       --------------  -----  \n",
            " 0   기준년도         10000 non-null  int64  \n",
            " 1   가입자일련번호      10000 non-null  int64  \n",
            " 2   시도코드         10000 non-null  int64  \n",
            " 3   성별코드         10000 non-null  object \n",
            " 4   연령대코드(5세단위)  10000 non-null  int64  \n",
            " 5   신장           10000 non-null  int64  \n",
            " 6   체중           10000 non-null  int64  \n",
            " 7   허리둘레         10000 non-null  float64\n",
            " 8   시력(좌)        10000 non-null  float64\n",
            " 9   시력(우)        10000 non-null  float64\n",
            " 10  청력(좌)        10000 non-null  int64  \n",
            " 11  청력(우)        10000 non-null  int64  \n",
            " 12  수축기혈압        9912 non-null   float64\n",
            " 13  이완기혈압        9912 non-null   float64\n",
            " 14  식전혈당(공복혈당)   9912 non-null   float64\n",
            " 15  총콜레스테롤       4044 non-null   float64\n",
            " 16  트리글리세라이드     4044 non-null   float64\n",
            " 17  HDL콜레스테롤     4044 non-null   float64\n",
            " 18  LDL콜레스테롤     3977 non-null   float64\n",
            " 19  혈색소          9912 non-null   float64\n",
            " 20  요단백          9861 non-null   float64\n",
            " 21  혈청크레아티닌      9912 non-null   float64\n",
            " 22  (혈청지오티)AST   9912 non-null   float64\n",
            " 23  (혈청지오티)ALT   9912 non-null   float64\n",
            " 24  감마지티피        9912 non-null   float64\n",
            " 25  흡연상태         9998 non-null   object \n",
            " 26  음주여부         9999 non-null   object \n",
            " 27  구강검진수검여부     10000 non-null  int64  \n",
            " 28  치아우식증유무      3251 non-null   float64\n",
            " 29  치석           3251 non-null   float64\n",
            " 30  데이터공개일자      10000 non-null  object \n",
            " 31  bmi          10000 non-null  float64\n",
            " 32  bmi_grade    10000 non-null  object \n",
            "dtypes: float64(19), int64(9), object(5)\n",
            "memory usage: 2.5+ MB\n"
          ]
        },
        {
          "output_type": "display_data",
          "data": {
            "text/plain": [
              "None"
            ]
          },
          "metadata": {}
        },
        {
          "output_type": "display_data",
          "data": {
            "text/plain": [
              "기준년도              0\n",
              "가입자일련번호           0\n",
              "시도코드              0\n",
              "성별코드              0\n",
              "연령대코드(5세단위)       0\n",
              "신장                0\n",
              "체중                0\n",
              "허리둘레              0\n",
              "시력(좌)             0\n",
              "시력(우)             0\n",
              "청력(좌)             0\n",
              "청력(우)             0\n",
              "수축기혈압            88\n",
              "이완기혈압            88\n",
              "식전혈당(공복혈당)       88\n",
              "총콜레스테롤         5956\n",
              "트리글리세라이드       5956\n",
              "HDL콜레스테롤       5956\n",
              "LDL콜레스테롤       6023\n",
              "혈색소              88\n",
              "요단백             139\n",
              "혈청크레아티닌          88\n",
              "(혈청지오티)AST       88\n",
              "(혈청지오티)ALT       88\n",
              "감마지티피            88\n",
              "흡연상태              2\n",
              "음주여부              1\n",
              "구강검진수검여부          0\n",
              "치아우식증유무        6749\n",
              "치석             6749\n",
              "데이터공개일자           0\n",
              "bmi               0\n",
              "bmi_grade         0\n",
              "dtype: int64"
            ]
          },
          "metadata": {}
        }
      ]
    },
    {
      "cell_type": "code",
      "source": [
        "#허리둘레 결측치 88개, 얼마안되니 제거\n",
        "health_new = health_new.dropna(subset = ['허리둘레'], axis=0)  \n",
        "display(health_new.isna().sum())"
      ],
      "metadata": {
        "colab": {
          "base_uri": "https://localhost:8080/",
          "height": 634
        },
        "id": "gL_vq5cy4409",
        "outputId": "3a285842-71ff-4df5-ee94-b6e88e92cef1"
      },
      "execution_count": 8,
      "outputs": [
        {
          "output_type": "display_data",
          "data": {
            "text/plain": [
              "기준년도              0\n",
              "가입자일련번호           0\n",
              "시도코드              0\n",
              "성별코드              0\n",
              "연령대코드(5세단위)       0\n",
              "신장                0\n",
              "체중                0\n",
              "허리둘레              0\n",
              "시력(좌)             0\n",
              "시력(우)             0\n",
              "청력(좌)             0\n",
              "청력(우)             0\n",
              "수축기혈압            88\n",
              "이완기혈압            88\n",
              "식전혈당(공복혈당)       88\n",
              "총콜레스테롤         5956\n",
              "트리글리세라이드       5956\n",
              "HDL콜레스테롤       5956\n",
              "LDL콜레스테롤       6023\n",
              "혈색소              88\n",
              "요단백             139\n",
              "혈청크레아티닌          88\n",
              "(혈청지오티)AST       88\n",
              "(혈청지오티)ALT       88\n",
              "감마지티피            88\n",
              "흡연상태              2\n",
              "음주여부              1\n",
              "구강검진수검여부          0\n",
              "치아우식증유무        6749\n",
              "치석             6749\n",
              "데이터공개일자           0\n",
              "bmi               0\n",
              "bmi_grade         0\n",
              "dtype: int64"
            ]
          },
          "metadata": {}
        }
      ]
    },
    {
      "cell_type": "markdown",
      "source": [
        "##이상치 확인 및 처리"
      ],
      "metadata": {
        "id": "lPa3yuEm6IJe"
      }
    },
    {
      "cell_type": "code",
      "source": [
        "sns.boxplot(data = health_new, y = 'bmi')"
      ],
      "metadata": {
        "colab": {
          "base_uri": "https://localhost:8080/",
          "height": 272
        },
        "id": "lRW0fyRj5U2z",
        "outputId": "97a17f42-f0f3-4a91-874e-e56da90c3cca"
      },
      "execution_count": 9,
      "outputs": [
        {
          "output_type": "execute_result",
          "data": {
            "text/plain": [
              "<matplotlib.axes._subplots.AxesSubplot at 0x7fc5d0d2e310>"
            ]
          },
          "metadata": {},
          "execution_count": 9
        },
        {
          "output_type": "display_data",
          "data": {
            "text/plain": [
              "<Figure size 432x288 with 1 Axes>"
            ],
            "image/png": "[encoded data removed]"
          },
          "metadata": {
            "needs_background": "light"
          }
        }
      ]
    },
    {
      "cell_type": "code",
      "source": [
        "###이상치 처리\n",
        "pct25 = health_new['bmi'].quantile(.25)\n",
        "print(pct25) #22.04 (셋째자리에서반올림)\n",
        "pct75 = health_new['bmi'].quantile(.75)\n",
        "print(pct75) #26.12 (셋째자리에서반올림)\n",
        "iqr = pct75 - pct25"
      ],
      "metadata": {
        "colab": {
          "base_uri": "https://localhost:8080/"
        },
        "id": "3pADtgAJ5dLN",
        "outputId": "b477ef0d-ea6b-46fb-9a99-a306b8f98c5d"
      },
      "execution_count": 10,
      "outputs": [
        {
          "output_type": "stream",
          "name": "stdout",
          "text": [
            "22.03856749311295\n",
            "26.122448979591837\n"
          ]
        }
      ]
    },
    {
      "cell_type": "code",
      "source": [
        "#상한하한구하기\n",
        "ll = pct25 - 1.5*iqr\n",
        "print(ll) #15.91\n",
        "ul = pct75 + 1.5*iqr\n",
        "print(ul) #32.25\n",
        "#이상치 결정할 상한값 하한값이 구해졌으나 저체중의 기준이 18.5미만이고, 고도비만의 기준이 35이상이므로 \n",
        "#하한값은 사용할만 하나 상한값을 이상치에 적용 시, 고도비만은 존재하지 않게 되므로 하한만 적용하겠다. 상한은 임의로 40으로 정한다."
      ],
      "metadata": {
        "colab": {
          "base_uri": "https://localhost:8080/"
        },
        "id": "V7NJnXES69Ex",
        "outputId": "dfaab30f-c961-4b0c-af23-4fe9fc1f2760"
      },
      "execution_count": 11,
      "outputs": [
        {
          "output_type": "stream",
          "name": "stdout",
          "text": [
            "15.91274526339462\n",
            "32.24827120931017\n"
          ]
        }
      ]
    },
    {
      "cell_type": "code",
      "source": [
        "#이상치 있는 행 결측처리하고 제거\n",
        "health_new['bmi'] = np.where((health_new['bmi']<15.91) | (health_new['bmi']>40), np.nan, health_new['bmi'])  \n",
        "display(health_new.isna().sum()) #25개 제거\n",
        "health_new = health_new.dropna(subset = ['bmi'], axis=0)\n",
        "display(health_new.isna().sum())"
      ],
      "metadata": {
        "colab": {
          "base_uri": "https://localhost:8080/",
          "height": 1000
        },
        "id": "mJRfoyhy7BYB",
        "outputId": "5ce7856b-0a55-4b9c-a523-566158e6c31f"
      },
      "execution_count": 12,
      "outputs": [
        {
          "output_type": "display_data",
          "data": {
            "text/plain": [
              "기준년도              0\n",
              "가입자일련번호           0\n",
              "시도코드              0\n",
              "성별코드              0\n",
              "연령대코드(5세단위)       0\n",
              "신장                0\n",
              "체중                0\n",
              "허리둘레              0\n",
              "시력(좌)             0\n",
              "시력(우)             0\n",
              "청력(좌)             0\n",
              "청력(우)             0\n",
              "수축기혈압            88\n",
              "이완기혈압            88\n",
              "식전혈당(공복혈당)       88\n",
              "총콜레스테롤         5956\n",
              "트리글리세라이드       5956\n",
              "HDL콜레스테롤       5956\n",
              "LDL콜레스테롤       6023\n",
              "혈색소              88\n",
              "요단백             139\n",
              "혈청크레아티닌          88\n",
              "(혈청지오티)AST       88\n",
              "(혈청지오티)ALT       88\n",
              "감마지티피            88\n",
              "흡연상태              2\n",
              "음주여부              1\n",
              "구강검진수검여부          0\n",
              "치아우식증유무        6749\n",
              "치석             6749\n",
              "데이터공개일자           0\n",
              "bmi              25\n",
              "bmi_grade         0\n",
              "dtype: int64"
            ]
          },
          "metadata": {}
        },
        {
          "output_type": "display_data",
          "data": {
            "text/plain": [
              "기준년도              0\n",
              "가입자일련번호           0\n",
              "시도코드              0\n",
              "성별코드              0\n",
              "연령대코드(5세단위)       0\n",
              "신장                0\n",
              "체중                0\n",
              "허리둘레              0\n",
              "시력(좌)             0\n",
              "시력(우)             0\n",
              "청력(좌)             0\n",
              "청력(우)             0\n",
              "수축기혈압            87\n",
              "이완기혈압            87\n",
              "식전혈당(공복혈당)       87\n",
              "총콜레스테롤         5942\n",
              "트리글리세라이드       5942\n",
              "HDL콜레스테롤       5942\n",
              "LDL콜레스테롤       6009\n",
              "혈색소              87\n",
              "요단백             138\n",
              "혈청크레아티닌          87\n",
              "(혈청지오티)AST       87\n",
              "(혈청지오티)ALT       87\n",
              "감마지티피            87\n",
              "흡연상태              2\n",
              "음주여부              1\n",
              "구강검진수검여부          0\n",
              "치아우식증유무        6734\n",
              "치석             6734\n",
              "데이터공개일자           0\n",
              "bmi               0\n",
              "bmi_grade         0\n",
              "dtype: int64"
            ]
          },
          "metadata": {}
        }
      ]
    },
    {
      "cell_type": "code",
      "source": [
        "#허리둘레는 상자그래프로 너무 말이 안되는 이상치 있는지만 확인하고 bmi의 이상치제거를 따라간다.(고도비만을 삭제할 가능성이 있으므로)\n",
        "sns.boxplot(data = health_new, y = '허리둘레')"
      ],
      "metadata": {
        "colab": {
          "base_uri": "https://localhost:8080/",
          "height": 270
        },
        "id": "g4aJG9_R7Fav",
        "outputId": "7b934538-7f08-47c9-d362-602852baf42c"
      },
      "execution_count": 13,
      "outputs": [
        {
          "output_type": "execute_result",
          "data": {
            "text/plain": [
              "<matplotlib.axes._subplots.AxesSubplot at 0x7fc5d0b7d450>"
            ]
          },
          "metadata": {},
          "execution_count": 13
        },
        {
          "output_type": "display_data",
          "data": {
            "text/plain": [
              "<Figure size 432x288 with 1 Axes>"
            ],
            "image/png": "[encoded data removed]"
          },
          "metadata": {
            "needs_background": "light"
          }
        }
      ]
    },
    {
      "cell_type": "code",
      "source": [
        "#상자그림보고 가장 위에 두개는 좀 이상하니까 이상치로 판정 #125 기준으로 하면 벗어남 #제거\n",
        "len(health_new.loc[(health_new['허리둘레'] > 125)])\n",
        "health_new['허리둘레'] = np.where((health_new['허리둘레']>125), np.nan, health_new['허리둘레'])  \n",
        "health_new = health_new.dropna(subset = ['허리둘레'], axis=0)"
      ],
      "metadata": {
        "id": "FN74OGBO72w-"
      },
      "execution_count": 14,
      "outputs": []
    },
    {
      "cell_type": "code",
      "source": [
        "#bmi_grade 빈도 확인 어떤 범주 표본이 많은지\n",
        "sns.countplot(data = health_new, x = 'bmi_grade') "
      ],
      "metadata": {
        "colab": {
          "base_uri": "https://localhost:8080/",
          "height": 297
        },
        "id": "lRtTrq8L773X",
        "outputId": "a5bba90b-754b-4b96-8e09-a4409abf5f00"
      },
      "execution_count": 15,
      "outputs": [
        {
          "output_type": "execute_result",
          "data": {
            "text/plain": [
              "<matplotlib.axes._subplots.AxesSubplot at 0x7fc5d06ab2d0>"
            ]
          },
          "metadata": {},
          "execution_count": 15
        },
        {
          "output_type": "display_data",
          "data": {
            "text/plain": [
              "<Figure size 432x288 with 1 Axes>"
            ],
            "image/png": "[encoded data removed]"
          },
          "metadata": {
            "needs_background": "light"
          }
        }
      ]
    },
    {
      "cell_type": "markdown",
      "source": [
        "##의사결정나무"
      ],
      "metadata": {
        "id": "qv2ZiZF3DPpH"
      }
    },
    {
      "cell_type": "markdown",
      "source": [
        "sklearn돌리기 위해 모두 1,0으로 바꾸고 변수 삭제하거나 na대체"
      ],
      "metadata": {
        "id": "owIdRRazdvr7"
      }
    },
    {
      "cell_type": "code",
      "source": [
        "#파생변수 만들기 비만(1비만이상)/비만아님\n",
        "health_new['비만여부'] = np.where(health_new['bmi']>=25, 'O','X')"
      ],
      "metadata": {
        "id": "VjI8ZY3uD6lV"
      },
      "execution_count": 16,
      "outputs": []
    },
    {
      "cell_type": "code",
      "source": [
        "#문자들 이진으로 변환\n",
        "\n",
        "from sklearn.preprocessing import LabelEncoder\n",
        "health_new[\"성별\"] = LabelEncoder().fit_transform(health_new[\"성별코드\"])\n",
        "health_new[\"흡연\"] = LabelEncoder().fit_transform(health_new[\"흡연상태\"])\n",
        "health_new[\"음주\"] = LabelEncoder().fit_transform(health_new[\"음주여부\"])\n",
        "health_new[\"비만여부\"] = LabelEncoder().fit_transform(health_new[\"비만여부\"])\n",
        "health_new = health_new.drop(['성별코드','흡연상태','음주여부','데이터공개일자','기준년도','시도코드','bmi_grade'], axis=1)\n",
        "\n",
        "display(health_new.head())"
      ],
      "metadata": {
        "colab": {
          "base_uri": "https://localhost:8080/",
          "height": 332
        },
        "id": "AOTR2fJuJcXy",
        "outputId": "6b32b1b7-3192-4832-e79c-f259ee643c87"
      },
      "execution_count": 17,
      "outputs": [
        {
          "output_type": "display_data",
          "data": {
            "text/plain": [
              "   가입자일련번호  연령대코드(5세단위)   신장  체중  허리둘레  시력(좌)  시력(우)  청력(좌)  청력(우)  수축기혈압  \\\n",
              "0        1            9  165  60  72.1    1.2    1.5      1      1  127.0   \n",
              "1        2           13  150  65  81.0    0.8    0.8      1      1  110.0   \n",
              "2        3           12  155  55  70.0    0.6    0.7      1      1  123.0   \n",
              "3        4           13  160  70  90.8    1.0    1.0      1      2  134.0   \n",
              "4        5           12  155  50  75.2    1.5    1.2      1      1  144.0   \n",
              "\n",
              "   ...  (혈청지오티)ALT  감마지티피  구강검진수검여부  치아우식증유무   치석        bmi  비만여부  성별  흡연  음주  \n",
              "0  ...        27.0   21.0         0      NaN  NaN  22.038567     1   1   0   0  \n",
              "1  ...        15.0   15.0         0      NaN  NaN  28.888889     0   0   0   0  \n",
              "2  ...        25.0    7.0         0      NaN  NaN  22.892820     1   0   0   0  \n",
              "3  ...        97.0   72.0         1      0.0  0.0  27.343750     0   1   0   0  \n",
              "4  ...        17.0   14.0         0      NaN  NaN  20.811655     1   0   0   0  \n",
              "\n",
              "[5 rows x 30 columns]"
            ],
            "text/html": [
              "\n",
              "  <div id=\"df-6083a9b8-464b-4bf7-82dd-d1a04b289b0e\">\n",
              "    <div class=\"colab-df-container\">\n",
              "      <div>\n",
              "<style scoped>\n",
              "    .dataframe tbody tr th:only-of-type {\n",
              "        vertical-align: middle;\n",
              "    }\n",
              "\n",
              "    .dataframe tbody tr th {\n",
              "        vertical-align: top;\n",
              "    }\n",
              "\n",
              "    .dataframe thead th {\n",
              "        text-align: right;\n",
              "    }\n",
              "</style>\n",
              "<table border=\"1\" class=\"dataframe\">\n",
              "  <thead>\n",
              "    <tr style=\"text-align: right;\">\n",
              "      <th></th>\n",
              "      <th>가입자일련번호</th>\n",
              "      <th>연령대코드(5세단위)</th>\n",
              "      <th>신장</th>\n",
              "      <th>체중</th>\n",
              "      <th>허리둘레</th>\n",
              "      <th>시력(좌)</th>\n",
              "      <th>시력(우)</th>\n",
              "      <th>청력(좌)</th>\n",
              "      <th>청력(우)</th>\n",
              "      <th>수축기혈압</th>\n",
              "      <th>...</th>\n",
              "      <th>(혈청지오티)ALT</th>\n",
              "      <th>감마지티피</th>\n",
              "      <th>구강검진수검여부</th>\n",
              "      <th>치아우식증유무</th>\n",
              "      <th>치석</th>\n",
              "      <th>bmi</th>\n",
              "      <th>비만여부</th>\n",
              "      <th>성별</th>\n",
              "      <th>흡연</th>\n",
              "      <th>음주</th>\n",
              "    </tr>\n",
              "  </thead>\n",
              "  <tbody>\n",
              "    <tr>\n",
              "      <th>0</th>\n",
              "      <td>1</td>\n",
              "      <td>9</td>\n",
              "      <td>165</td>\n",
              "      <td>60</td>\n",
              "      <td>72.1</td>\n",
              "      <td>1.2</td>\n",
              "      <td>1.5</td>\n",
              "      <td>1</td>\n",
              "      <td>1</td>\n",
              "      <td>127.0</td>\n",
              "      <td>...</td>\n",
              "      <td>27.0</td>\n",
              "      <td>21.0</td>\n",
              "      <td>0</td>\n",
              "      <td>NaN</td>\n",
              "      <td>NaN</td>\n",
              "      <td>22.038567</td>\n",
              "      <td>1</td>\n",
              "      <td>1</td>\n",
              "      <td>0</td>\n",
              "      <td>0</td>\n",
              "    </tr>\n",
              "    <tr>\n",
              "      <th>1</th>\n",
              "      <td>2</td>\n",
              "      <td>13</td>\n",
              "      <td>150</td>\n",
              "      <td>65</td>\n",
              "      <td>81.0</td>\n",
              "      <td>0.8</td>\n",
              "      <td>0.8</td>\n",
              "      <td>1</td>\n",
              "      <td>1</td>\n",
              "      <td>110.0</td>\n",
              "      <td>...</td>\n",
              "      <td>15.0</td>\n",
              "      <td>15.0</td>\n",
              "      <td>0</td>\n",
              "      <td>NaN</td>\n",
              "      <td>NaN</td>\n",
              "      <td>28.888889</td>\n",
              "      <td>0</td>\n",
              "      <td>0</td>\n",
              "      <td>0</td>\n",
              "      <td>0</td>\n",
              "    </tr>\n",
              "    <tr>\n",
              "      <th>2</th>\n",
              "      <td>3</td>\n",
              "      <td>12</td>\n",
              "      <td>155</td>\n",
              "      <td>55</td>\n",
              "      <td>70.0</td>\n",
              "      <td>0.6</td>\n",
              "      <td>0.7</td>\n",
              "      <td>1</td>\n",
              "      <td>1</td>\n",
              "      <td>123.0</td>\n",
              "      <td>...</td>\n",
              "      <td>25.0</td>\n",
              "      <td>7.0</td>\n",
              "      <td>0</td>\n",
              "      <td>NaN</td>\n",
              "      <td>NaN</td>\n",
              "      <td>22.892820</td>\n",
              "      <td>1</td>\n",
              "      <td>0</td>\n",
              "      <td>0</td>\n",
              "      <td>0</td>\n",
              "    </tr>\n",
              "    <tr>\n",
              "      <th>3</th>\n",
              "      <td>4</td>\n",
              "      <td>13</td>\n",
              "      <td>160</td>\n",
              "      <td>70</td>\n",
              "      <td>90.8</td>\n",
              "      <td>1.0</td>\n",
              "      <td>1.0</td>\n",
              "      <td>1</td>\n",
              "      <td>2</td>\n",
              "      <td>134.0</td>\n",
              "      <td>...</td>\n",
              "      <td>97.0</td>\n",
              "      <td>72.0</td>\n",
              "      <td>1</td>\n",
              "      <td>0.0</td>\n",
              "      <td>0.0</td>\n",
              "      <td>27.343750</td>\n",
              "      <td>0</td>\n",
              "      <td>1</td>\n",
              "      <td>0</td>\n",
              "      <td>0</td>\n",
              "    </tr>\n",
              "    <tr>\n",
              "      <th>4</th>\n",
              "      <td>5</td>\n",
              "      <td>12</td>\n",
              "      <td>155</td>\n",
              "      <td>50</td>\n",
              "      <td>75.2</td>\n",
              "      <td>1.5</td>\n",
              "      <td>1.2</td>\n",
              "      <td>1</td>\n",
              "      <td>1</td>\n",
              "      <td>144.0</td>\n",
              "      <td>...</td>\n",
              "      <td>17.0</td>\n",
              "      <td>14.0</td>\n",
              "      <td>0</td>\n",
              "      <td>NaN</td>\n",
              "      <td>NaN</td>\n",
              "      <td>20.811655</td>\n",
              "      <td>1</td>\n",
              "      <td>0</td>\n",
              "      <td>0</td>\n",
              "      <td>0</td>\n",
              "    </tr>\n",
              "  </tbody>\n",
              "</table>\n",
              "<p>5 rows × 30 columns</p>\n",
              "</div>\n",
              "      <button class=\"colab-df-convert\" onclick=\"convertToInteractive('df-6083a9b8-464b-4bf7-82dd-d1a04b289b0e')\"\n",
              "              title=\"Convert this dataframe to an interactive table.\"\n",
              "              style=\"display:none;\">\n",
              "        \n",
              "  <svg xmlns=\"http://www.w3.org/2000/svg\" height=\"24px\"viewBox=\"0 0 24 24\"\n",
              "       width=\"24px\">\n",
              "    <path d=\"M0 0h24v24H0V0z\" fill=\"none\"/>\n",
              "    <path d=\"M18.56 5.44l.94 2.06.94-2.06 2.06-.94-2.06-.94-.94-2.06-.94 2.06-2.06.94zm-11 1L8.5 8.5l.94-2.06 2.06-.94-2.06-.94L8.5 2.5l-.94 2.06-2.06.94zm10 10l.94 2.06.94-2.06 2.06-.94-2.06-.94-.94-2.06-.94 2.06-2.06.94z\"/><path d=\"M17.41 7.96l-1.37-1.37c-.4-.4-.92-.59-1.43-.59-.52 0-1.04.2-1.43.59L10.3 9.45l-7.72 7.72c-.78.78-.78 2.05 0 2.83L4 21.41c.39.39.9.59 1.41.59.51 0 1.02-.2 1.41-.59l7.78-7.78 2.81-2.81c.8-.78.8-2.07 0-2.86zM5.41 20L4 18.59l7.72-7.72 1.47 1.35L5.41 20z\"/>\n",
              "  </svg>\n",
              "      </button>\n",
              "      \n",
              "  <style>\n",
              "    .colab-df-container {\n",
              "      display:flex;\n",
              "      flex-wrap:wrap;\n",
              "      gap: 12px;\n",
              "    }\n",
              "\n",
              "    .colab-df-convert {\n",
              "      background-color: #E8F0FE;\n",
              "      border: none;\n",
              "      border-radius: 50%;\n",
              "      cursor: pointer;\n",
              "      display: none;\n",
              "      fill: #1967D2;\n",
              "      height: 32px;\n",
              "      padding: 0 0 0 0;\n",
              "      width: 32px;\n",
              "    }\n",
              "\n",
              "    .colab-df-convert:hover {\n",
              "      background-color: #E2EBFA;\n",
              "      box-shadow: 0px 1px 2px rgba(60, 64, 67, 0.3), 0px 1px 3px 1px rgba(60, 64, 67, 0.15);\n",
              "      fill: #174EA6;\n",
              "    }\n",
              "\n",
              "    [theme=dark] .colab-df-convert {\n",
              "      background-color: #3B4455;\n",
              "      fill: #D2E3FC;\n",
              "    }\n",
              "\n",
              "    [theme=dark] .colab-df-convert:hover {\n",
              "      background-color: #434B5C;\n",
              "      box-shadow: 0px 1px 3px 1px rgba(0, 0, 0, 0.15);\n",
              "      filter: drop-shadow(0px 1px 2px rgba(0, 0, 0, 0.3));\n",
              "      fill: #FFFFFF;\n",
              "    }\n",
              "  </style>\n",
              "\n",
              "      <script>\n",
              "        const buttonEl =\n",
              "          document.querySelector('#df-6083a9b8-464b-4bf7-82dd-d1a04b289b0e button.colab-df-convert');\n",
              "        buttonEl.style.display =\n",
              "          google.colab.kernel.accessAllowed ? 'block' : 'none';\n",
              "\n",
              "        async function convertToInteractive(key) {\n",
              "          const element = document.querySelector('#df-6083a9b8-464b-4bf7-82dd-d1a04b289b0e');\n",
              "          const dataTable =\n",
              "            await google.colab.kernel.invokeFunction('convertToInteractive',\n",
              "                                                     [key], {});\n",
              "          if (!dataTable) return;\n",
              "\n",
              "          const docLinkHtml = 'Like what you see? Visit the ' +\n",
              "            '<a target=\"_blank\" href=https://colab.research.google.com/notebooks/data_table.ipynb>data table notebook</a>'\n",
              "            + ' to learn more about interactive tables.';\n",
              "          element.innerHTML = '';\n",
              "          dataTable['output_type'] = 'display_data';\n",
              "          await google.colab.output.renderOutput(dataTable, element);\n",
              "          const docLink = document.createElement('div');\n",
              "          docLink.innerHTML = docLinkHtml;\n",
              "          element.appendChild(docLink);\n",
              "        }\n",
              "      </script>\n",
              "    </div>\n",
              "  </div>\n",
              "  "
            ]
          },
          "metadata": {}
        }
      ]
    },
    {
      "cell_type": "code",
      "source": [
        "health_new = health_new.fillna(health_new.mean())"
      ],
      "metadata": {
        "id": "fMFXIvwJasQf"
      },
      "execution_count": 18,
      "outputs": []
    },
    {
      "cell_type": "code",
      "source": [
        "display(health_new.isna().sum())"
      ],
      "metadata": {
        "colab": {
          "base_uri": "https://localhost:8080/",
          "height": 580
        },
        "id": "afZ53rRGsULB",
        "outputId": "c6734154-7c70-407c-c5cf-533da0a59bf2"
      },
      "execution_count": 19,
      "outputs": [
        {
          "output_type": "display_data",
          "data": {
            "text/plain": [
              "가입자일련번호        0\n",
              "연령대코드(5세단위)    0\n",
              "신장             0\n",
              "체중             0\n",
              "허리둘레           0\n",
              "시력(좌)          0\n",
              "시력(우)          0\n",
              "청력(좌)          0\n",
              "청력(우)          0\n",
              "수축기혈압          0\n",
              "이완기혈압          0\n",
              "식전혈당(공복혈당)     0\n",
              "총콜레스테롤         0\n",
              "트리글리세라이드       0\n",
              "HDL콜레스테롤       0\n",
              "LDL콜레스테롤       0\n",
              "혈색소            0\n",
              "요단백            0\n",
              "혈청크레아티닌        0\n",
              "(혈청지오티)AST     0\n",
              "(혈청지오티)ALT     0\n",
              "감마지티피          0\n",
              "구강검진수검여부       0\n",
              "치아우식증유무        0\n",
              "치석             0\n",
              "bmi            0\n",
              "비만여부           0\n",
              "성별             0\n",
              "흡연             0\n",
              "음주             0\n",
              "dtype: int64"
            ]
          },
          "metadata": {}
        }
      ]
    },
    {
      "cell_type": "code",
      "source": [
        "from sklearn.tree import DecisionTreeClassifier\n",
        "from sklearn.model_selection import train_test_split\n",
        "\n",
        "X = health_new.iloc[:, [4, 11, 12, 18, 21]]   \n",
        "#y = health_new.iloc[:, 0]   # target 변수 비만여부 \n",
        "y = health_new['비만여부']\n",
        "\n",
        "#X_train, X_test, y_train, y_test = train_test_split(X, y, test_size = 0.25, stratify=y, random_state=42)\n",
        "\n",
        "X_train, X_test, y_train, y_test = train_test_split(X, y, test_size = 0.25, random_state=42)\n",
        "tree = DecisionTreeClassifier(max_depth=4, random_state=0)\n",
        "tree.fit(X_train, y_train)\n",
        "\n",
        "print(\"학습용 데이터 정확도: {:.3f}\".format(tree.score(X_train, y_train)))\n",
        "print(\"시험용 데이터 정확도: {:.3f}\".format(tree.score(X_test, y_test)))"
      ],
      "metadata": {
        "colab": {
          "base_uri": "https://localhost:8080/"
        },
        "id": "H1rHLH-SCm9N",
        "outputId": "ba23f927-fcc9-41aa-c841-f407c9d567b0"
      },
      "execution_count": 20,
      "outputs": [
        {
          "output_type": "stream",
          "name": "stdout",
          "text": [
            "학습용 데이터 정확도: 0.815\n",
            "시험용 데이터 정확도: 0.815\n"
          ]
        }
      ]
    },
    {
      "cell_type": "code",
      "source": [
        "\n",
        "from sklearn.tree import export_graphviz\n",
        "import graphviz\n",
        "\n",
        "export_graphviz(tree, out_file=\"tree.dot\", class_names=[ \"비만\", \"비만아님\"],\n",
        "                feature_names=X.columns, impurity=False, filled=True)\n",
        "\n",
        "with open(\"tree.dot\") as f:\n",
        "    dot_graph = f.read()\n",
        "\n",
        "display(graphviz.Source(dot_graph))"
      ],
      "metadata": {
        "colab": {
          "base_uri": "https://localhost:8080/",
          "height": 676
        },
        "id": "3h9CFjASb9ST",
        "outputId": "54cb6b69-f15e-4510-9a8c-ccc6d4a7e102"
      },
      "execution_count": 21,
      "outputs": [
        {
          "output_type": "display_data",
          "data": {
            "text/plain": [
              "<graphviz.files.Source at 0x7fc5d05d9710>"
            ],
            "image/svg+xml": "<?xml version=\"1.0\" encoding=\"UTF-8\" standalone=\"no\"?>\n<!DOCTYPE svg PUBLIC \"-//W3C//DTD SVG 1.1//EN\"\n \"http://www.w3.org/Graphics/SVG/1.1/DTD/svg11.dtd\">\n<!-- Generated by graphviz version 2.40.1 (20161225.0304)\n -->\n<!-- Title: Tree Pages: 1 -->\n<svg width=\"2274pt\" height=\"477pt\"\n viewBox=\"0.00 0.00 2274.00 477.00\" xmlns=\"http://www.w3.org/2000/svg\" xmlns:xlink=\"http://www.w3.org/1999/xlink\">\n<g id=\"graph0\" class=\"graph\" transform=\"scale(1 1) rotate(0) translate(4 473)\">\n<title>Tree</title>\n<polygon fill=\"#ffffff\" stroke=\"transparent\" points=\"-4,4 -4,-473 2270,-473 2270,4 -4,4\"/>\n<!-- 0 -->\n<g id=\"node1\" class=\"node\">\n<title>0</title>\n<polygon fill=\"#afd7f4\" stroke=\"#000000\" points=\"1207.5,-469 1058.5,-469 1058.5,-401 1207.5,-401 1207.5,-469\"/>\n<text text-anchor=\"middle\" x=\"1133\" y=\"-453.8\" font-family=\"Helvetica,sans-Serif\" font-size=\"14.00\" fill=\"#000000\">허리둘레 &lt;= 85.45</text>\n<text text-anchor=\"middle\" x=\"1133\" y=\"-438.8\" font-family=\"Helvetica,sans-Serif\" font-size=\"14.00\" fill=\"#000000\">samples = 7479</text>\n<text text-anchor=\"middle\" x=\"1133\" y=\"-423.8\" font-family=\"Helvetica,sans-Serif\" font-size=\"14.00\" fill=\"#000000\">value = [2790, 4689]</text>\n<text text-anchor=\"middle\" x=\"1133\" y=\"-408.8\" font-family=\"Helvetica,sans-Serif\" font-size=\"14.00\" fill=\"#000000\">class = 비만아님</text>\n</g>\n<!-- 1 -->\n<g id=\"node2\" class=\"node\">\n<title>1</title>\n<polygon fill=\"#5caeea\" stroke=\"#000000\" points=\"928,-365 788,-365 788,-297 928,-297 928,-365\"/>\n<text text-anchor=\"middle\" x=\"858\" y=\"-349.8\" font-family=\"Helvetica,sans-Serif\" font-size=\"14.00\" fill=\"#000000\">허리둘레 &lt;= 79.75</text>\n<text text-anchor=\"middle\" x=\"858\" y=\"-334.8\" font-family=\"Helvetica,sans-Serif\" font-size=\"14.00\" fill=\"#000000\">samples = 4662</text>\n<text text-anchor=\"middle\" x=\"858\" y=\"-319.8\" font-family=\"Helvetica,sans-Serif\" font-size=\"14.00\" fill=\"#000000\">value = [699, 3963]</text>\n<text text-anchor=\"middle\" x=\"858\" y=\"-304.8\" font-family=\"Helvetica,sans-Serif\" font-size=\"14.00\" fill=\"#000000\">class = 비만아님</text>\n</g>\n<!-- 0&#45;&gt;1 -->\n<g id=\"edge1\" class=\"edge\">\n<title>0&#45;&gt;1</title>\n<path fill=\"none\" stroke=\"#000000\" d=\"M1058.2183,-406.7189C1020.8294,-392.5791 975.5664,-375.4615 937.5417,-361.0812\"/>\n<polygon fill=\"#000000\" stroke=\"#000000\" points=\"938.6311,-357.7513 928.0396,-357.4877 936.1549,-364.2988 938.6311,-357.7513\"/>\n<text text-anchor=\"middle\" x=\"938.3212\" y=\"-376.5756\" font-family=\"Helvetica,sans-Serif\" font-size=\"14.00\" fill=\"#000000\">True</text>\n</g>\n<!-- 16 -->\n<g id=\"node17\" class=\"node\">\n<title>16</title>\n<polygon fill=\"#eead7e\" stroke=\"#000000\" points=\"1485,-365 1345,-365 1345,-297 1485,-297 1485,-365\"/>\n<text text-anchor=\"middle\" x=\"1415\" y=\"-349.8\" font-family=\"Helvetica,sans-Serif\" font-size=\"14.00\" fill=\"#000000\">허리둘레 &lt;= 89.65</text>\n<text text-anchor=\"middle\" x=\"1415\" y=\"-334.8\" font-family=\"Helvetica,sans-Serif\" font-size=\"14.00\" fill=\"#000000\">samples = 2817</text>\n<text text-anchor=\"middle\" x=\"1415\" y=\"-319.8\" font-family=\"Helvetica,sans-Serif\" font-size=\"14.00\" fill=\"#000000\">value = [2091, 726]</text>\n<text text-anchor=\"middle\" x=\"1415\" y=\"-304.8\" font-family=\"Helvetica,sans-Serif\" font-size=\"14.00\" fill=\"#000000\">class = 비만</text>\n</g>\n<!-- 0&#45;&gt;16 -->\n<g id=\"edge16\" class=\"edge\">\n<title>0&#45;&gt;16</title>\n<path fill=\"none\" stroke=\"#000000\" d=\"M1207.8305,-407.403C1247.1064,-392.9182 1295.241,-375.1664 1335.2244,-360.4208\"/>\n<polygon fill=\"#000000\" stroke=\"#000000\" points=\"1336.5035,-363.6796 1344.6747,-356.9356 1334.0813,-357.112 1336.5035,-363.6796\"/>\n<text text-anchor=\"middle\" x=\"1334.2057\" y=\"-375.938\" font-family=\"Helvetica,sans-Serif\" font-size=\"14.00\" fill=\"#000000\">False</text>\n</g>\n<!-- 2 -->\n<g id=\"node3\" class=\"node\">\n<title>2</title>\n<polygon fill=\"#44a3e6\" stroke=\"#000000\" points=\"507,-261 367,-261 367,-193 507,-193 507,-261\"/>\n<text text-anchor=\"middle\" x=\"437\" y=\"-245.8\" font-family=\"Helvetica,sans-Serif\" font-size=\"14.00\" fill=\"#000000\">허리둘레 &lt;= 75.9</text>\n<text text-anchor=\"middle\" x=\"437\" y=\"-230.8\" font-family=\"Helvetica,sans-Serif\" font-size=\"14.00\" fill=\"#000000\">samples = 2804</text>\n<text text-anchor=\"middle\" x=\"437\" y=\"-215.8\" font-family=\"Helvetica,sans-Serif\" font-size=\"14.00\" fill=\"#000000\">value = [152, 2652]</text>\n<text text-anchor=\"middle\" x=\"437\" y=\"-200.8\" font-family=\"Helvetica,sans-Serif\" font-size=\"14.00\" fill=\"#000000\">class = 비만아님</text>\n</g>\n<!-- 1&#45;&gt;2 -->\n<g id=\"edge2\" class=\"edge\">\n<title>1&#45;&gt;2</title>\n<path fill=\"none\" stroke=\"#000000\" d=\"M787.5341,-313.5927C712.8951,-295.1546 595.2677,-266.097 517.1452,-246.7983\"/>\n<polygon fill=\"#000000\" stroke=\"#000000\" points=\"517.8922,-243.3777 507.3446,-244.3773 516.2134,-250.1734 517.8922,-243.3777\"/>\n</g>\n<!-- 9 -->\n<g id=\"node10\" class=\"node\">\n<title>9</title>\n<polygon fill=\"#8cc6f0\" stroke=\"#000000\" points=\"928,-261 788,-261 788,-193 928,-193 928,-261\"/>\n<text text-anchor=\"middle\" x=\"858\" y=\"-245.8\" font-family=\"Helvetica,sans-Serif\" font-size=\"14.00\" fill=\"#000000\">허리둘레 &lt;= 82.9</text>\n<text text-anchor=\"middle\" x=\"858\" y=\"-230.8\" font-family=\"Helvetica,sans-Serif\" font-size=\"14.00\" fill=\"#000000\">samples = 1858</text>\n<text text-anchor=\"middle\" x=\"858\" y=\"-215.8\" font-family=\"Helvetica,sans-Serif\" font-size=\"14.00\" fill=\"#000000\">value = [547, 1311]</text>\n<text text-anchor=\"middle\" x=\"858\" y=\"-200.8\" font-family=\"Helvetica,sans-Serif\" font-size=\"14.00\" fill=\"#000000\">class = 비만아님</text>\n</g>\n<!-- 1&#45;&gt;9 -->\n<g id=\"edge9\" class=\"edge\">\n<title>1&#45;&gt;9</title>\n<path fill=\"none\" stroke=\"#000000\" d=\"M858,-296.9465C858,-288.776 858,-279.9318 858,-271.3697\"/>\n<polygon fill=\"#000000\" stroke=\"#000000\" points=\"861.5001,-271.13 858,-261.13 854.5001,-271.13 861.5001,-271.13\"/>\n</g>\n<!-- 3 -->\n<g id=\"node4\" class=\"node\">\n<title>3</title>\n<polygon fill=\"#3e9fe6\" stroke=\"#000000\" points=\"278,-157 146,-157 146,-89 278,-89 278,-157\"/>\n<text text-anchor=\"middle\" x=\"212\" y=\"-141.8\" font-family=\"Helvetica,sans-Serif\" font-size=\"14.00\" fill=\"#000000\">허리둘레 &lt;= 72.15</text>\n<text text-anchor=\"middle\" x=\"212\" y=\"-126.8\" font-family=\"Helvetica,sans-Serif\" font-size=\"14.00\" fill=\"#000000\">samples = 1817</text>\n<text text-anchor=\"middle\" x=\"212\" y=\"-111.8\" font-family=\"Helvetica,sans-Serif\" font-size=\"14.00\" fill=\"#000000\">value = [45, 1772]</text>\n<text text-anchor=\"middle\" x=\"212\" y=\"-96.8\" font-family=\"Helvetica,sans-Serif\" font-size=\"14.00\" fill=\"#000000\">class = 비만아님</text>\n</g>\n<!-- 2&#45;&gt;3 -->\n<g id=\"edge3\" class=\"edge\">\n<title>2&#45;&gt;3</title>\n<path fill=\"none\" stroke=\"#000000\" d=\"M366.7341,-194.5215C341.5846,-182.8969 313.141,-169.7496 287.5629,-157.9268\"/>\n<polygon fill=\"#000000\" stroke=\"#000000\" points=\"288.8262,-154.655 278.2804,-153.6363 285.8891,-161.0091 288.8262,-154.655\"/>\n</g>\n<!-- 6 -->\n<g id=\"node7\" class=\"node\">\n<title>6</title>\n<polygon fill=\"#51a9e8\" stroke=\"#000000\" points=\"519,-157 355,-157 355,-89 519,-89 519,-157\"/>\n<text text-anchor=\"middle\" x=\"437\" y=\"-141.8\" font-family=\"Helvetica,sans-Serif\" font-size=\"14.00\" fill=\"#000000\">혈청크레아티닌 &lt;= 0.65</text>\n<text text-anchor=\"middle\" x=\"437\" y=\"-126.8\" font-family=\"Helvetica,sans-Serif\" font-size=\"14.00\" fill=\"#000000\">samples = 987</text>\n<text text-anchor=\"middle\" x=\"437\" y=\"-111.8\" font-family=\"Helvetica,sans-Serif\" font-size=\"14.00\" fill=\"#000000\">value = [107, 880]</text>\n<text text-anchor=\"middle\" x=\"437\" y=\"-96.8\" font-family=\"Helvetica,sans-Serif\" font-size=\"14.00\" fill=\"#000000\">class = 비만아님</text>\n</g>\n<!-- 2&#45;&gt;6 -->\n<g id=\"edge6\" class=\"edge\">\n<title>2&#45;&gt;6</title>\n<path fill=\"none\" stroke=\"#000000\" d=\"M437,-192.9465C437,-184.776 437,-175.9318 437,-167.3697\"/>\n<polygon fill=\"#000000\" stroke=\"#000000\" points=\"440.5001,-167.13 437,-157.13 433.5001,-167.13 440.5001,-167.13\"/>\n</g>\n<!-- 4 -->\n<g id=\"node5\" class=\"node\">\n<title>4</title>\n<polygon fill=\"#3b9ee5\" stroke=\"#000000\" points=\"132,-53 0,-53 0,0 132,0 132,-53\"/>\n<text text-anchor=\"middle\" x=\"66\" y=\"-37.8\" font-family=\"Helvetica,sans-Serif\" font-size=\"14.00\" fill=\"#000000\">samples = 1160</text>\n<text text-anchor=\"middle\" x=\"66\" y=\"-22.8\" font-family=\"Helvetica,sans-Serif\" font-size=\"14.00\" fill=\"#000000\">value = [10, 1150]</text>\n<text text-anchor=\"middle\" x=\"66\" y=\"-7.8\" font-family=\"Helvetica,sans-Serif\" font-size=\"14.00\" fill=\"#000000\">class = 비만아님</text>\n</g>\n<!-- 3&#45;&gt;4 -->\n<g id=\"edge4\" class=\"edge\">\n<title>3&#45;&gt;4</title>\n<path fill=\"none\" stroke=\"#000000\" d=\"M160.5259,-88.9777C145.702,-79.1798 129.5776,-68.5222 114.9135,-58.8298\"/>\n<polygon fill=\"#000000\" stroke=\"#000000\" points=\"116.7415,-55.8427 106.4692,-53.2485 112.8817,-61.6824 116.7415,-55.8427\"/>\n</g>\n<!-- 5 -->\n<g id=\"node6\" class=\"node\">\n<title>5</title>\n<polygon fill=\"#44a3e6\" stroke=\"#000000\" points=\"274,-53 150,-53 150,0 274,0 274,-53\"/>\n<text text-anchor=\"middle\" x=\"212\" y=\"-37.8\" font-family=\"Helvetica,sans-Serif\" font-size=\"14.00\" fill=\"#000000\">samples = 657</text>\n<text text-anchor=\"middle\" x=\"212\" y=\"-22.8\" font-family=\"Helvetica,sans-Serif\" font-size=\"14.00\" fill=\"#000000\">value = [35, 622]</text>\n<text text-anchor=\"middle\" x=\"212\" y=\"-7.8\" font-family=\"Helvetica,sans-Serif\" font-size=\"14.00\" fill=\"#000000\">class = 비만아님</text>\n</g>\n<!-- 3&#45;&gt;5 -->\n<g id=\"edge5\" class=\"edge\">\n<title>3&#45;&gt;5</title>\n<path fill=\"none\" stroke=\"#000000\" d=\"M212,-88.9777C212,-80.7364 212,-71.887 212,-63.5153\"/>\n<polygon fill=\"#000000\" stroke=\"#000000\" points=\"215.5001,-63.2484 212,-53.2485 208.5001,-63.2485 215.5001,-63.2484\"/>\n</g>\n<!-- 7 -->\n<g id=\"node8\" class=\"node\">\n<title>7</title>\n<polygon fill=\"#66b3eb\" stroke=\"#000000\" points=\"416,-53 292,-53 292,0 416,0 416,-53\"/>\n<text text-anchor=\"middle\" x=\"354\" y=\"-37.8\" font-family=\"Helvetica,sans-Serif\" font-size=\"14.00\" fill=\"#000000\">samples = 211</text>\n<text text-anchor=\"middle\" x=\"354\" y=\"-22.8\" font-family=\"Helvetica,sans-Serif\" font-size=\"14.00\" fill=\"#000000\">value = [39, 172]</text>\n<text text-anchor=\"middle\" x=\"354\" y=\"-7.8\" font-family=\"Helvetica,sans-Serif\" font-size=\"14.00\" fill=\"#000000\">class = 비만아님</text>\n</g>\n<!-- 6&#45;&gt;7 -->\n<g id=\"edge7\" class=\"edge\">\n<title>6&#45;&gt;7</title>\n<path fill=\"none\" stroke=\"#000000\" d=\"M407.7373,-88.9777C399.9401,-79.9123 391.51,-70.111 383.6901,-61.0192\"/>\n<polygon fill=\"#000000\" stroke=\"#000000\" points=\"386.1809,-58.5477 377.0065,-53.2485 380.8738,-63.1123 386.1809,-58.5477\"/>\n</g>\n<!-- 8 -->\n<g id=\"node9\" class=\"node\">\n<title>8</title>\n<polygon fill=\"#4ca6e7\" stroke=\"#000000\" points=\"558,-53 434,-53 434,0 558,0 558,-53\"/>\n<text text-anchor=\"middle\" x=\"496\" y=\"-37.8\" font-family=\"Helvetica,sans-Serif\" font-size=\"14.00\" fill=\"#000000\">samples = 776</text>\n<text text-anchor=\"middle\" x=\"496\" y=\"-22.8\" font-family=\"Helvetica,sans-Serif\" font-size=\"14.00\" fill=\"#000000\">value = [68, 708]</text>\n<text text-anchor=\"middle\" x=\"496\" y=\"-7.8\" font-family=\"Helvetica,sans-Serif\" font-size=\"14.00\" fill=\"#000000\">class = 비만아님</text>\n</g>\n<!-- 6&#45;&gt;8 -->\n<g id=\"edge8\" class=\"edge\">\n<title>6&#45;&gt;8</title>\n<path fill=\"none\" stroke=\"#000000\" d=\"M457.8012,-88.9777C463.1758,-80.187 468.9735,-70.7044 474.3885,-61.8477\"/>\n<polygon fill=\"#000000\" stroke=\"#000000\" points=\"477.4158,-63.6059 479.646,-53.2485 471.4436,-59.9545 477.4158,-63.6059\"/>\n</g>\n<!-- 10 -->\n<g id=\"node11\" class=\"node\">\n<title>10</title>\n<polygon fill=\"#76bbed\" stroke=\"#000000\" points=\"851,-157 687,-157 687,-89 851,-89 851,-157\"/>\n<text text-anchor=\"middle\" x=\"769\" y=\"-141.8\" font-family=\"Helvetica,sans-Serif\" font-size=\"14.00\" fill=\"#000000\">혈청크레아티닌 &lt;= 0.65</text>\n<text text-anchor=\"middle\" x=\"769\" y=\"-126.8\" font-family=\"Helvetica,sans-Serif\" font-size=\"14.00\" fill=\"#000000\">samples = 978</text>\n<text text-anchor=\"middle\" x=\"769\" y=\"-111.8\" font-family=\"Helvetica,sans-Serif\" font-size=\"14.00\" fill=\"#000000\">value = [230, 748]</text>\n<text text-anchor=\"middle\" x=\"769\" y=\"-96.8\" font-family=\"Helvetica,sans-Serif\" font-size=\"14.00\" fill=\"#000000\">class = 비만아님</text>\n</g>\n<!-- 9&#45;&gt;10 -->\n<g id=\"edge10\" class=\"edge\">\n<title>9&#45;&gt;10</title>\n<path fill=\"none\" stroke=\"#000000\" d=\"M828.8581,-192.9465C821.1745,-183.968 812.7947,-174.1758 804.8041,-164.8385\"/>\n<polygon fill=\"#000000\" stroke=\"#000000\" points=\"807.3685,-162.4521 798.2074,-157.13 802.0501,-167.0034 807.3685,-162.4521\"/>\n</g>\n<!-- 13 -->\n<g id=\"node14\" class=\"node\">\n<title>13</title>\n<polygon fill=\"#a8d4f4\" stroke=\"#000000\" points=\"1027,-157 869,-157 869,-89 1027,-89 1027,-157\"/>\n<text text-anchor=\"middle\" x=\"948\" y=\"-141.8\" font-family=\"Helvetica,sans-Serif\" font-size=\"14.00\" fill=\"#000000\">총콜레스테롤 &lt;= 305.0</text>\n<text text-anchor=\"middle\" x=\"948\" y=\"-126.8\" font-family=\"Helvetica,sans-Serif\" font-size=\"14.00\" fill=\"#000000\">samples = 880</text>\n<text text-anchor=\"middle\" x=\"948\" y=\"-111.8\" font-family=\"Helvetica,sans-Serif\" font-size=\"14.00\" fill=\"#000000\">value = [317, 563]</text>\n<text text-anchor=\"middle\" x=\"948\" y=\"-96.8\" font-family=\"Helvetica,sans-Serif\" font-size=\"14.00\" fill=\"#000000\">class = 비만아님</text>\n</g>\n<!-- 9&#45;&gt;13 -->\n<g id=\"edge13\" class=\"edge\">\n<title>9&#45;&gt;13</title>\n<path fill=\"none\" stroke=\"#000000\" d=\"M887.4694,-192.9465C895.2393,-183.968 903.7132,-174.1758 911.7936,-164.8385\"/>\n<polygon fill=\"#000000\" stroke=\"#000000\" points=\"914.5672,-166.982 918.4644,-157.13 909.274,-162.4014 914.5672,-166.982\"/>\n</g>\n<!-- 11 -->\n<g id=\"node12\" class=\"node\">\n<title>11</title>\n<polygon fill=\"#9ecff2\" stroke=\"#000000\" points=\"700,-53 576,-53 576,0 700,0 700,-53\"/>\n<text text-anchor=\"middle\" x=\"638\" y=\"-37.8\" font-family=\"Helvetica,sans-Serif\" font-size=\"14.00\" fill=\"#000000\">samples = 169</text>\n<text text-anchor=\"middle\" x=\"638\" y=\"-22.8\" font-family=\"Helvetica,sans-Serif\" font-size=\"14.00\" fill=\"#000000\">value = [57, 112]</text>\n<text text-anchor=\"middle\" x=\"638\" y=\"-7.8\" font-family=\"Helvetica,sans-Serif\" font-size=\"14.00\" fill=\"#000000\">class = 비만아님</text>\n</g>\n<!-- 10&#45;&gt;11 -->\n<g id=\"edge11\" class=\"edge\">\n<title>10&#45;&gt;11</title>\n<path fill=\"none\" stroke=\"#000000\" d=\"M722.8143,-88.9777C709.7621,-79.3629 695.5861,-68.9203 682.6273,-59.3743\"/>\n<polygon fill=\"#000000\" stroke=\"#000000\" points=\"684.4386,-56.3615 674.3114,-53.2485 680.2869,-61.9974 684.4386,-56.3615\"/>\n</g>\n<!-- 12 -->\n<g id=\"node13\" class=\"node\">\n<title>12</title>\n<polygon fill=\"#6fb8ec\" stroke=\"#000000\" points=\"850,-53 718,-53 718,0 850,0 850,-53\"/>\n<text text-anchor=\"middle\" x=\"784\" y=\"-37.8\" font-family=\"Helvetica,sans-Serif\" font-size=\"14.00\" fill=\"#000000\">samples = 809</text>\n<text text-anchor=\"middle\" x=\"784\" y=\"-22.8\" font-family=\"Helvetica,sans-Serif\" font-size=\"14.00\" fill=\"#000000\">value = [173, 636]</text>\n<text text-anchor=\"middle\" x=\"784\" y=\"-7.8\" font-family=\"Helvetica,sans-Serif\" font-size=\"14.00\" fill=\"#000000\">class = 비만아님</text>\n</g>\n<!-- 10&#45;&gt;12 -->\n<g id=\"edge12\" class=\"edge\">\n<title>10&#45;&gt;12</title>\n<path fill=\"none\" stroke=\"#000000\" d=\"M774.2884,-88.9777C775.5837,-80.6449 776.9756,-71.6903 778.2897,-63.2364\"/>\n<polygon fill=\"#000000\" stroke=\"#000000\" points=\"781.7646,-63.6674 779.8422,-53.2485 774.8477,-62.5922 781.7646,-63.6674\"/>\n</g>\n<!-- 14 -->\n<g id=\"node15\" class=\"node\">\n<title>14</title>\n<polygon fill=\"#a7d3f3\" stroke=\"#000000\" points=\"1000,-53 868,-53 868,0 1000,0 1000,-53\"/>\n<text text-anchor=\"middle\" x=\"934\" y=\"-37.8\" font-family=\"Helvetica,sans-Serif\" font-size=\"14.00\" fill=\"#000000\">samples = 875</text>\n<text text-anchor=\"middle\" x=\"934\" y=\"-22.8\" font-family=\"Helvetica,sans-Serif\" font-size=\"14.00\" fill=\"#000000\">value = [312, 563]</text>\n<text text-anchor=\"middle\" x=\"934\" y=\"-7.8\" font-family=\"Helvetica,sans-Serif\" font-size=\"14.00\" fill=\"#000000\">class = 비만아님</text>\n</g>\n<!-- 13&#45;&gt;14 -->\n<g id=\"edge14\" class=\"edge\">\n<title>13&#45;&gt;14</title>\n<path fill=\"none\" stroke=\"#000000\" d=\"M943.0641,-88.9777C941.8552,-80.6449 940.5561,-71.6903 939.3296,-63.2364\"/>\n<polygon fill=\"#000000\" stroke=\"#000000\" points=\"942.7802,-62.6423 937.8806,-53.2485 935.8527,-63.6474 942.7802,-62.6423\"/>\n</g>\n<!-- 15 -->\n<g id=\"node16\" class=\"node\">\n<title>15</title>\n<polygon fill=\"#e58139\" stroke=\"#000000\" points=\"1117.5,-53 1018.5,-53 1018.5,0 1117.5,0 1117.5,-53\"/>\n<text text-anchor=\"middle\" x=\"1068\" y=\"-37.8\" font-family=\"Helvetica,sans-Serif\" font-size=\"14.00\" fill=\"#000000\">samples = 5</text>\n<text text-anchor=\"middle\" x=\"1068\" y=\"-22.8\" font-family=\"Helvetica,sans-Serif\" font-size=\"14.00\" fill=\"#000000\">value = [5, 0]</text>\n<text text-anchor=\"middle\" x=\"1068\" y=\"-7.8\" font-family=\"Helvetica,sans-Serif\" font-size=\"14.00\" fill=\"#000000\">class = 비만</text>\n</g>\n<!-- 13&#45;&gt;15 -->\n<g id=\"edge15\" class=\"edge\">\n<title>13&#45;&gt;15</title>\n<path fill=\"none\" stroke=\"#000000\" d=\"M990.3075,-88.9777C1002.1499,-79.4545 1015.0021,-69.1191 1026.7805,-59.6473\"/>\n<polygon fill=\"#000000\" stroke=\"#000000\" points=\"1029.1382,-62.2427 1034.7376,-53.2485 1024.7514,-56.7877 1029.1382,-62.2427\"/>\n</g>\n<!-- 17 -->\n<g id=\"node18\" class=\"node\">\n<title>17</title>\n<polygon fill=\"#fae8da\" stroke=\"#000000\" points=\"1483.5,-261 1346.5,-261 1346.5,-193 1483.5,-193 1483.5,-261\"/>\n<text text-anchor=\"middle\" x=\"1415\" y=\"-245.8\" font-family=\"Helvetica,sans-Serif\" font-size=\"14.00\" fill=\"#000000\">감마지티피 &lt;= 22.5</text>\n<text text-anchor=\"middle\" x=\"1415\" y=\"-230.8\" font-family=\"Helvetica,sans-Serif\" font-size=\"14.00\" fill=\"#000000\">samples = 1149</text>\n<text text-anchor=\"middle\" x=\"1415\" y=\"-215.8\" font-family=\"Helvetica,sans-Serif\" font-size=\"14.00\" fill=\"#000000\">value = [633, 516]</text>\n<text text-anchor=\"middle\" x=\"1415\" y=\"-200.8\" font-family=\"Helvetica,sans-Serif\" font-size=\"14.00\" fill=\"#000000\">class = 비만</text>\n</g>\n<!-- 16&#45;&gt;17 -->\n<g id=\"edge17\" class=\"edge\">\n<title>16&#45;&gt;17</title>\n<path fill=\"none\" stroke=\"#000000\" d=\"M1415,-296.9465C1415,-288.776 1415,-279.9318 1415,-271.3697\"/>\n<polygon fill=\"#000000\" stroke=\"#000000\" points=\"1418.5001,-271.13 1415,-261.13 1411.5001,-271.13 1418.5001,-271.13\"/>\n</g>\n<!-- 24 -->\n<g id=\"node25\" class=\"node\">\n<title>24</title>\n<polygon fill=\"#e99356\" stroke=\"#000000\" points=\"1906,-261 1766,-261 1766,-193 1906,-193 1906,-261\"/>\n<text text-anchor=\"middle\" x=\"1836\" y=\"-245.8\" font-family=\"Helvetica,sans-Serif\" font-size=\"14.00\" fill=\"#000000\">허리둘레 &lt;= 94.05</text>\n<text text-anchor=\"middle\" x=\"1836\" y=\"-230.8\" font-family=\"Helvetica,sans-Serif\" font-size=\"14.00\" fill=\"#000000\">samples = 1668</text>\n<text text-anchor=\"middle\" x=\"1836\" y=\"-215.8\" font-family=\"Helvetica,sans-Serif\" font-size=\"14.00\" fill=\"#000000\">value = [1458, 210]</text>\n<text text-anchor=\"middle\" x=\"1836\" y=\"-200.8\" font-family=\"Helvetica,sans-Serif\" font-size=\"14.00\" fill=\"#000000\">class = 비만</text>\n</g>\n<!-- 16&#45;&gt;24 -->\n<g id=\"edge24\" class=\"edge\">\n<title>16&#45;&gt;24</title>\n<path fill=\"none\" stroke=\"#000000\" d=\"M1485.4659,-313.5927C1560.1049,-295.1546 1677.7323,-266.097 1755.8548,-246.7983\"/>\n<polygon fill=\"#000000\" stroke=\"#000000\" points=\"1756.7866,-250.1734 1765.6554,-244.3773 1755.1078,-243.3777 1756.7866,-250.1734\"/>\n</g>\n<!-- 18 -->\n<g id=\"node19\" class=\"node\">\n<title>18</title>\n<polygon fill=\"#e5f2fc\" stroke=\"#000000\" points=\"1416,-157 1230,-157 1230,-89 1416,-89 1416,-157\"/>\n<text text-anchor=\"middle\" x=\"1323\" y=\"-141.8\" font-family=\"Helvetica,sans-Serif\" font-size=\"14.00\" fill=\"#000000\">식전혈당(공복혈당) &lt;= 88.5</text>\n<text text-anchor=\"middle\" x=\"1323\" y=\"-126.8\" font-family=\"Helvetica,sans-Serif\" font-size=\"14.00\" fill=\"#000000\">samples = 361</text>\n<text text-anchor=\"middle\" x=\"1323\" y=\"-111.8\" font-family=\"Helvetica,sans-Serif\" font-size=\"14.00\" fill=\"#000000\">value = [168, 193]</text>\n<text text-anchor=\"middle\" x=\"1323\" y=\"-96.8\" font-family=\"Helvetica,sans-Serif\" font-size=\"14.00\" fill=\"#000000\">class = 비만아님</text>\n</g>\n<!-- 17&#45;&gt;18 -->\n<g id=\"edge18\" class=\"edge\">\n<title>17&#45;&gt;18</title>\n<path fill=\"none\" stroke=\"#000000\" d=\"M1384.8758,-192.9465C1376.9332,-183.968 1368.2709,-174.1758 1360.011,-164.8385\"/>\n<polygon fill=\"#000000\" stroke=\"#000000\" points=\"1362.4392,-162.301 1353.1919,-157.13 1357.1962,-166.939 1362.4392,-162.301\"/>\n</g>\n<!-- 21 -->\n<g id=\"node22\" class=\"node\">\n<title>21</title>\n<polygon fill=\"#f7d9c3\" stroke=\"#000000\" points=\"1579.5,-157 1434.5,-157 1434.5,-89 1579.5,-89 1579.5,-157\"/>\n<text text-anchor=\"middle\" x=\"1507\" y=\"-141.8\" font-family=\"Helvetica,sans-Serif\" font-size=\"14.00\" fill=\"#000000\">감마지티피 &lt;= 142.5</text>\n<text text-anchor=\"middle\" x=\"1507\" y=\"-126.8\" font-family=\"Helvetica,sans-Serif\" font-size=\"14.00\" fill=\"#000000\">samples = 788</text>\n<text text-anchor=\"middle\" x=\"1507\" y=\"-111.8\" font-family=\"Helvetica,sans-Serif\" font-size=\"14.00\" fill=\"#000000\">value = [465, 323]</text>\n<text text-anchor=\"middle\" x=\"1507\" y=\"-96.8\" font-family=\"Helvetica,sans-Serif\" font-size=\"14.00\" fill=\"#000000\">class = 비만</text>\n</g>\n<!-- 17&#45;&gt;21 -->\n<g id=\"edge21\" class=\"edge\">\n<title>17&#45;&gt;21</title>\n<path fill=\"none\" stroke=\"#000000\" d=\"M1445.1242,-192.9465C1453.0668,-183.968 1461.7291,-174.1758 1469.989,-164.8385\"/>\n<polygon fill=\"#000000\" stroke=\"#000000\" points=\"1472.8038,-166.939 1476.8081,-157.13 1467.5608,-162.301 1472.8038,-166.939\"/>\n</g>\n<!-- 19 -->\n<g id=\"node20\" class=\"node\">\n<title>19</title>\n<polygon fill=\"#97ccf1\" stroke=\"#000000\" points=\"1256,-53 1136,-53 1136,0 1256,0 1256,-53\"/>\n<text text-anchor=\"middle\" x=\"1196\" y=\"-37.8\" font-family=\"Helvetica,sans-Serif\" font-size=\"14.00\" fill=\"#000000\">samples = 62</text>\n<text text-anchor=\"middle\" x=\"1196\" y=\"-22.8\" font-family=\"Helvetica,sans-Serif\" font-size=\"14.00\" fill=\"#000000\">value = [20, 42]</text>\n<text text-anchor=\"middle\" x=\"1196\" y=\"-7.8\" font-family=\"Helvetica,sans-Serif\" font-size=\"14.00\" fill=\"#000000\">class = 비만아님</text>\n</g>\n<!-- 18&#45;&gt;19 -->\n<g id=\"edge19\" class=\"edge\">\n<title>18&#45;&gt;19</title>\n<path fill=\"none\" stroke=\"#000000\" d=\"M1278.2246,-88.9777C1265.5708,-79.3629 1251.8277,-68.9203 1239.2647,-59.3743\"/>\n<polygon fill=\"#000000\" stroke=\"#000000\" points=\"1241.2824,-56.5118 1231.2027,-53.2485 1237.0474,-62.0853 1241.2824,-56.5118\"/>\n</g>\n<!-- 20 -->\n<g id=\"node21\" class=\"node\">\n<title>20</title>\n<polygon fill=\"#fbfdfe\" stroke=\"#000000\" points=\"1406,-53 1274,-53 1274,0 1406,0 1406,-53\"/>\n<text text-anchor=\"middle\" x=\"1340\" y=\"-37.8\" font-family=\"Helvetica,sans-Serif\" font-size=\"14.00\" fill=\"#000000\">samples = 299</text>\n<text text-anchor=\"middle\" x=\"1340\" y=\"-22.8\" font-family=\"Helvetica,sans-Serif\" font-size=\"14.00\" fill=\"#000000\">value = [148, 151]</text>\n<text text-anchor=\"middle\" x=\"1340\" y=\"-7.8\" font-family=\"Helvetica,sans-Serif\" font-size=\"14.00\" fill=\"#000000\">class = 비만아님</text>\n</g>\n<!-- 18&#45;&gt;20 -->\n<g id=\"edge20\" class=\"edge\">\n<title>18&#45;&gt;20</title>\n<path fill=\"none\" stroke=\"#000000\" d=\"M1328.9936,-88.9777C1330.4615,-80.6449 1332.039,-71.6903 1333.5283,-63.2364\"/>\n<polygon fill=\"#000000\" stroke=\"#000000\" points=\"1336.9997,-63.7041 1335.2878,-53.2485 1330.1059,-62.4896 1336.9997,-63.7041\"/>\n</g>\n<!-- 22 -->\n<g id=\"node23\" class=\"node\">\n<title>22</title>\n<polygon fill=\"#f6d4bc\" stroke=\"#000000\" points=\"1556,-53 1424,-53 1424,0 1556,0 1556,-53\"/>\n<text text-anchor=\"middle\" x=\"1490\" y=\"-37.8\" font-family=\"Helvetica,sans-Serif\" font-size=\"14.00\" fill=\"#000000\">samples = 742</text>\n<text text-anchor=\"middle\" x=\"1490\" y=\"-22.8\" font-family=\"Helvetica,sans-Serif\" font-size=\"14.00\" fill=\"#000000\">value = [447, 295]</text>\n<text text-anchor=\"middle\" x=\"1490\" y=\"-7.8\" font-family=\"Helvetica,sans-Serif\" font-size=\"14.00\" fill=\"#000000\">class = 비만</text>\n</g>\n<!-- 21&#45;&gt;22 -->\n<g id=\"edge22\" class=\"edge\">\n<title>21&#45;&gt;22</title>\n<path fill=\"none\" stroke=\"#000000\" d=\"M1501.0064,-88.9777C1499.5385,-80.6449 1497.961,-71.6903 1496.4717,-63.2364\"/>\n<polygon fill=\"#000000\" stroke=\"#000000\" points=\"1499.8941,-62.4896 1494.7122,-53.2485 1493.0003,-63.7041 1499.8941,-62.4896\"/>\n</g>\n<!-- 23 -->\n<g id=\"node24\" class=\"node\">\n<title>23</title>\n<polygon fill=\"#b8dcf6\" stroke=\"#000000\" points=\"1694,-53 1574,-53 1574,0 1694,0 1694,-53\"/>\n<text text-anchor=\"middle\" x=\"1634\" y=\"-37.8\" font-family=\"Helvetica,sans-Serif\" font-size=\"14.00\" fill=\"#000000\">samples = 46</text>\n<text text-anchor=\"middle\" x=\"1634\" y=\"-22.8\" font-family=\"Helvetica,sans-Serif\" font-size=\"14.00\" fill=\"#000000\">value = [18, 28]</text>\n<text text-anchor=\"middle\" x=\"1634\" y=\"-7.8\" font-family=\"Helvetica,sans-Serif\" font-size=\"14.00\" fill=\"#000000\">class = 비만아님</text>\n</g>\n<!-- 21&#45;&gt;23 -->\n<g id=\"edge23\" class=\"edge\">\n<title>21&#45;&gt;23</title>\n<path fill=\"none\" stroke=\"#000000\" d=\"M1551.7754,-88.9777C1564.4292,-79.3629 1578.1723,-68.9203 1590.7353,-59.3743\"/>\n<polygon fill=\"#000000\" stroke=\"#000000\" points=\"1592.9526,-62.0853 1598.7973,-53.2485 1588.7176,-56.5118 1592.9526,-62.0853\"/>\n</g>\n<!-- 25 -->\n<g id=\"node26\" class=\"node\">\n<title>25</title>\n<polygon fill=\"#eb9f69\" stroke=\"#000000\" points=\"1902,-157 1770,-157 1770,-89 1902,-89 1902,-157\"/>\n<text text-anchor=\"middle\" x=\"1836\" y=\"-141.8\" font-family=\"Helvetica,sans-Serif\" font-size=\"14.00\" fill=\"#000000\">허리둘레 &lt;= 90.55</text>\n<text text-anchor=\"middle\" x=\"1836\" y=\"-126.8\" font-family=\"Helvetica,sans-Serif\" font-size=\"14.00\" fill=\"#000000\">samples = 904</text>\n<text text-anchor=\"middle\" x=\"1836\" y=\"-111.8\" font-family=\"Helvetica,sans-Serif\" font-size=\"14.00\" fill=\"#000000\">value = [728, 176]</text>\n<text text-anchor=\"middle\" x=\"1836\" y=\"-96.8\" font-family=\"Helvetica,sans-Serif\" font-size=\"14.00\" fill=\"#000000\">class = 비만</text>\n</g>\n<!-- 24&#45;&gt;25 -->\n<g id=\"edge25\" class=\"edge\">\n<title>24&#45;&gt;25</title>\n<path fill=\"none\" stroke=\"#000000\" d=\"M1836,-192.9465C1836,-184.776 1836,-175.9318 1836,-167.3697\"/>\n<polygon fill=\"#000000\" stroke=\"#000000\" points=\"1839.5001,-167.13 1836,-157.13 1832.5001,-167.13 1839.5001,-167.13\"/>\n</g>\n<!-- 28 -->\n<g id=\"node29\" class=\"node\">\n<title>28</title>\n<polygon fill=\"#e68742\" stroke=\"#000000\" points=\"2146,-157 1982,-157 1982,-89 2146,-89 2146,-157\"/>\n<text text-anchor=\"middle\" x=\"2064\" y=\"-141.8\" font-family=\"Helvetica,sans-Serif\" font-size=\"14.00\" fill=\"#000000\">혈청크레아티닌 &lt;= 0.23</text>\n<text text-anchor=\"middle\" x=\"2064\" y=\"-126.8\" font-family=\"Helvetica,sans-Serif\" font-size=\"14.00\" fill=\"#000000\">samples = 764</text>\n<text text-anchor=\"middle\" x=\"2064\" y=\"-111.8\" font-family=\"Helvetica,sans-Serif\" font-size=\"14.00\" fill=\"#000000\">value = [730, 34]</text>\n<text text-anchor=\"middle\" x=\"2064\" y=\"-96.8\" font-family=\"Helvetica,sans-Serif\" font-size=\"14.00\" fill=\"#000000\">class = 비만</text>\n</g>\n<!-- 24&#45;&gt;28 -->\n<g id=\"edge28\" class=\"edge\">\n<title>24&#45;&gt;28</title>\n<path fill=\"none\" stroke=\"#000000\" d=\"M1906.2679,-194.948C1929.5882,-184.3106 1955.7863,-172.3606 1980.0327,-161.3009\"/>\n<polygon fill=\"#000000\" stroke=\"#000000\" points=\"1981.5741,-164.4448 1989.2197,-157.1103 1978.669,-158.076 1981.5741,-164.4448\"/>\n</g>\n<!-- 26 -->\n<g id=\"node27\" class=\"node\">\n<title>26</title>\n<polygon fill=\"#eead7e\" stroke=\"#000000\" points=\"1836,-53 1712,-53 1712,0 1836,0 1836,-53\"/>\n<text text-anchor=\"middle\" x=\"1774\" y=\"-37.8\" font-family=\"Helvetica,sans-Serif\" font-size=\"14.00\" fill=\"#000000\">samples = 262</text>\n<text text-anchor=\"middle\" x=\"1774\" y=\"-22.8\" font-family=\"Helvetica,sans-Serif\" font-size=\"14.00\" fill=\"#000000\">value = [194, 68]</text>\n<text text-anchor=\"middle\" x=\"1774\" y=\"-7.8\" font-family=\"Helvetica,sans-Serif\" font-size=\"14.00\" fill=\"#000000\">class = 비만</text>\n</g>\n<!-- 25&#45;&gt;26 -->\n<g id=\"edge26\" class=\"edge\">\n<title>25&#45;&gt;26</title>\n<path fill=\"none\" stroke=\"#000000\" d=\"M1814.1411,-88.9777C1808.4932,-80.187 1802.4007,-70.7044 1796.7104,-61.8477\"/>\n<polygon fill=\"#000000\" stroke=\"#000000\" points=\"1799.5356,-59.7698 1791.1856,-53.2485 1793.6463,-63.5536 1799.5356,-59.7698\"/>\n</g>\n<!-- 27 -->\n<g id=\"node28\" class=\"node\">\n<title>27</title>\n<polygon fill=\"#ea9a61\" stroke=\"#000000\" points=\"1986,-53 1854,-53 1854,0 1986,0 1986,-53\"/>\n<text text-anchor=\"middle\" x=\"1920\" y=\"-37.8\" font-family=\"Helvetica,sans-Serif\" font-size=\"14.00\" fill=\"#000000\">samples = 642</text>\n<text text-anchor=\"middle\" x=\"1920\" y=\"-22.8\" font-family=\"Helvetica,sans-Serif\" font-size=\"14.00\" fill=\"#000000\">value = [534, 108]</text>\n<text text-anchor=\"middle\" x=\"1920\" y=\"-7.8\" font-family=\"Helvetica,sans-Serif\" font-size=\"14.00\" fill=\"#000000\">class = 비만</text>\n</g>\n<!-- 25&#45;&gt;27 -->\n<g id=\"edge27\" class=\"edge\">\n<title>25&#45;&gt;27</title>\n<path fill=\"none\" stroke=\"#000000\" d=\"M1865.6153,-88.9777C1873.5064,-79.9123 1882.0381,-70.111 1889.9522,-61.0192\"/>\n<polygon fill=\"#000000\" stroke=\"#000000\" points=\"1892.7906,-63.0892 1896.7164,-53.2485 1887.5107,-58.4932 1892.7906,-63.0892\"/>\n</g>\n<!-- 29 -->\n<g id=\"node30\" class=\"node\">\n<title>29</title>\n<polygon fill=\"#399de5\" stroke=\"#000000\" points=\"2124,-53 2004,-53 2004,0 2124,0 2124,-53\"/>\n<text text-anchor=\"middle\" x=\"2064\" y=\"-37.8\" font-family=\"Helvetica,sans-Serif\" font-size=\"14.00\" fill=\"#000000\">samples = 1</text>\n<text text-anchor=\"middle\" x=\"2064\" y=\"-22.8\" font-family=\"Helvetica,sans-Serif\" font-size=\"14.00\" fill=\"#000000\">value = [0, 1]</text>\n<text text-anchor=\"middle\" x=\"2064\" y=\"-7.8\" font-family=\"Helvetica,sans-Serif\" font-size=\"14.00\" fill=\"#000000\">class = 비만아님</text>\n</g>\n<!-- 28&#45;&gt;29 -->\n<g id=\"edge29\" class=\"edge\">\n<title>28&#45;&gt;29</title>\n<path fill=\"none\" stroke=\"#000000\" d=\"M2064,-88.9777C2064,-80.7364 2064,-71.887 2064,-63.5153\"/>\n<polygon fill=\"#000000\" stroke=\"#000000\" points=\"2067.5001,-63.2484 2064,-53.2485 2060.5001,-63.2485 2067.5001,-63.2484\"/>\n</g>\n<!-- 30 -->\n<g id=\"node31\" class=\"node\">\n<title>30</title>\n<polygon fill=\"#e68742\" stroke=\"#000000\" points=\"2266,-53 2142,-53 2142,0 2266,0 2266,-53\"/>\n<text text-anchor=\"middle\" x=\"2204\" y=\"-37.8\" font-family=\"Helvetica,sans-Serif\" font-size=\"14.00\" fill=\"#000000\">samples = 763</text>\n<text text-anchor=\"middle\" x=\"2204\" y=\"-22.8\" font-family=\"Helvetica,sans-Serif\" font-size=\"14.00\" fill=\"#000000\">value = [730, 33]</text>\n<text text-anchor=\"middle\" x=\"2204\" y=\"-7.8\" font-family=\"Helvetica,sans-Serif\" font-size=\"14.00\" fill=\"#000000\">class = 비만</text>\n</g>\n<!-- 28&#45;&gt;30 -->\n<g id=\"edge30\" class=\"edge\">\n<title>28&#45;&gt;30</title>\n<path fill=\"none\" stroke=\"#000000\" d=\"M2113.3588,-88.9777C2127.4406,-79.2713 2142.7463,-68.7213 2156.702,-59.1018\"/>\n<polygon fill=\"#000000\" stroke=\"#000000\" points=\"2158.9467,-61.8055 2165.1939,-53.2485 2154.974,-56.042 2158.9467,-61.8055\"/>\n</g>\n</g>\n</svg>\n"
          },
          "metadata": {}
        }
      ]
    },
    {
      "cell_type": "code",
      "source": [
        "result = tree.feature_importances_\n",
        "print(\"변수의 중요도:\\n\", result)"
      ],
      "metadata": {
        "colab": {
          "base_uri": "https://localhost:8080/"
        },
        "id": "4NtqUDX0lp3P",
        "outputId": "f77c5452-9d17-4fe7-b8c8-62e75f04ac6b"
      },
      "execution_count": 22,
      "outputs": [
        {
          "output_type": "stream",
          "name": "stdout",
          "text": [
            "변수의 중요도:\n",
            " [0.98228514 0.00193431 0.00260842 0.0058443  0.00732783]\n"
          ]
        }
      ]
    },
    {
      "cell_type": "code",
      "source": [
        "import numpy as np\n",
        "\n",
        "def plot_feature_importances_health_new(model):\n",
        "    plt.rcParams[\"figure.figsize\"] = (9,6)\n",
        "    n_features = len(X.columns)  \n",
        "    plt.barh(np.arange(n_features), model.feature_importances_, align='center') \n",
        "    plt.yticks(np.arange(n_features), X.columns) \n",
        "    plt.xlabel(\"feature importance\")\n",
        "    plt.ylabel(\"feature\")\n",
        "    plt.ylim(-1, n_features) \n",
        "\n",
        "plot_feature_importances_health_new(tree)"
      ],
      "metadata": {
        "colab": {
          "base_uri": "https://localhost:8080/",
          "height": 389
        },
        "id": "-803vHk4lzQB",
        "outputId": "c0724ab6-a05f-4dc8-8ac8-8f2a51a63912"
      },
      "execution_count": 23,
      "outputs": [
        {
          "output_type": "display_data",
          "data": {
            "text/plain": [
              "<Figure size 648x432 with 1 Axes>"
            ],
            "image/png": "[encoded data removed]"
          },
          "metadata": {
            "needs_background": "light"
          }
        }
      ]
    },
    {
      "cell_type": "code",
      "source": [
        "res = pd.DataFrame(result)\n",
        "res[\"name\"] = X.columns\n",
        "display(res.info())\n",
        " \n",
        "display(res.sort_values(by='name'))"
      ],
      "metadata": {
        "colab": {
          "base_uri": "https://localhost:8080/",
          "height": 388
        },
        "id": "7-fHnEo-mH9J",
        "outputId": "1dabcb46-227b-4c80-d6c9-4bb4e96a412a"
      },
      "execution_count": 24,
      "outputs": [
        {
          "output_type": "stream",
          "name": "stdout",
          "text": [
            "<class 'pandas.core.frame.DataFrame'>\n",
            "RangeIndex: 5 entries, 0 to 4\n",
            "Data columns (total 2 columns):\n",
            " #   Column  Non-Null Count  Dtype  \n",
            "---  ------  --------------  -----  \n",
            " 0   0       5 non-null      float64\n",
            " 1   name    5 non-null      object \n",
            "dtypes: float64(1), object(1)\n",
            "memory usage: 208.0+ bytes\n"
          ]
        },
        {
          "output_type": "display_data",
          "data": {
            "text/plain": [
              "None"
            ]
          },
          "metadata": {}
        },
        {
          "output_type": "display_data",
          "data": {
            "text/plain": [
              "          0        name\n",
              "4  0.007328       감마지티피\n",
              "1  0.001934  식전혈당(공복혈당)\n",
              "2  0.002608      총콜레스테롤\n",
              "0  0.982285        허리둘레\n",
              "3  0.005844     혈청크레아티닌"
            ],
            "text/html": [
              "\n",
              "  <div id=\"df-155a23f2-72e6-4b4a-8049-acd97ba0937c\">\n",
              "    <div class=\"colab-df-container\">\n",
              "      <div>\n",
              "<style scoped>\n",
              "    .dataframe tbody tr th:only-of-type {\n",
              "        vertical-align: middle;\n",
              "    }\n",
              "\n",
              "    .dataframe tbody tr th {\n",
              "        vertical-align: top;\n",
              "    }\n",
              "\n",
              "    .dataframe thead th {\n",
              "        text-align: right;\n",
              "    }\n",
              "</style>\n",
              "<table border=\"1\" class=\"dataframe\">\n",
              "  <thead>\n",
              "    <tr style=\"text-align: right;\">\n",
              "      <th></th>\n",
              "      <th>0</th>\n",
              "      <th>name</th>\n",
              "    </tr>\n",
              "  </thead>\n",
              "  <tbody>\n",
              "    <tr>\n",
              "      <th>4</th>\n",
              "      <td>0.007328</td>\n",
              "      <td>감마지티피</td>\n",
              "    </tr>\n",
              "    <tr>\n",
              "      <th>1</th>\n",
              "      <td>0.001934</td>\n",
              "      <td>식전혈당(공복혈당)</td>\n",
              "    </tr>\n",
              "    <tr>\n",
              "      <th>2</th>\n",
              "      <td>0.002608</td>\n",
              "      <td>총콜레스테롤</td>\n",
              "    </tr>\n",
              "    <tr>\n",
              "      <th>0</th>\n",
              "      <td>0.982285</td>\n",
              "      <td>허리둘레</td>\n",
              "    </tr>\n",
              "    <tr>\n",
              "      <th>3</th>\n",
              "      <td>0.005844</td>\n",
              "      <td>혈청크레아티닌</td>\n",
              "    </tr>\n",
              "  </tbody>\n",
              "</table>\n",
              "</div>\n",
              "      <button class=\"colab-df-convert\" onclick=\"convertToInteractive('df-155a23f2-72e6-4b4a-8049-acd97ba0937c')\"\n",
              "              title=\"Convert this dataframe to an interactive table.\"\n",
              "              style=\"display:none;\">\n",
              "        \n",
              "  <svg xmlns=\"http://www.w3.org/2000/svg\" height=\"24px\"viewBox=\"0 0 24 24\"\n",
              "       width=\"24px\">\n",
              "    <path d=\"M0 0h24v24H0V0z\" fill=\"none\"/>\n",
              "    <path d=\"M18.56 5.44l.94 2.06.94-2.06 2.06-.94-2.06-.94-.94-2.06-.94 2.06-2.06.94zm-11 1L8.5 8.5l.94-2.06 2.06-.94-2.06-.94L8.5 2.5l-.94 2.06-2.06.94zm10 10l.94 2.06.94-2.06 2.06-.94-2.06-.94-.94-2.06-.94 2.06-2.06.94z\"/><path d=\"M17.41 7.96l-1.37-1.37c-.4-.4-.92-.59-1.43-.59-.52 0-1.04.2-1.43.59L10.3 9.45l-7.72 7.72c-.78.78-.78 2.05 0 2.83L4 21.41c.39.39.9.59 1.41.59.51 0 1.02-.2 1.41-.59l7.78-7.78 2.81-2.81c.8-.78.8-2.07 0-2.86zM5.41 20L4 18.59l7.72-7.72 1.47 1.35L5.41 20z\"/>\n",
              "  </svg>\n",
              "      </button>\n",
              "      \n",
              "  <style>\n",
              "    .colab-df-container {\n",
              "      display:flex;\n",
              "      flex-wrap:wrap;\n",
              "      gap: 12px;\n",
              "    }\n",
              "\n",
              "    .colab-df-convert {\n",
              "      background-color: #E8F0FE;\n",
              "      border: none;\n",
              "      border-radius: 50%;\n",
              "      cursor: pointer;\n",
              "      display: none;\n",
              "      fill: #1967D2;\n",
              "      height: 32px;\n",
              "      padding: 0 0 0 0;\n",
              "      width: 32px;\n",
              "    }\n",
              "\n",
              "    .colab-df-convert:hover {\n",
              "      background-color: #E2EBFA;\n",
              "      box-shadow: 0px 1px 2px rgba(60, 64, 67, 0.3), 0px 1px 3px 1px rgba(60, 64, 67, 0.15);\n",
              "      fill: #174EA6;\n",
              "    }\n",
              "\n",
              "    [theme=dark] .colab-df-convert {\n",
              "      background-color: #3B4455;\n",
              "      fill: #D2E3FC;\n",
              "    }\n",
              "\n",
              "    [theme=dark] .colab-df-convert:hover {\n",
              "      background-color: #434B5C;\n",
              "      box-shadow: 0px 1px 3px 1px rgba(0, 0, 0, 0.15);\n",
              "      filter: drop-shadow(0px 1px 2px rgba(0, 0, 0, 0.3));\n",
              "      fill: #FFFFFF;\n",
              "    }\n",
              "  </style>\n",
              "\n",
              "      <script>\n",
              "        const buttonEl =\n",
              "          document.querySelector('#df-155a23f2-72e6-4b4a-8049-acd97ba0937c button.colab-df-convert');\n",
              "        buttonEl.style.display =\n",
              "          google.colab.kernel.accessAllowed ? 'block' : 'none';\n",
              "\n",
              "        async function convertToInteractive(key) {\n",
              "          const element = document.querySelector('#df-155a23f2-72e6-4b4a-8049-acd97ba0937c');\n",
              "          const dataTable =\n",
              "            await google.colab.kernel.invokeFunction('convertToInteractive',\n",
              "                                                     [key], {});\n",
              "          if (!dataTable) return;\n",
              "\n",
              "          const docLinkHtml = 'Like what you see? Visit the ' +\n",
              "            '<a target=\"_blank\" href=https://colab.research.google.com/notebooks/data_table.ipynb>data table notebook</a>'\n",
              "            + ' to learn more about interactive tables.';\n",
              "          element.innerHTML = '';\n",
              "          dataTable['output_type'] = 'display_data';\n",
              "          await google.colab.output.renderOutput(dataTable, element);\n",
              "          const docLink = document.createElement('div');\n",
              "          docLink.innerHTML = docLinkHtml;\n",
              "          element.appendChild(docLink);\n",
              "        }\n",
              "      </script>\n",
              "    </div>\n",
              "  </div>\n",
              "  "
            ]
          },
          "metadata": {}
        }
      ]
    },
    {
      "cell_type": "markdown",
      "source": [
        "허리둘레가 가장 크게 영향을 미치는 것으로 보이고, 감마지티피와 혈청크레아티닌도 다소 영향력이 있어보인다.\n",
        "콜레스테롤과 혈당은 거의 영향력이 없다고 할 수 있다."
      ],
      "metadata": {
        "id": "WOfGqGI08EWv"
      }
    },
    {
      "cell_type": "markdown",
      "source": [
        "##랜덤포레스트"
      ],
      "metadata": {
        "id": "tNxCYqtSncLj"
      }
    },
    {
      "cell_type": "code",
      "source": [],
      "metadata": {
        "id": "Nqk1rFNT8RxW"
      },
      "execution_count": 24,
      "outputs": []
    },
    {
      "cell_type": "code",
      "source": [
        "from sklearn.ensemble import RandomForestClassifier\n",
        "\n",
        "forest = RandomForestClassifier(n_estimators=5, random_state=2)\n",
        "forest.fit(X_train.iloc[:, 0:2], y_train)\n",
        "\n",
        "fig, axes = plt.subplots(2, 3, figsize=(20, 10))\n",
        "for i, (ax, tree) in enumerate(zip(axes.ravel(), forest.estimators_)):\n",
        "    ax.set_title(\"Tree {}\".format(i))\n",
        "    mglearn.plots.plot_tree_partition(X.iloc[:, 0:2].values, y, tree, ax=ax)\n",
        "    \n",
        "mglearn.plots.plot_2d_separator(forest, X.iloc[:, 0:2].values, fill=True, ax=axes[-1, -1], alpha=.4)\n",
        "axes[-1, -1].set_title(\"Random forest\")\n",
        "mglearn.discrete_scatter(X.iloc[:, 0], X.iloc[:, 1], y)\n",
        "plt.show()"
      ],
      "metadata": {
        "colab": {
          "base_uri": "https://localhost:8080/",
          "height": 639
        },
        "id": "yy6UP1EdngTN",
        "outputId": "8635063f-84e8-4fa1-c194-670d86722f5a"
      },
      "execution_count": 25,
      "outputs": [
        {
          "output_type": "stream",
          "name": "stderr",
          "text": [
            "/usr/local/lib/python3.7/dist-packages/sklearn/base.py:451: UserWarning: X does not have valid feature names, but RandomForestClassifier was fitted with feature names\n",
            "  \"X does not have valid feature names, but\"\n"
          ]
        },
        {
          "output_type": "display_data",
          "data": {
            "text/plain": [
              "<Figure size 1440x720 with 6 Axes>"
            ],
            "image/png": "[encoded data removed]"
          },
          "metadata": {}
        }
      ]
    },
    {
      "cell_type": "code",
      "source": [
        "forest = RandomForestClassifier(n_estimators=100, random_state=0)\n",
        "forest.fit(X_train, y_train)\n",
        "\n",
        "print(\"학습용 데이터 세트 정확도: {:.3f}\".format(forest.score(X_train, y_train)))\n",
        "print(\"시험용 데이터 세트 정확도: {:.3f}\".format(forest.score(X_test, y_test)))"
      ],
      "metadata": {
        "colab": {
          "base_uri": "https://localhost:8080/"
        },
        "id": "Wj2F5H1-obBg",
        "outputId": "ce88b128-8b72-421c-d906-b7df5796cce2"
      },
      "execution_count": 26,
      "outputs": [
        {
          "output_type": "stream",
          "name": "stdout",
          "text": [
            "학습용 데이터 세트 정확도: 0.998\n",
            "시험용 데이터 세트 정확도: 0.796\n"
          ]
        }
      ]
    },
    {
      "cell_type": "markdown",
      "source": [
        "의사결정나무와 달리 정확도 높아졌다."
      ],
      "metadata": {
        "id": "yhu57ilc_Ua9"
      }
    },
    {
      "cell_type": "code",
      "source": [
        "plot_feature_importances_health_new(forest)"
      ],
      "metadata": {
        "colab": {
          "base_uri": "https://localhost:8080/",
          "height": 389
        },
        "id": "jwNN8Ozvoe4K",
        "outputId": "56b5934b-96f0-4d92-a8a8-6036288c4182"
      },
      "execution_count": 27,
      "outputs": [
        {
          "output_type": "display_data",
          "data": {
            "text/plain": [
              "<Figure size 648x432 with 1 Axes>"
            ],
            "image/png": "[encoded data removed]"
          },
          "metadata": {
            "needs_background": "light"
          }
        }
      ]
    },
    {
      "cell_type": "markdown",
      "source": [
        "허리둘레가 가장 크게 영향이 있다.\n",
        "혈청크레아티닌은 근육과 관련이 있어 수치가 높으면 근육이 많거나 운동량이 많다. 비만과 관련있지 않을까 싶어 독립변수로 설정해보았다. 다소 영향이 있는 것을 보아 어느정도 추측이 맞는 것 같다.\n",
        "콜레스테롤과 혈당 역시 식습관과 관련해 비만에 영향을 주는 것으로 보인다.\n",
        "감마gtp가 외부의 화학물질에 대응해 담즙을 만들어내는 것과 관련된 수치라는 것을 알게되었다. 현대사회에서 유해화학물질을 섭취하는 가장 큰 경로는 식습관이다.수치가 높을수록 고혈압, 암, 뇌졸증 등 만성퇴행성질환의 대부분과 관련이 있다.\n",
        "감마gtp 수치는 동물성 식품을 많이 먹을수록 높다. 왜냐하면 유해화학물질은 지방에 잘 농축되기 때문이다. 반대로 말하면 식물성 식품을 먹을수록 수치가 낮다는 뜻이다. 식물성 식품위주의 섭취는 칼로리가 낮아 자연스레 체중감량으로 이어질 수 밖에 없다고 생각한다. 이때문에 감마gtp가 비만정도와 상관이 있는 것 같다."
      ],
      "metadata": {
        "id": "2pT3ab4dY-iU"
      }
    },
    {
      "cell_type": "code",
      "source": [
        "from sklearn.model_selection import cross_val_score\n",
        "\n",
        "\n",
        "dt_scores = cross_val_score(tree, X_train, y_train, cv=10, scoring='accuracy')  \n",
        "rf_scores = cross_val_score(forest, X_train, y_train, cv=10, scoring='accuracy')\n",
        "\n",
        "print(\"Accuracy\")\n",
        "print(\"Decision tree: \", dt_scores) \n",
        "print(\"Random forest: \", rf_scores) \n",
        "\n",
        "print(\"Accuracy mean\")\n",
        "print(\"Decision tree :{:.3f}\".format(dt_scores.mean())) \n",
        "print(\"Random forest :{:.3f}\".format(rf_scores.mean())) "
      ],
      "metadata": {
        "colab": {
          "base_uri": "https://localhost:8080/"
        },
        "id": "LDnC8SGfNSlF",
        "outputId": "fef5a58e-1d99-4d84-c1da-d8dc3257c015"
      },
      "execution_count": 28,
      "outputs": [
        {
          "output_type": "stream",
          "name": "stdout",
          "text": [
            "Accuracy\n",
            "Decision tree:  [0.72326203 0.75802139 0.70855615 0.72326203 0.73395722 0.73395722\n",
            " 0.70588235 0.73930481 0.73529412 0.75100402]\n",
            "Random forest:  [0.79010695 0.82219251 0.78609626 0.80347594 0.81283422 0.77673797\n",
            " 0.81684492 0.79679144 0.80213904 0.80053548]\n",
            "Accuracy mean\n",
            "Decision tree :0.731\n",
            "Random forest :0.801\n"
          ]
        }
      ]
    },
    {
      "cell_type": "code",
      "source": [
        "cv_list = [    \n",
        "            ['decision_tree',dt_scores],\n",
        "            ['random_forest',rf_scores],\n",
        "          ]\n",
        "df = pd.DataFrame.from_dict(dict(cv_list))\n",
        "df.plot()"
      ],
      "metadata": {
        "colab": {
          "base_uri": "https://localhost:8080/",
          "height": 392
        },
        "id": "LpTU2uNWNb3n",
        "outputId": "f964ed6e-5853-458f-92d0-afe905645dd9"
      },
      "execution_count": 29,
      "outputs": [
        {
          "output_type": "execute_result",
          "data": {
            "text/plain": [
              "<matplotlib.axes._subplots.AxesSubplot at 0x7fc5ce61ed90>"
            ]
          },
          "metadata": {},
          "execution_count": 29
        },
        {
          "output_type": "display_data",
          "data": {
            "text/plain": [
              "<Figure size 648x432 with 1 Axes>"
            ],
            "image/png": "[encoded data removed]"
          },
          "metadata": {
            "needs_background": "light"
          }
        }
      ]
    },
    {
      "cell_type": "markdown",
      "source": [
        "랜덤포레스트의 정확도가 늘 좋다."
      ],
      "metadata": {
        "id": "KP5TY2XCBIeN"
      }
    },
    {
      "cell_type": "markdown",
      "source": [
        "##그레디언트부스팅"
      ],
      "metadata": {
        "id": "NFlDR_QfYJLC"
      }
    },
    {
      "cell_type": "code",
      "source": [
        "from sklearn.ensemble import GradientBoostingClassifier\n",
        "\n",
        "\n",
        "gbrt = GradientBoostingClassifier(random_state=0)\n",
        "gbrt.fit(X_train, y_train)"
      ],
      "metadata": {
        "colab": {
          "base_uri": "https://localhost:8080/"
        },
        "id": "1pf4dLbvNc8U",
        "outputId": "a3f7ca84-4de9-4b51-b772-1114a7232b86"
      },
      "execution_count": 30,
      "outputs": [
        {
          "output_type": "execute_result",
          "data": {
            "text/plain": [
              "GradientBoostingClassifier(random_state=0)"
            ]
          },
          "metadata": {},
          "execution_count": 30
        }
      ]
    },
    {
      "cell_type": "code",
      "source": [
        "print(\"학습용 데이터 세트 정확도: {:.3f}\".format(gbrt.score(X_train, y_train)))\n",
        "print(\"시험용 데이터 세트 정확도: {:.3f}\".format(gbrt.score(X_test, y_test)))"
      ],
      "metadata": {
        "colab": {
          "base_uri": "https://localhost:8080/"
        },
        "id": "h4mSaTUYNi7Q",
        "outputId": "62021d63-c3a3-4d7d-81dc-ff92c0d8ab6b"
      },
      "execution_count": 31,
      "outputs": [
        {
          "output_type": "stream",
          "name": "stdout",
          "text": [
            "학습용 데이터 세트 정확도: 0.825\n",
            "시험용 데이터 세트 정확도: 0.819\n"
          ]
        }
      ]
    },
    {
      "cell_type": "code",
      "source": [
        "plot_feature_importances_health_new(gbrt)"
      ],
      "metadata": {
        "colab": {
          "base_uri": "https://localhost:8080/",
          "height": 389
        },
        "id": "3F5L-BuvNmO-",
        "outputId": "1a656176-9be2-4b05-bd14-4ae1f3788cc1"
      },
      "execution_count": 32,
      "outputs": [
        {
          "output_type": "display_data",
          "data": {
            "text/plain": [
              "<Figure size 648x432 with 1 Axes>"
            ],
            "image/png": "[encoded data removed]"
          },
          "metadata": {
            "needs_background": "light"
          }
        }
      ]
    },
    {
      "cell_type": "code",
      "source": [
        "gbrt = GradientBoostingClassifier(random_state=0, max_depth=2)\n",
        "gbrt.fit(X_train, y_train)\n",
        "\n",
        "print(\"학습 데이터 세트 정확도: {:.3f}\".format(gbrt.score(X_train, y_train)))\n",
        "print(\"시험용 데이터 세트 정확도: {:.3f}\".format(gbrt.score(X_test, y_test)))"
      ],
      "metadata": {
        "colab": {
          "base_uri": "https://localhost:8080/"
        },
        "id": "bngCsa5_N6M2",
        "outputId": "48e45cfb-f72b-41de-8ac1-e4b1bb6b03b4"
      },
      "execution_count": 33,
      "outputs": [
        {
          "output_type": "stream",
          "name": "stdout",
          "text": [
            "학습 데이터 세트 정확도: 0.820\n",
            "시험용 데이터 세트 정확도: 0.819\n"
          ]
        }
      ]
    },
    {
      "cell_type": "code",
      "source": [
        "gbrt = GradientBoostingClassifier(random_state=0, learning_rate=0.01)\n",
        "gbrt.fit(X_train, y_train)\n",
        "\n",
        "print(\"학습 데이터 세트 정확도: {:.3f}\".format(gbrt.score(X_train, y_train)))\n",
        "print(\"시험용 데이터 세트 정확도: {:.3f}\".format(gbrt.score(X_test, y_test)))"
      ],
      "metadata": {
        "colab": {
          "base_uri": "https://localhost:8080/"
        },
        "id": "95ZaXZhJN-iw",
        "outputId": "55488d44-cf60-4c96-bc66-b602ecd0e137"
      },
      "execution_count": 34,
      "outputs": [
        {
          "output_type": "stream",
          "name": "stdout",
          "text": [
            "학습 데이터 세트 정확도: 0.802\n",
            "시험용 데이터 세트 정확도: 0.802\n"
          ]
        }
      ]
    },
    {
      "cell_type": "markdown",
      "source": [
        "깊이와 학습률을 제한했더니 학습용 데이터와 시험용 데이터의 정확도 차이가 없어졌다. 사실 제한하지 않아도 시험용, 학습용 모두 이미 과적합이 아니라 그대로 사용해도 될 것 같다."
      ],
      "metadata": {
        "id": "qPChLUbeBtZa"
      }
    },
    {
      "cell_type": "markdown",
      "source": [
        "#검증"
      ],
      "metadata": {
        "id": "5x9E90DPYSbC"
      }
    },
    {
      "cell_type": "markdown",
      "source": [
        "##교차검증"
      ],
      "metadata": {
        "id": "SEpNmle1CjiN"
      }
    },
    {
      "cell_type": "code",
      "source": [
        "dt_scores = cross_val_score(tree, X_train, y_train, cv=10, scoring='accuracy')  \n",
        "rf_scores = cross_val_score(forest, X_train, y_train, cv=10, scoring='accuracy')\n",
        "gbrt_scores = cross_val_score(gbrt, X_train, y_train, cv=10, scoring='accuracy')\n",
        "\n",
        "print(\"Accuracy\")\n",
        "print(\"Decision tree: \", dt_scores) \n",
        "print(\"Random forest: \", rf_scores) \n",
        "print(\"Gradient boosting: \", gbrt_scores) \n",
        "\n",
        "print(\"Accuracy mean\")\n",
        "print(\"Decision tree :{:.3f}\".format(dt_scores.mean())) \n",
        "print(\"Random forest :{:.3f}\".format(rf_scores.mean())) \n",
        "print(\"Gradient boosting :{:.3f}\".format(gbrt_scores.mean()))"
      ],
      "metadata": {
        "colab": {
          "base_uri": "https://localhost:8080/"
        },
        "id": "d78mSWR7OE2Z",
        "outputId": "f102b5f9-9eb5-4352-99ff-a407f796abd3"
      },
      "execution_count": 35,
      "outputs": [
        {
          "output_type": "stream",
          "name": "stdout",
          "text": [
            "Accuracy\n",
            "Decision tree:  [0.72326203 0.75802139 0.70855615 0.72326203 0.73395722 0.73395722\n",
            " 0.70588235 0.73930481 0.73529412 0.75100402]\n",
            "Random forest:  [0.79010695 0.82219251 0.78609626 0.80347594 0.81283422 0.77673797\n",
            " 0.81684492 0.79679144 0.80213904 0.80053548]\n",
            "Gradient boosting:  [0.80481283 0.80213904 0.79545455 0.79278075 0.81149733 0.78609626\n",
            " 0.78475936 0.78743316 0.79812834 0.81258367]\n",
            "Accuracy mean\n",
            "Decision tree :0.731\n",
            "Random forest :0.801\n",
            "Gradient boosting :0.798\n"
          ]
        }
      ]
    },
    {
      "cell_type": "code",
      "source": [
        "\n",
        "from sklearn.model_selection import StratifiedKFold\n",
        "kf = StratifiedKFold(n_splits=10)\n",
        "\n",
        "print(kf)\n",
        "\n",
        "dt_scores = cross_val_score(tree, X_train, y_train, cv=kf, scoring='accuracy')  \n",
        "rf_scores = cross_val_score(forest, X_train, y_train, cv=kf, scoring='accuracy')\n",
        "gbrt_scores = cross_val_score(gbrt, X_train, y_train, cv=kf, scoring='accuracy')\n",
        "\n",
        "print(\"Accuracy mean -- StratifiedKFold 이용\")\n",
        "print(\"Decision tree :{:.3f}\".format(dt_scores.mean())) \n",
        "print(\"Random forest :{:.3f}\".format(rf_scores.mean())) \n",
        "print(\"Gradient boosting :{:.3f}\".format(gbrt_scores.mean())) "
      ],
      "metadata": {
        "colab": {
          "base_uri": "https://localhost:8080/"
        },
        "id": "wG2rLmmgOMRw",
        "outputId": "ff2e2294-4e50-4bc2-b29c-8cff081f87f2"
      },
      "execution_count": 36,
      "outputs": [
        {
          "output_type": "stream",
          "name": "stdout",
          "text": [
            "StratifiedKFold(n_splits=10, random_state=None, shuffle=False)\n",
            "Accuracy mean -- StratifiedKFold 이용\n",
            "Decision tree :0.731\n",
            "Random forest :0.801\n",
            "Gradient boosting :0.798\n"
          ]
        }
      ]
    },
    {
      "cell_type": "markdown",
      "source": [
        "랜덤포레스트 정확도가 가장 높습니다!"
      ],
      "metadata": {
        "id": "cz3N_uWQClo7"
      }
    },
    {
      "cell_type": "markdown",
      "source": [],
      "metadata": {
        "id": "4r04cRtnClkW"
      }
    },
    {
      "cell_type": "markdown",
      "source": [
        "##그리드서치"
      ],
      "metadata": {
        "id": "OCGaOYLTCgVJ"
      }
    },
    {
      "cell_type": "code",
      "source": [
        "from sklearn.model_selection import GridSearchCV\n",
        "\n",
        "parameters = {'max_depth':[1,2,3], 'learning_rate':[0.1,0.08, 0.06, 0.04, 0.02]}"
      ],
      "metadata": {
        "id": "z0NIfCKjOP4x"
      },
      "execution_count": 37,
      "outputs": []
    },
    {
      "cell_type": "code",
      "source": [
        "  \n",
        "init_gbrt = GradientBoostingClassifier(random_state=0)\n",
        "grid_gbrt = GridSearchCV(init_gbrt, param_grid=parameters, cv=3, refit=True)\n",
        "print(grid_gbrt)\n",
        "grid_gbrt.fit(X_train, y_train)\n",
        "\n",
        "scores_df = pd.DataFrame(grid_gbrt.cv_results_)\n",
        "scores_df[['params', 'mean_test_score', 'rank_test_score', 'split0_test_score', 'split1_test_score', 'split2_test_score']]"
      ],
      "metadata": {
        "colab": {
          "base_uri": "https://localhost:8080/",
          "height": 574
        },
        "id": "MBg-yPOqOTrR",
        "outputId": "d5a42950-d3e2-4eb4-9b26-49f4c85ed326"
      },
      "execution_count": 38,
      "outputs": [
        {
          "output_type": "stream",
          "name": "stdout",
          "text": [
            "GridSearchCV(cv=3, estimator=GradientBoostingClassifier(random_state=0),\n",
            "             param_grid={'learning_rate': [0.1, 0.08, 0.06, 0.04, 0.02],\n",
            "                         'max_depth': [1, 2, 3]})\n"
          ]
        },
        {
          "output_type": "execute_result",
          "data": {
            "text/plain": [
              "                                     params  mean_test_score  rank_test_score  \\\n",
              "0    {'learning_rate': 0.1, 'max_depth': 1}         0.809199               11   \n",
              "1    {'learning_rate': 0.1, 'max_depth': 2}         0.811071                5   \n",
              "2    {'learning_rate': 0.1, 'max_depth': 3}         0.810402                7   \n",
              "3   {'learning_rate': 0.08, 'max_depth': 1}         0.810001                9   \n",
              "4   {'learning_rate': 0.08, 'max_depth': 2}         0.810269                8   \n",
              "5   {'learning_rate': 0.08, 'max_depth': 3}         0.812274                1   \n",
              "6   {'learning_rate': 0.06, 'max_depth': 1}         0.809065               12   \n",
              "7   {'learning_rate': 0.06, 'max_depth': 2}         0.811472                2   \n",
              "8   {'learning_rate': 0.06, 'max_depth': 3}         0.810402                6   \n",
              "9   {'learning_rate': 0.04, 'max_depth': 1}         0.809467               10   \n",
              "10  {'learning_rate': 0.04, 'max_depth': 2}         0.808664               13   \n",
              "11  {'learning_rate': 0.04, 'max_depth': 3}         0.811472                4   \n",
              "12  {'learning_rate': 0.02, 'max_depth': 1}         0.806124               14   \n",
              "13  {'learning_rate': 0.02, 'max_depth': 2}         0.806124               14   \n",
              "14  {'learning_rate': 0.02, 'max_depth': 3}         0.811472                2   \n",
              "\n",
              "    split0_test_score  split1_test_score  split2_test_score  \n",
              "0            0.812675           0.809065           0.805856  \n",
              "1            0.815082           0.808263           0.809868  \n",
              "2            0.813478           0.806659           0.811071  \n",
              "3            0.815082           0.809467           0.805455  \n",
              "4            0.812274           0.808664           0.809868  \n",
              "5            0.817088           0.809868           0.809868  \n",
              "6            0.815082           0.806659           0.805455  \n",
              "7            0.814681           0.810269           0.809467  \n",
              "8            0.816286           0.807060           0.807862  \n",
              "9            0.816286           0.806659           0.805455  \n",
              "10           0.811071           0.809467           0.805455  \n",
              "11           0.813879           0.807862           0.812675  \n",
              "12           0.806258           0.806659           0.805455  \n",
              "13           0.806258           0.806659           0.805455  \n",
              "14           0.815884           0.807862           0.810670  "
            ],
            "text/html": [
              "\n",
              "  <div id=\"df-b0abefb1-bcec-4ce0-ba8c-38fd7700c57c\">\n",
              "    <div class=\"colab-df-container\">\n",
              "      <div>\n",
              "<style scoped>\n",
              "    .dataframe tbody tr th:only-of-type {\n",
              "        vertical-align: middle;\n",
              "    }\n",
              "\n",
              "    .dataframe tbody tr th {\n",
              "        vertical-align: top;\n",
              "    }\n",
              "\n",
              "    .dataframe thead th {\n",
              "        text-align: right;\n",
              "    }\n",
              "</style>\n",
              "<table border=\"1\" class=\"dataframe\">\n",
              "  <thead>\n",
              "    <tr style=\"text-align: right;\">\n",
              "      <th></th>\n",
              "      <th>params</th>\n",
              "      <th>mean_test_score</th>\n",
              "      <th>rank_test_score</th>\n",
              "      <th>split0_test_score</th>\n",
              "      <th>split1_test_score</th>\n",
              "      <th>split2_test_score</th>\n",
              "    </tr>\n",
              "  </thead>\n",
              "  <tbody>\n",
              "    <tr>\n",
              "      <th>0</th>\n",
              "      <td>{'learning_rate': 0.1, 'max_depth': 1}</td>\n",
              "      <td>0.809199</td>\n",
              "      <td>11</td>\n",
              "      <td>0.812675</td>\n",
              "      <td>0.809065</td>\n",
              "      <td>0.805856</td>\n",
              "    </tr>\n",
              "    <tr>\n",
              "      <th>1</th>\n",
              "      <td>{'learning_rate': 0.1, 'max_depth': 2}</td>\n",
              "      <td>0.811071</td>\n",
              "      <td>5</td>\n",
              "      <td>0.815082</td>\n",
              "      <td>0.808263</td>\n",
              "      <td>0.809868</td>\n",
              "    </tr>\n",
              "    <tr>\n",
              "      <th>2</th>\n",
              "      <td>{'learning_rate': 0.1, 'max_depth': 3}</td>\n",
              "      <td>0.810402</td>\n",
              "      <td>7</td>\n",
              "      <td>0.813478</td>\n",
              "      <td>0.806659</td>\n",
              "      <td>0.811071</td>\n",
              "    </tr>\n",
              "    <tr>\n",
              "      <th>3</th>\n",
              "      <td>{'learning_rate': 0.08, 'max_depth': 1}</td>\n",
              "      <td>0.810001</td>\n",
              "      <td>9</td>\n",
              "      <td>0.815082</td>\n",
              "      <td>0.809467</td>\n",
              "      <td>0.805455</td>\n",
              "    </tr>\n",
              "    <tr>\n",
              "      <th>4</th>\n",
              "      <td>{'learning_rate': 0.08, 'max_depth': 2}</td>\n",
              "      <td>0.810269</td>\n",
              "      <td>8</td>\n",
              "      <td>0.812274</td>\n",
              "      <td>0.808664</td>\n",
              "      <td>0.809868</td>\n",
              "    </tr>\n",
              "    <tr>\n",
              "      <th>5</th>\n",
              "      <td>{'learning_rate': 0.08, 'max_depth': 3}</td>\n",
              "      <td>0.812274</td>\n",
              "      <td>1</td>\n",
              "      <td>0.817088</td>\n",
              "      <td>0.809868</td>\n",
              "      <td>0.809868</td>\n",
              "    </tr>\n",
              "    <tr>\n",
              "      <th>6</th>\n",
              "      <td>{'learning_rate': 0.06, 'max_depth': 1}</td>\n",
              "      <td>0.809065</td>\n",
              "      <td>12</td>\n",
              "      <td>0.815082</td>\n",
              "      <td>0.806659</td>\n",
              "      <td>0.805455</td>\n",
              "    </tr>\n",
              "    <tr>\n",
              "      <th>7</th>\n",
              "      <td>{'learning_rate': 0.06, 'max_depth': 2}</td>\n",
              "      <td>0.811472</td>\n",
              "      <td>2</td>\n",
              "      <td>0.814681</td>\n",
              "      <td>0.810269</td>\n",
              "      <td>0.809467</td>\n",
              "    </tr>\n",
              "    <tr>\n",
              "      <th>8</th>\n",
              "      <td>{'learning_rate': 0.06, 'max_depth': 3}</td>\n",
              "      <td>0.810402</td>\n",
              "      <td>6</td>\n",
              "      <td>0.816286</td>\n",
              "      <td>0.807060</td>\n",
              "      <td>0.807862</td>\n",
              "    </tr>\n",
              "    <tr>\n",
              "      <th>9</th>\n",
              "      <td>{'learning_rate': 0.04, 'max_depth': 1}</td>\n",
              "      <td>0.809467</td>\n",
              "      <td>10</td>\n",
              "      <td>0.816286</td>\n",
              "      <td>0.806659</td>\n",
              "      <td>0.805455</td>\n",
              "    </tr>\n",
              "    <tr>\n",
              "      <th>10</th>\n",
              "      <td>{'learning_rate': 0.04, 'max_depth': 2}</td>\n",
              "      <td>0.808664</td>\n",
              "      <td>13</td>\n",
              "      <td>0.811071</td>\n",
              "      <td>0.809467</td>\n",
              "      <td>0.805455</td>\n",
              "    </tr>\n",
              "    <tr>\n",
              "      <th>11</th>\n",
              "      <td>{'learning_rate': 0.04, 'max_depth': 3}</td>\n",
              "      <td>0.811472</td>\n",
              "      <td>4</td>\n",
              "      <td>0.813879</td>\n",
              "      <td>0.807862</td>\n",
              "      <td>0.812675</td>\n",
              "    </tr>\n",
              "    <tr>\n",
              "      <th>12</th>\n",
              "      <td>{'learning_rate': 0.02, 'max_depth': 1}</td>\n",
              "      <td>0.806124</td>\n",
              "      <td>14</td>\n",
              "      <td>0.806258</td>\n",
              "      <td>0.806659</td>\n",
              "      <td>0.805455</td>\n",
              "    </tr>\n",
              "    <tr>\n",
              "      <th>13</th>\n",
              "      <td>{'learning_rate': 0.02, 'max_depth': 2}</td>\n",
              "      <td>0.806124</td>\n",
              "      <td>14</td>\n",
              "      <td>0.806258</td>\n",
              "      <td>0.806659</td>\n",
              "      <td>0.805455</td>\n",
              "    </tr>\n",
              "    <tr>\n",
              "      <th>14</th>\n",
              "      <td>{'learning_rate': 0.02, 'max_depth': 3}</td>\n",
              "      <td>0.811472</td>\n",
              "      <td>2</td>\n",
              "      <td>0.815884</td>\n",
              "      <td>0.807862</td>\n",
              "      <td>0.810670</td>\n",
              "    </tr>\n",
              "  </tbody>\n",
              "</table>\n",
              "</div>\n",
              "      <button class=\"colab-df-convert\" onclick=\"convertToInteractive('df-b0abefb1-bcec-4ce0-ba8c-38fd7700c57c')\"\n",
              "              title=\"Convert this dataframe to an interactive table.\"\n",
              "              style=\"display:none;\">\n",
              "        \n",
              "  <svg xmlns=\"http://www.w3.org/2000/svg\" height=\"24px\"viewBox=\"0 0 24 24\"\n",
              "       width=\"24px\">\n",
              "    <path d=\"M0 0h24v24H0V0z\" fill=\"none\"/>\n",
              "    <path d=\"M18.56 5.44l.94 2.06.94-2.06 2.06-.94-2.06-.94-.94-2.06-.94 2.06-2.06.94zm-11 1L8.5 8.5l.94-2.06 2.06-.94-2.06-.94L8.5 2.5l-.94 2.06-2.06.94zm10 10l.94 2.06.94-2.06 2.06-.94-2.06-.94-.94-2.06-.94 2.06-2.06.94z\"/><path d=\"M17.41 7.96l-1.37-1.37c-.4-.4-.92-.59-1.43-.59-.52 0-1.04.2-1.43.59L10.3 9.45l-7.72 7.72c-.78.78-.78 2.05 0 2.83L4 21.41c.39.39.9.59 1.41.59.51 0 1.02-.2 1.41-.59l7.78-7.78 2.81-2.81c.8-.78.8-2.07 0-2.86zM5.41 20L4 18.59l7.72-7.72 1.47 1.35L5.41 20z\"/>\n",
              "  </svg>\n",
              "      </button>\n",
              "      \n",
              "  <style>\n",
              "    .colab-df-container {\n",
              "      display:flex;\n",
              "      flex-wrap:wrap;\n",
              "      gap: 12px;\n",
              "    }\n",
              "\n",
              "    .colab-df-convert {\n",
              "      background-color: #E8F0FE;\n",
              "      border: none;\n",
              "      border-radius: 50%;\n",
              "      cursor: pointer;\n",
              "      display: none;\n",
              "      fill: #1967D2;\n",
              "      height: 32px;\n",
              "      padding: 0 0 0 0;\n",
              "      width: 32px;\n",
              "    }\n",
              "\n",
              "    .colab-df-convert:hover {\n",
              "      background-color: #E2EBFA;\n",
              "      box-shadow: 0px 1px 2px rgba(60, 64, 67, 0.3), 0px 1px 3px 1px rgba(60, 64, 67, 0.15);\n",
              "      fill: #174EA6;\n",
              "    }\n",
              "\n",
              "    [theme=dark] .colab-df-convert {\n",
              "      background-color: #3B4455;\n",
              "      fill: #D2E3FC;\n",
              "    }\n",
              "\n",
              "    [theme=dark] .colab-df-convert:hover {\n",
              "      background-color: #434B5C;\n",
              "      box-shadow: 0px 1px 3px 1px rgba(0, 0, 0, 0.15);\n",
              "      filter: drop-shadow(0px 1px 2px rgba(0, 0, 0, 0.3));\n",
              "      fill: #FFFFFF;\n",
              "    }\n",
              "  </style>\n",
              "\n",
              "      <script>\n",
              "        const buttonEl =\n",
              "          document.querySelector('#df-b0abefb1-bcec-4ce0-ba8c-38fd7700c57c button.colab-df-convert');\n",
              "        buttonEl.style.display =\n",
              "          google.colab.kernel.accessAllowed ? 'block' : 'none';\n",
              "\n",
              "        async function convertToInteractive(key) {\n",
              "          const element = document.querySelector('#df-b0abefb1-bcec-4ce0-ba8c-38fd7700c57c');\n",
              "          const dataTable =\n",
              "            await google.colab.kernel.invokeFunction('convertToInteractive',\n",
              "                                                     [key], {});\n",
              "          if (!dataTable) return;\n",
              "\n",
              "          const docLinkHtml = 'Like what you see? Visit the ' +\n",
              "            '<a target=\"_blank\" href=https://colab.research.google.com/notebooks/data_table.ipynb>data table notebook</a>'\n",
              "            + ' to learn more about interactive tables.';\n",
              "          element.innerHTML = '';\n",
              "          dataTable['output_type'] = 'display_data';\n",
              "          await google.colab.output.renderOutput(dataTable, element);\n",
              "          const docLink = document.createElement('div');\n",
              "          docLink.innerHTML = docLinkHtml;\n",
              "          element.appendChild(docLink);\n",
              "        }\n",
              "      </script>\n",
              "    </div>\n",
              "  </div>\n",
              "  "
            ]
          },
          "metadata": {},
          "execution_count": 38
        }
      ]
    },
    {
      "cell_type": "code",
      "source": [
        "print('GridSearchCV 최적 파라미터:', grid_gbrt.best_params_)\n",
        "print('GridSearchCV 최고 정확도: {0:.4f}'.format(grid_gbrt.best_score_))"
      ],
      "metadata": {
        "colab": {
          "base_uri": "https://localhost:8080/"
        },
        "id": "s2qQeb7tObY8",
        "outputId": "5c8cc19c-4ba9-4cd3-fa6a-5c9e94cda5f6"
      },
      "execution_count": 39,
      "outputs": [
        {
          "output_type": "stream",
          "name": "stdout",
          "text": [
            "GridSearchCV 최적 파라미터: {'learning_rate': 0.08, 'max_depth': 3}\n",
            "GridSearchCV 최고 정확도: 0.8123\n"
          ]
        }
      ]
    },
    {
      "cell_type": "code",
      "source": [
        "print(\"시험용 데이터 세트 정확도: {:.3f}\".format(grid_gbrt.score(X_test, y_test)))"
      ],
      "metadata": {
        "colab": {
          "base_uri": "https://localhost:8080/"
        },
        "id": "Kkd1WxPPOd4G",
        "outputId": "e023ee99-a0ce-42e3-8ae5-4101ca699790"
      },
      "execution_count": 40,
      "outputs": [
        {
          "output_type": "stream",
          "name": "stdout",
          "text": [
            "시험용 데이터 세트 정확도: 0.819\n"
          ]
        }
      ]
    },
    {
      "cell_type": "markdown",
      "source": [
        "최적 학습률과 깊이를 사용해 그래디언트 부스팅 다시 만들었습니다."
      ],
      "metadata": {
        "id": "YeJG10tXFVVT"
      }
    },
    {
      "cell_type": "code",
      "source": [
        "\n",
        "gbrt = GradientBoostingClassifier(random_state=0, max_depth=3, learning_rate=0.08)\n",
        "gbrt.fit(X_train, y_train)\n",
        "\n",
        "print(\"학습 데이터 세트 정확도: {:.3f}\".format(gbrt.score(X_train, y_train)))\n",
        "print(\"시험용 데이터 세트 정확도: {:.3f}\".format(gbrt.score(X_test, y_test)))"
      ],
      "metadata": {
        "colab": {
          "base_uri": "https://localhost:8080/"
        },
        "id": "hNItz0FLEpNQ",
        "outputId": "e42f2511-1c16-49d4-d7d6-4abea41db8c5"
      },
      "execution_count": 41,
      "outputs": [
        {
          "output_type": "stream",
          "name": "stdout",
          "text": [
            "학습 데이터 세트 정확도: 0.822\n",
            "시험용 데이터 세트 정확도: 0.819\n"
          ]
        }
      ]
    },
    {
      "cell_type": "markdown",
      "source": [
        "오늘 수업시간과 질문을 통해 해결하고 신나서 개선된 모습 보여드립니다..! 수정하다보니 코드도 좀 더 잘 이해가 되고, 이론도 더 잘 알게된 것 같습니다. 수업 때 다뤄주셔서 감사합니다:)\n",
        "여전히 파이썬 문법은 조금 어렵고 낯설지만 코드를 실행할 때, 빨간불이 아니라 파란불이 들어오며 원하는 결과가 나오는 순간의 기쁨을 알게된 것 같습니다."
      ],
      "metadata": {
        "id": "7t6UsiqiZ51M"
      }
    }
  ]
}