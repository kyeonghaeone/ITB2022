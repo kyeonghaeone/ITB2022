{
  "nbformat": 4,
  "nbformat_minor": 0,
  "metadata": {
    "colab": {
      "provenance": [],
      "collapsed_sections": [],
      "authorship_tag": "ABX9TyNGqNQao+RRZ4IRpGiFsGGA",
      "include_colab_link": true
    },
    "kernelspec": {
      "name": "python3",
      "display_name": "Python 3"
    },
    "language_info": {
      "name": "python"
    }
  },
  "cells": [
    {
      "cell_type": "markdown",
      "metadata": {
        "id": "view-in-github",
        "colab_type": "text"
      },
      "source": [
        "<a href=\"https://colab.research.google.com/github/kyeonghaeone/ITB2022/blob/main/ITB_%EC%8B%9C%EA%B0%81%ED%99%94%EA%B3%BC%EC%A0%9C_2014401_%EA%B2%BD%ED%98%9C%EC%9B%90.ipynb\" target=\"_parent\"><img src=\"https://colab.research.google.com/assets/colab-badge.svg\" alt=\"Open In Colab\"/></a>"
      ]
    },
    {
      "cell_type": "code",
      "source": [
        "#시각화 한글깨짐 해결위한 폰트\n",
        "!sudo apt-get install -y fonts-nanum\n",
        "!sudo fc-cache -fv\n",
        "!rm ~/.cache/matplotlib -rf\n",
        "\n",
        "import matplotlib.pyplot as plt\n",
        "\n",
        "plt.rc('font', family='NanumBarunGothic')"
      ],
      "metadata": {
        "id": "AzNeYYu-wbRa"
      },
      "execution_count": 1,
      "outputs": []
    },
    {
      "cell_type": "code",
      "execution_count": 3,
      "metadata": {
        "colab": {
          "base_uri": "https://localhost:8080/"
        },
        "id": "_MWp7oyCe5Tw",
        "outputId": "396a2bf4-a7d9-4fc9-b8c0-886419136a76"
      },
      "outputs": [
        {
          "output_type": "stream",
          "name": "stdout",
          "text": [
            "Drive already mounted at /content/drive; to attempt to forcibly remount, call drive.mount(\"/content/drive\", force_remount=True).\n"
          ]
        }
      ],
      "source": [
        "#모두 소수점 셋째자리에서 반올림 하겠습니다.\n",
        "#데이터,패키지 불러오기\n",
        "from google.colab import drive\n",
        "drive.mount('/content/drive')"
      ]
    },
    {
      "cell_type": "code",
      "source": [
        "%matplotlib inline\n",
        "import pandas as pd\n",
        "\n",
        "import numpy as np\n",
        "import seaborn as sns           \n",
        "import matplotlib as mpl        \n",
        "import matplotlib.pyplot as plt"
      ],
      "metadata": {
        "id": "hMOaLcItrNsP"
      },
      "execution_count": 4,
      "outputs": []
    },
    {
      "cell_type": "code",
      "source": [
        "\n",
        "health = pd.read_csv(\"/content/drive/My Drive/Colab Notebooks/ITB/health_data.csv\", encoding='utf-8')\n",
        "\n",
        "display(health.head()) \n",
        "print(health.info()) \n",
        "print(health.describe())"
      ],
      "metadata": {
        "id": "06wI4O6BfLMY",
        "outputId": "8cb0f839-2049-482a-acf8-10e64e229c60",
        "colab": {
          "base_uri": "https://localhost:8080/",
          "height": 1000
        }
      },
      "execution_count": 5,
      "outputs": [
        {
          "output_type": "display_data",
          "data": {
            "text/plain": [
              "   기준년도  가입자일련번호  시도코드 성별코드  연령대코드(5세단위)  신장(5Cm단위)  체중(5Kg 단위)  허리둘레  시력(좌)  \\\n",
              "0  2020        1    36    M            9        165          60  72.1    1.2   \n",
              "1  2020        2    27    F           13        150          65  81.0    0.8   \n",
              "2  2020        3    11    F           12        155          55  70.0    0.6   \n",
              "3  2020        4    31    M           13        160          70  90.8    1.0   \n",
              "4  2020        5    41    F           12        155          50  75.2    1.5   \n",
              "\n",
              "   시력(우)  ...  혈청크레아티닌  (혈청지오티)AST  (혈청지오티)ALT  감마지티피  흡연상태  음주여부  구강검진수검여부  \\\n",
              "0    1.5  ...      1.1        21.0        27.0   21.0    No    No         0   \n",
              "1    0.8  ...      0.5        18.0        15.0   15.0    No    No         0   \n",
              "2    0.7  ...      0.7        27.0        25.0    7.0    No    No         0   \n",
              "3    1.0  ...      1.2        65.0        97.0   72.0    No    No         1   \n",
              "4    1.2  ...      0.7        18.0        17.0   14.0    No    No         0   \n",
              "\n",
              "   치아우식증유무   치석     데이터공개일자  \n",
              "0      NaN  NaN  12/29/2021  \n",
              "1      NaN  NaN  12/29/2021  \n",
              "2      NaN  NaN  12/29/2021  \n",
              "3      0.0  0.0  12/29/2021  \n",
              "4      NaN  NaN  12/29/2021  \n",
              "\n",
              "[5 rows x 31 columns]"
            ],
            "text/html": [
              "\n",
              "  <div id=\"df-80715dae-1234-4628-8c7c-59249f409f06\">\n",
              "    <div class=\"colab-df-container\">\n",
              "      <div>\n",
              "<style scoped>\n",
              "    .dataframe tbody tr th:only-of-type {\n",
              "        vertical-align: middle;\n",
              "    }\n",
              "\n",
              "    .dataframe tbody tr th {\n",
              "        vertical-align: top;\n",
              "    }\n",
              "\n",
              "    .dataframe thead th {\n",
              "        text-align: right;\n",
              "    }\n",
              "</style>\n",
              "<table border=\"1\" class=\"dataframe\">\n",
              "  <thead>\n",
              "    <tr style=\"text-align: right;\">\n",
              "      <th></th>\n",
              "      <th>기준년도</th>\n",
              "      <th>가입자일련번호</th>\n",
              "      <th>시도코드</th>\n",
              "      <th>성별코드</th>\n",
              "      <th>연령대코드(5세단위)</th>\n",
              "      <th>신장(5Cm단위)</th>\n",
              "      <th>체중(5Kg 단위)</th>\n",
              "      <th>허리둘레</th>\n",
              "      <th>시력(좌)</th>\n",
              "      <th>시력(우)</th>\n",
              "      <th>...</th>\n",
              "      <th>혈청크레아티닌</th>\n",
              "      <th>(혈청지오티)AST</th>\n",
              "      <th>(혈청지오티)ALT</th>\n",
              "      <th>감마지티피</th>\n",
              "      <th>흡연상태</th>\n",
              "      <th>음주여부</th>\n",
              "      <th>구강검진수검여부</th>\n",
              "      <th>치아우식증유무</th>\n",
              "      <th>치석</th>\n",
              "      <th>데이터공개일자</th>\n",
              "    </tr>\n",
              "  </thead>\n",
              "  <tbody>\n",
              "    <tr>\n",
              "      <th>0</th>\n",
              "      <td>2020</td>\n",
              "      <td>1</td>\n",
              "      <td>36</td>\n",
              "      <td>M</td>\n",
              "      <td>9</td>\n",
              "      <td>165</td>\n",
              "      <td>60</td>\n",
              "      <td>72.1</td>\n",
              "      <td>1.2</td>\n",
              "      <td>1.5</td>\n",
              "      <td>...</td>\n",
              "      <td>1.1</td>\n",
              "      <td>21.0</td>\n",
              "      <td>27.0</td>\n",
              "      <td>21.0</td>\n",
              "      <td>No</td>\n",
              "      <td>No</td>\n",
              "      <td>0</td>\n",
              "      <td>NaN</td>\n",
              "      <td>NaN</td>\n",
              "      <td>12/29/2021</td>\n",
              "    </tr>\n",
              "    <tr>\n",
              "      <th>1</th>\n",
              "      <td>2020</td>\n",
              "      <td>2</td>\n",
              "      <td>27</td>\n",
              "      <td>F</td>\n",
              "      <td>13</td>\n",
              "      <td>150</td>\n",
              "      <td>65</td>\n",
              "      <td>81.0</td>\n",
              "      <td>0.8</td>\n",
              "      <td>0.8</td>\n",
              "      <td>...</td>\n",
              "      <td>0.5</td>\n",
              "      <td>18.0</td>\n",
              "      <td>15.0</td>\n",
              "      <td>15.0</td>\n",
              "      <td>No</td>\n",
              "      <td>No</td>\n",
              "      <td>0</td>\n",
              "      <td>NaN</td>\n",
              "      <td>NaN</td>\n",
              "      <td>12/29/2021</td>\n",
              "    </tr>\n",
              "    <tr>\n",
              "      <th>2</th>\n",
              "      <td>2020</td>\n",
              "      <td>3</td>\n",
              "      <td>11</td>\n",
              "      <td>F</td>\n",
              "      <td>12</td>\n",
              "      <td>155</td>\n",
              "      <td>55</td>\n",
              "      <td>70.0</td>\n",
              "      <td>0.6</td>\n",
              "      <td>0.7</td>\n",
              "      <td>...</td>\n",
              "      <td>0.7</td>\n",
              "      <td>27.0</td>\n",
              "      <td>25.0</td>\n",
              "      <td>7.0</td>\n",
              "      <td>No</td>\n",
              "      <td>No</td>\n",
              "      <td>0</td>\n",
              "      <td>NaN</td>\n",
              "      <td>NaN</td>\n",
              "      <td>12/29/2021</td>\n",
              "    </tr>\n",
              "    <tr>\n",
              "      <th>3</th>\n",
              "      <td>2020</td>\n",
              "      <td>4</td>\n",
              "      <td>31</td>\n",
              "      <td>M</td>\n",
              "      <td>13</td>\n",
              "      <td>160</td>\n",
              "      <td>70</td>\n",
              "      <td>90.8</td>\n",
              "      <td>1.0</td>\n",
              "      <td>1.0</td>\n",
              "      <td>...</td>\n",
              "      <td>1.2</td>\n",
              "      <td>65.0</td>\n",
              "      <td>97.0</td>\n",
              "      <td>72.0</td>\n",
              "      <td>No</td>\n",
              "      <td>No</td>\n",
              "      <td>1</td>\n",
              "      <td>0.0</td>\n",
              "      <td>0.0</td>\n",
              "      <td>12/29/2021</td>\n",
              "    </tr>\n",
              "    <tr>\n",
              "      <th>4</th>\n",
              "      <td>2020</td>\n",
              "      <td>5</td>\n",
              "      <td>41</td>\n",
              "      <td>F</td>\n",
              "      <td>12</td>\n",
              "      <td>155</td>\n",
              "      <td>50</td>\n",
              "      <td>75.2</td>\n",
              "      <td>1.5</td>\n",
              "      <td>1.2</td>\n",
              "      <td>...</td>\n",
              "      <td>0.7</td>\n",
              "      <td>18.0</td>\n",
              "      <td>17.0</td>\n",
              "      <td>14.0</td>\n",
              "      <td>No</td>\n",
              "      <td>No</td>\n",
              "      <td>0</td>\n",
              "      <td>NaN</td>\n",
              "      <td>NaN</td>\n",
              "      <td>12/29/2021</td>\n",
              "    </tr>\n",
              "  </tbody>\n",
              "</table>\n",
              "<p>5 rows × 31 columns</p>\n",
              "</div>\n",
              "      <button class=\"colab-df-convert\" onclick=\"convertToInteractive('df-80715dae-1234-4628-8c7c-59249f409f06')\"\n",
              "              title=\"Convert this dataframe to an interactive table.\"\n",
              "              style=\"display:none;\">\n",
              "        \n",
              "  <svg xmlns=\"http://www.w3.org/2000/svg\" height=\"24px\"viewBox=\"0 0 24 24\"\n",
              "       width=\"24px\">\n",
              "    <path d=\"M0 0h24v24H0V0z\" fill=\"none\"/>\n",
              "    <path d=\"M18.56 5.44l.94 2.06.94-2.06 2.06-.94-2.06-.94-.94-2.06-.94 2.06-2.06.94zm-11 1L8.5 8.5l.94-2.06 2.06-.94-2.06-.94L8.5 2.5l-.94 2.06-2.06.94zm10 10l.94 2.06.94-2.06 2.06-.94-2.06-.94-.94-2.06-.94 2.06-2.06.94z\"/><path d=\"M17.41 7.96l-1.37-1.37c-.4-.4-.92-.59-1.43-.59-.52 0-1.04.2-1.43.59L10.3 9.45l-7.72 7.72c-.78.78-.78 2.05 0 2.83L4 21.41c.39.39.9.59 1.41.59.51 0 1.02-.2 1.41-.59l7.78-7.78 2.81-2.81c.8-.78.8-2.07 0-2.86zM5.41 20L4 18.59l7.72-7.72 1.47 1.35L5.41 20z\"/>\n",
              "  </svg>\n",
              "      </button>\n",
              "      \n",
              "  <style>\n",
              "    .colab-df-container {\n",
              "      display:flex;\n",
              "      flex-wrap:wrap;\n",
              "      gap: 12px;\n",
              "    }\n",
              "\n",
              "    .colab-df-convert {\n",
              "      background-color: #E8F0FE;\n",
              "      border: none;\n",
              "      border-radius: 50%;\n",
              "      cursor: pointer;\n",
              "      display: none;\n",
              "      fill: #1967D2;\n",
              "      height: 32px;\n",
              "      padding: 0 0 0 0;\n",
              "      width: 32px;\n",
              "    }\n",
              "\n",
              "    .colab-df-convert:hover {\n",
              "      background-color: #E2EBFA;\n",
              "      box-shadow: 0px 1px 2px rgba(60, 64, 67, 0.3), 0px 1px 3px 1px rgba(60, 64, 67, 0.15);\n",
              "      fill: #174EA6;\n",
              "    }\n",
              "\n",
              "    [theme=dark] .colab-df-convert {\n",
              "      background-color: #3B4455;\n",
              "      fill: #D2E3FC;\n",
              "    }\n",
              "\n",
              "    [theme=dark] .colab-df-convert:hover {\n",
              "      background-color: #434B5C;\n",
              "      box-shadow: 0px 1px 3px 1px rgba(0, 0, 0, 0.15);\n",
              "      filter: drop-shadow(0px 1px 2px rgba(0, 0, 0, 0.3));\n",
              "      fill: #FFFFFF;\n",
              "    }\n",
              "  </style>\n",
              "\n",
              "      <script>\n",
              "        const buttonEl =\n",
              "          document.querySelector('#df-80715dae-1234-4628-8c7c-59249f409f06 button.colab-df-convert');\n",
              "        buttonEl.style.display =\n",
              "          google.colab.kernel.accessAllowed ? 'block' : 'none';\n",
              "\n",
              "        async function convertToInteractive(key) {\n",
              "          const element = document.querySelector('#df-80715dae-1234-4628-8c7c-59249f409f06');\n",
              "          const dataTable =\n",
              "            await google.colab.kernel.invokeFunction('convertToInteractive',\n",
              "                                                     [key], {});\n",
              "          if (!dataTable) return;\n",
              "\n",
              "          const docLinkHtml = 'Like what you see? Visit the ' +\n",
              "            '<a target=\"_blank\" href=https://colab.research.google.com/notebooks/data_table.ipynb>data table notebook</a>'\n",
              "            + ' to learn more about interactive tables.';\n",
              "          element.innerHTML = '';\n",
              "          dataTable['output_type'] = 'display_data';\n",
              "          await google.colab.output.renderOutput(dataTable, element);\n",
              "          const docLink = document.createElement('div');\n",
              "          docLink.innerHTML = docLinkHtml;\n",
              "          element.appendChild(docLink);\n",
              "        }\n",
              "      </script>\n",
              "    </div>\n",
              "  </div>\n",
              "  "
            ]
          },
          "metadata": {}
        },
        {
          "output_type": "stream",
          "name": "stdout",
          "text": [
            "<class 'pandas.core.frame.DataFrame'>\n",
            "RangeIndex: 10000 entries, 0 to 9999\n",
            "Data columns (total 31 columns):\n",
            " #   Column       Non-Null Count  Dtype  \n",
            "---  ------       --------------  -----  \n",
            " 0   기준년도         10000 non-null  int64  \n",
            " 1   가입자일련번호      10000 non-null  int64  \n",
            " 2   시도코드         10000 non-null  int64  \n",
            " 3   성별코드         10000 non-null  object \n",
            " 4   연령대코드(5세단위)  10000 non-null  int64  \n",
            " 5   신장(5Cm단위)    10000 non-null  int64  \n",
            " 6   체중(5Kg 단위)   10000 non-null  int64  \n",
            " 7   허리둘레         10000 non-null  float64\n",
            " 8   시력(좌)        10000 non-null  float64\n",
            " 9   시력(우)        10000 non-null  float64\n",
            " 10  청력(좌)        10000 non-null  int64  \n",
            " 11  청력(우)        10000 non-null  int64  \n",
            " 12  수축기혈압        9912 non-null   float64\n",
            " 13  이완기혈압        9912 non-null   float64\n",
            " 14  식전혈당(공복혈당)   9912 non-null   float64\n",
            " 15  총콜레스테롤       4044 non-null   float64\n",
            " 16  트리글리세라이드     4044 non-null   float64\n",
            " 17  HDL콜레스테롤     4044 non-null   float64\n",
            " 18  LDL콜레스테롤     3977 non-null   float64\n",
            " 19  혈색소          9912 non-null   float64\n",
            " 20  요단백          9861 non-null   float64\n",
            " 21  혈청크레아티닌      9912 non-null   float64\n",
            " 22  (혈청지오티)AST   9912 non-null   float64\n",
            " 23  (혈청지오티)ALT   9912 non-null   float64\n",
            " 24  감마지티피        9912 non-null   float64\n",
            " 25  흡연상태         9998 non-null   object \n",
            " 26  음주여부         9999 non-null   object \n",
            " 27  구강검진수검여부     10000 non-null  int64  \n",
            " 28  치아우식증유무      3251 non-null   float64\n",
            " 29  치석           3251 non-null   float64\n",
            " 30  데이터공개일자      10000 non-null  object \n",
            "dtypes: float64(18), int64(9), object(4)\n",
            "memory usage: 2.4+ MB\n",
            "None\n",
            "          기준년도      가입자일련번호          시도코드   연령대코드(5세단위)     신장(5Cm단위)  \\\n",
            "count  10000.0  10000.00000  10000.000000  10000.000000  10000.000000   \n",
            "mean    2020.0   5000.50000     34.100100     11.931400    160.983500   \n",
            "std        0.0   2886.89568     12.394581      2.166048      9.211608   \n",
            "min     2020.0      1.00000     11.000000      9.000000    130.000000   \n",
            "25%     2020.0   2500.75000     27.000000     10.000000    155.000000   \n",
            "50%     2020.0   5000.50000     41.000000     12.000000    160.000000   \n",
            "75%     2020.0   7500.25000     44.000000     13.000000    170.000000   \n",
            "max     2020.0  10000.00000     49.000000     18.000000    195.000000   \n",
            "\n",
            "         체중(5Kg 단위)          허리둘레         시력(좌)         시력(우)         청력(좌)  \\\n",
            "count  10000.000000  10000.000000  10000.000000  10000.000000  10000.000000   \n",
            "mean      63.034500     82.366100      0.933750      0.936750      1.050500   \n",
            "std       12.205294      9.561973      0.662057      0.641378      0.227936   \n",
            "min       30.000000     53.000000      0.100000      0.100000      1.000000   \n",
            "25%       55.000000     76.000000      0.700000      0.700000      1.000000   \n",
            "50%       60.000000     82.000000      0.900000      0.900000      1.000000   \n",
            "75%       70.000000     88.900000      1.200000      1.200000      1.000000   \n",
            "max      130.000000    134.000000      9.900000      9.900000      3.000000   \n",
            "\n",
            "       ...     LDL콜레스테롤          혈색소          요단백      혈청크레아티닌  (혈청지오티)AST  \\\n",
            "count  ...  3977.000000  9912.000000  9861.000000  9912.000000  9912.00000   \n",
            "mean   ...   116.263264    14.214255     1.119461     0.848484    27.58979   \n",
            "std    ...    37.829955     1.555386     0.489782     0.301012    17.88442   \n",
            "min    ...    13.000000     5.100000     1.000000     0.050000     3.00000   \n",
            "25%    ...    89.000000    13.200000     1.000000     0.700000    20.00000   \n",
            "50%    ...   115.000000    14.200000     1.000000     0.800000    24.00000   \n",
            "75%    ...   141.000000    15.300000     1.000000     1.000000    30.00000   \n",
            "max    ...   297.000000    20.000000     6.000000     9.200000   692.00000   \n",
            "\n",
            "        (혈청지오티)ALT        감마지티피      구강검진수검여부      치아우식증유무           치석  \n",
            "count  9912.000000  9912.000000  10000.000000  3251.000000  3251.000000  \n",
            "mean     26.789851    38.098668      0.325100     0.175331     0.579514  \n",
            "std      23.735687    58.184579      0.468436     0.380308     0.591269  \n",
            "min       2.000000     3.000000      0.000000     0.000000     0.000000  \n",
            "25%      16.000000    16.000000      0.000000     0.000000     0.000000  \n",
            "50%      21.000000    24.000000      0.000000     0.000000     1.000000  \n",
            "75%      31.000000    39.000000      1.000000     0.000000     1.000000  \n",
            "max    1146.000000  2322.000000      1.000000     1.000000     2.000000  \n",
            "\n",
            "[8 rows x 27 columns]\n"
          ]
        }
      ]
    },
    {
      "cell_type": "code",
      "source": [
        "#가설세우기 혹은 분석해볼 변수 정하기\n",
        "#가설 1,2 는 도서 '호메시스'를 통한 기반지식에서 추정한 가설\n",
        "#가설 3을 개인적인 궁금함\n",
        "#1. 총 콜레스테롤은 비만에 영향을 주지 않을 것이다. \n",
        "#2. 감마gtp는 비만에 영향을 준다.\n",
        "#3. 흡연은 비만에 영향을 주지 않을 것이다.\n"
      ],
      "metadata": {
        "id": "kr4cuUYAvFro"
      },
      "execution_count": null,
      "outputs": []
    },
    {
      "cell_type": "code",
      "source": [
        "#변수명 바꾸기\n",
        "health_new = health.copy()\n",
        "health_new = health_new.rename(columns = {'체중(5Kg 단위)' : '체중'})\n",
        "health_new = health_new.rename(columns = {'신장(5Cm단위)' : '신장'})\n",
        "\n",
        "#파생변수 만들기 비만도 \n",
        "health_new['bmi'] = health_new['체중'] / (health_new['신장']/100)**2\n",
        "health_new['bmi_grade'] = np.where(health_new['bmi']>=35, '고도비만',\n",
        "                          np.where(health_new['bmi']>=30, '2비만',\n",
        "                          np.where(health_new['bmi']>=25, '1비만',\n",
        "                          np.where(health_new['bmi']>=23, '과체중',\n",
        "                          np.where(health_new['bmi']>=18.6, '정상','저체중')))))\n",
        "display(health_new.head())"
      ],
      "metadata": {
        "colab": {
          "base_uri": "https://localhost:8080/",
          "height": 297
        },
        "id": "jI4-_OWz1H-R",
        "outputId": "7d478bf2-0a42-4774-d3e1-8cccfc278a90"
      },
      "execution_count": 6,
      "outputs": [
        {
          "output_type": "display_data",
          "data": {
            "text/plain": [
              "   기준년도  가입자일련번호  시도코드 성별코드  연령대코드(5세단위)   신장  체중  허리둘레  시력(좌)  시력(우)  ...  \\\n",
              "0  2020        1    36    M            9  165  60  72.1    1.2    1.5  ...   \n",
              "1  2020        2    27    F           13  150  65  81.0    0.8    0.8  ...   \n",
              "2  2020        3    11    F           12  155  55  70.0    0.6    0.7  ...   \n",
              "3  2020        4    31    M           13  160  70  90.8    1.0    1.0  ...   \n",
              "4  2020        5    41    F           12  155  50  75.2    1.5    1.2  ...   \n",
              "\n",
              "   (혈청지오티)ALT  감마지티피  흡연상태  음주여부  구강검진수검여부  치아우식증유무   치석     데이터공개일자  \\\n",
              "0        27.0   21.0    No    No         0      NaN  NaN  12/29/2021   \n",
              "1        15.0   15.0    No    No         0      NaN  NaN  12/29/2021   \n",
              "2        25.0    7.0    No    No         0      NaN  NaN  12/29/2021   \n",
              "3        97.0   72.0    No    No         1      0.0  0.0  12/29/2021   \n",
              "4        17.0   14.0    No    No         0      NaN  NaN  12/29/2021   \n",
              "\n",
              "         bmi  bmi_grade  \n",
              "0  22.038567         정상  \n",
              "1  28.888889        1비만  \n",
              "2  22.892820         정상  \n",
              "3  27.343750        1비만  \n",
              "4  20.811655         정상  \n",
              "\n",
              "[5 rows x 33 columns]"
            ],
            "text/html": [
              "\n",
              "  <div id=\"df-0d3130b9-e8e2-403e-9b10-394d57ef0f96\">\n",
              "    <div class=\"colab-df-container\">\n",
              "      <div>\n",
              "<style scoped>\n",
              "    .dataframe tbody tr th:only-of-type {\n",
              "        vertical-align: middle;\n",
              "    }\n",
              "\n",
              "    .dataframe tbody tr th {\n",
              "        vertical-align: top;\n",
              "    }\n",
              "\n",
              "    .dataframe thead th {\n",
              "        text-align: right;\n",
              "    }\n",
              "</style>\n",
              "<table border=\"1\" class=\"dataframe\">\n",
              "  <thead>\n",
              "    <tr style=\"text-align: right;\">\n",
              "      <th></th>\n",
              "      <th>기준년도</th>\n",
              "      <th>가입자일련번호</th>\n",
              "      <th>시도코드</th>\n",
              "      <th>성별코드</th>\n",
              "      <th>연령대코드(5세단위)</th>\n",
              "      <th>신장</th>\n",
              "      <th>체중</th>\n",
              "      <th>허리둘레</th>\n",
              "      <th>시력(좌)</th>\n",
              "      <th>시력(우)</th>\n",
              "      <th>...</th>\n",
              "      <th>(혈청지오티)ALT</th>\n",
              "      <th>감마지티피</th>\n",
              "      <th>흡연상태</th>\n",
              "      <th>음주여부</th>\n",
              "      <th>구강검진수검여부</th>\n",
              "      <th>치아우식증유무</th>\n",
              "      <th>치석</th>\n",
              "      <th>데이터공개일자</th>\n",
              "      <th>bmi</th>\n",
              "      <th>bmi_grade</th>\n",
              "    </tr>\n",
              "  </thead>\n",
              "  <tbody>\n",
              "    <tr>\n",
              "      <th>0</th>\n",
              "      <td>2020</td>\n",
              "      <td>1</td>\n",
              "      <td>36</td>\n",
              "      <td>M</td>\n",
              "      <td>9</td>\n",
              "      <td>165</td>\n",
              "      <td>60</td>\n",
              "      <td>72.1</td>\n",
              "      <td>1.2</td>\n",
              "      <td>1.5</td>\n",
              "      <td>...</td>\n",
              "      <td>27.0</td>\n",
              "      <td>21.0</td>\n",
              "      <td>No</td>\n",
              "      <td>No</td>\n",
              "      <td>0</td>\n",
              "      <td>NaN</td>\n",
              "      <td>NaN</td>\n",
              "      <td>12/29/2021</td>\n",
              "      <td>22.038567</td>\n",
              "      <td>정상</td>\n",
              "    </tr>\n",
              "    <tr>\n",
              "      <th>1</th>\n",
              "      <td>2020</td>\n",
              "      <td>2</td>\n",
              "      <td>27</td>\n",
              "      <td>F</td>\n",
              "      <td>13</td>\n",
              "      <td>150</td>\n",
              "      <td>65</td>\n",
              "      <td>81.0</td>\n",
              "      <td>0.8</td>\n",
              "      <td>0.8</td>\n",
              "      <td>...</td>\n",
              "      <td>15.0</td>\n",
              "      <td>15.0</td>\n",
              "      <td>No</td>\n",
              "      <td>No</td>\n",
              "      <td>0</td>\n",
              "      <td>NaN</td>\n",
              "      <td>NaN</td>\n",
              "      <td>12/29/2021</td>\n",
              "      <td>28.888889</td>\n",
              "      <td>1비만</td>\n",
              "    </tr>\n",
              "    <tr>\n",
              "      <th>2</th>\n",
              "      <td>2020</td>\n",
              "      <td>3</td>\n",
              "      <td>11</td>\n",
              "      <td>F</td>\n",
              "      <td>12</td>\n",
              "      <td>155</td>\n",
              "      <td>55</td>\n",
              "      <td>70.0</td>\n",
              "      <td>0.6</td>\n",
              "      <td>0.7</td>\n",
              "      <td>...</td>\n",
              "      <td>25.0</td>\n",
              "      <td>7.0</td>\n",
              "      <td>No</td>\n",
              "      <td>No</td>\n",
              "      <td>0</td>\n",
              "      <td>NaN</td>\n",
              "      <td>NaN</td>\n",
              "      <td>12/29/2021</td>\n",
              "      <td>22.892820</td>\n",
              "      <td>정상</td>\n",
              "    </tr>\n",
              "    <tr>\n",
              "      <th>3</th>\n",
              "      <td>2020</td>\n",
              "      <td>4</td>\n",
              "      <td>31</td>\n",
              "      <td>M</td>\n",
              "      <td>13</td>\n",
              "      <td>160</td>\n",
              "      <td>70</td>\n",
              "      <td>90.8</td>\n",
              "      <td>1.0</td>\n",
              "      <td>1.0</td>\n",
              "      <td>...</td>\n",
              "      <td>97.0</td>\n",
              "      <td>72.0</td>\n",
              "      <td>No</td>\n",
              "      <td>No</td>\n",
              "      <td>1</td>\n",
              "      <td>0.0</td>\n",
              "      <td>0.0</td>\n",
              "      <td>12/29/2021</td>\n",
              "      <td>27.343750</td>\n",
              "      <td>1비만</td>\n",
              "    </tr>\n",
              "    <tr>\n",
              "      <th>4</th>\n",
              "      <td>2020</td>\n",
              "      <td>5</td>\n",
              "      <td>41</td>\n",
              "      <td>F</td>\n",
              "      <td>12</td>\n",
              "      <td>155</td>\n",
              "      <td>50</td>\n",
              "      <td>75.2</td>\n",
              "      <td>1.5</td>\n",
              "      <td>1.2</td>\n",
              "      <td>...</td>\n",
              "      <td>17.0</td>\n",
              "      <td>14.0</td>\n",
              "      <td>No</td>\n",
              "      <td>No</td>\n",
              "      <td>0</td>\n",
              "      <td>NaN</td>\n",
              "      <td>NaN</td>\n",
              "      <td>12/29/2021</td>\n",
              "      <td>20.811655</td>\n",
              "      <td>정상</td>\n",
              "    </tr>\n",
              "  </tbody>\n",
              "</table>\n",
              "<p>5 rows × 33 columns</p>\n",
              "</div>\n",
              "      <button class=\"colab-df-convert\" onclick=\"convertToInteractive('df-0d3130b9-e8e2-403e-9b10-394d57ef0f96')\"\n",
              "              title=\"Convert this dataframe to an interactive table.\"\n",
              "              style=\"display:none;\">\n",
              "        \n",
              "  <svg xmlns=\"http://www.w3.org/2000/svg\" height=\"24px\"viewBox=\"0 0 24 24\"\n",
              "       width=\"24px\">\n",
              "    <path d=\"M0 0h24v24H0V0z\" fill=\"none\"/>\n",
              "    <path d=\"M18.56 5.44l.94 2.06.94-2.06 2.06-.94-2.06-.94-.94-2.06-.94 2.06-2.06.94zm-11 1L8.5 8.5l.94-2.06 2.06-.94-2.06-.94L8.5 2.5l-.94 2.06-2.06.94zm10 10l.94 2.06.94-2.06 2.06-.94-2.06-.94-.94-2.06-.94 2.06-2.06.94z\"/><path d=\"M17.41 7.96l-1.37-1.37c-.4-.4-.92-.59-1.43-.59-.52 0-1.04.2-1.43.59L10.3 9.45l-7.72 7.72c-.78.78-.78 2.05 0 2.83L4 21.41c.39.39.9.59 1.41.59.51 0 1.02-.2 1.41-.59l7.78-7.78 2.81-2.81c.8-.78.8-2.07 0-2.86zM5.41 20L4 18.59l7.72-7.72 1.47 1.35L5.41 20z\"/>\n",
              "  </svg>\n",
              "      </button>\n",
              "      \n",
              "  <style>\n",
              "    .colab-df-container {\n",
              "      display:flex;\n",
              "      flex-wrap:wrap;\n",
              "      gap: 12px;\n",
              "    }\n",
              "\n",
              "    .colab-df-convert {\n",
              "      background-color: #E8F0FE;\n",
              "      border: none;\n",
              "      border-radius: 50%;\n",
              "      cursor: pointer;\n",
              "      display: none;\n",
              "      fill: #1967D2;\n",
              "      height: 32px;\n",
              "      padding: 0 0 0 0;\n",
              "      width: 32px;\n",
              "    }\n",
              "\n",
              "    .colab-df-convert:hover {\n",
              "      background-color: #E2EBFA;\n",
              "      box-shadow: 0px 1px 2px rgba(60, 64, 67, 0.3), 0px 1px 3px 1px rgba(60, 64, 67, 0.15);\n",
              "      fill: #174EA6;\n",
              "    }\n",
              "\n",
              "    [theme=dark] .colab-df-convert {\n",
              "      background-color: #3B4455;\n",
              "      fill: #D2E3FC;\n",
              "    }\n",
              "\n",
              "    [theme=dark] .colab-df-convert:hover {\n",
              "      background-color: #434B5C;\n",
              "      box-shadow: 0px 1px 3px 1px rgba(0, 0, 0, 0.15);\n",
              "      filter: drop-shadow(0px 1px 2px rgba(0, 0, 0, 0.3));\n",
              "      fill: #FFFFFF;\n",
              "    }\n",
              "  </style>\n",
              "\n",
              "      <script>\n",
              "        const buttonEl =\n",
              "          document.querySelector('#df-0d3130b9-e8e2-403e-9b10-394d57ef0f96 button.colab-df-convert');\n",
              "        buttonEl.style.display =\n",
              "          google.colab.kernel.accessAllowed ? 'block' : 'none';\n",
              "\n",
              "        async function convertToInteractive(key) {\n",
              "          const element = document.querySelector('#df-0d3130b9-e8e2-403e-9b10-394d57ef0f96');\n",
              "          const dataTable =\n",
              "            await google.colab.kernel.invokeFunction('convertToInteractive',\n",
              "                                                     [key], {});\n",
              "          if (!dataTable) return;\n",
              "\n",
              "          const docLinkHtml = 'Like what you see? Visit the ' +\n",
              "            '<a target=\"_blank\" href=https://colab.research.google.com/notebooks/data_table.ipynb>data table notebook</a>'\n",
              "            + ' to learn more about interactive tables.';\n",
              "          element.innerHTML = '';\n",
              "          dataTable['output_type'] = 'display_data';\n",
              "          await google.colab.output.renderOutput(dataTable, element);\n",
              "          const docLink = document.createElement('div');\n",
              "          docLink.innerHTML = docLinkHtml;\n",
              "          element.appendChild(docLink);\n",
              "        }\n",
              "      </script>\n",
              "    </div>\n",
              "  </div>\n",
              "  "
            ]
          },
          "metadata": {}
        }
      ]
    },
    {
      "cell_type": "code",
      "source": [
        "display(health_new.shape) \n",
        "display(health_new.info()) \n",
        "display(health_new.isna().sum())\n",
        "#감마지티피88 총콜레스테롤5956개 흡연 2개 na존재. 신장,체중 na없음\n"
      ],
      "metadata": {
        "colab": {
          "base_uri": "https://localhost:8080/",
          "height": 1000
        },
        "id": "IheG3tafrviK",
        "outputId": "92193a66-c8e2-4e64-c6d7-d84c60ff32c8"
      },
      "execution_count": 7,
      "outputs": [
        {
          "output_type": "display_data",
          "data": {
            "text/plain": [
              "(10000, 33)"
            ]
          },
          "metadata": {}
        },
        {
          "output_type": "stream",
          "name": "stdout",
          "text": [
            "<class 'pandas.core.frame.DataFrame'>\n",
            "RangeIndex: 10000 entries, 0 to 9999\n",
            "Data columns (total 33 columns):\n",
            " #   Column       Non-Null Count  Dtype  \n",
            "---  ------       --------------  -----  \n",
            " 0   기준년도         10000 non-null  int64  \n",
            " 1   가입자일련번호      10000 non-null  int64  \n",
            " 2   시도코드         10000 non-null  int64  \n",
            " 3   성별코드         10000 non-null  object \n",
            " 4   연령대코드(5세단위)  10000 non-null  int64  \n",
            " 5   신장           10000 non-null  int64  \n",
            " 6   체중           10000 non-null  int64  \n",
            " 7   허리둘레         10000 non-null  float64\n",
            " 8   시력(좌)        10000 non-null  float64\n",
            " 9   시력(우)        10000 non-null  float64\n",
            " 10  청력(좌)        10000 non-null  int64  \n",
            " 11  청력(우)        10000 non-null  int64  \n",
            " 12  수축기혈압        9912 non-null   float64\n",
            " 13  이완기혈압        9912 non-null   float64\n",
            " 14  식전혈당(공복혈당)   9912 non-null   float64\n",
            " 15  총콜레스테롤       4044 non-null   float64\n",
            " 16  트리글리세라이드     4044 non-null   float64\n",
            " 17  HDL콜레스테롤     4044 non-null   float64\n",
            " 18  LDL콜레스테롤     3977 non-null   float64\n",
            " 19  혈색소          9912 non-null   float64\n",
            " 20  요단백          9861 non-null   float64\n",
            " 21  혈청크레아티닌      9912 non-null   float64\n",
            " 22  (혈청지오티)AST   9912 non-null   float64\n",
            " 23  (혈청지오티)ALT   9912 non-null   float64\n",
            " 24  감마지티피        9912 non-null   float64\n",
            " 25  흡연상태         9998 non-null   object \n",
            " 26  음주여부         9999 non-null   object \n",
            " 27  구강검진수검여부     10000 non-null  int64  \n",
            " 28  치아우식증유무      3251 non-null   float64\n",
            " 29  치석           3251 non-null   float64\n",
            " 30  데이터공개일자      10000 non-null  object \n",
            " 31  bmi          10000 non-null  float64\n",
            " 32  bmi_grade    10000 non-null  object \n",
            "dtypes: float64(19), int64(9), object(5)\n",
            "memory usage: 2.5+ MB\n"
          ]
        },
        {
          "output_type": "display_data",
          "data": {
            "text/plain": [
              "None"
            ]
          },
          "metadata": {}
        },
        {
          "output_type": "display_data",
          "data": {
            "text/plain": [
              "기준년도              0\n",
              "가입자일련번호           0\n",
              "시도코드              0\n",
              "성별코드              0\n",
              "연령대코드(5세단위)       0\n",
              "신장                0\n",
              "체중                0\n",
              "허리둘레              0\n",
              "시력(좌)             0\n",
              "시력(우)             0\n",
              "청력(좌)             0\n",
              "청력(우)             0\n",
              "수축기혈압            88\n",
              "이완기혈압            88\n",
              "식전혈당(공복혈당)       88\n",
              "총콜레스테롤         5956\n",
              "트리글리세라이드       5956\n",
              "HDL콜레스테롤       5956\n",
              "LDL콜레스테롤       6023\n",
              "혈색소              88\n",
              "요단백             139\n",
              "혈청크레아티닌          88\n",
              "(혈청지오티)AST       88\n",
              "(혈청지오티)ALT       88\n",
              "감마지티피            88\n",
              "흡연상태              2\n",
              "음주여부              1\n",
              "구강검진수검여부          0\n",
              "치아우식증유무        6749\n",
              "치석             6749\n",
              "데이터공개일자           0\n",
              "bmi               0\n",
              "bmi_grade         0\n",
              "dtype: int64"
            ]
          },
          "metadata": {}
        }
      ]
    },
    {
      "cell_type": "code",
      "source": [
        "#종속변수로 사용할 비만도에 결측치가 없고, 총 콜레스테롤의 5956개로 제거하기에 너무 많아 대체를 택함\n",
        "health_new['총콜레스테롤'].mean() #198.27 (소수점 3째자리에서 반올림함)\n",
        "health_new['총콜레스테롤'] = health_new['총콜레스테롤'].fillna(198.27)\n"
      ],
      "metadata": {
        "id": "NCjImKDSsnJC"
      },
      "execution_count": 8,
      "outputs": []
    },
    {
      "cell_type": "code",
      "source": [
        "#감마지티피 역시 대체\n",
        "health_new['감마지티피'].mean() #38.10 (소수점 3째자리에서 반올림함)\n",
        "health_new['감마지티피'] = health_new['감마지티피'].fillna(38.10)"
      ],
      "metadata": {
        "id": "Ah7EB_9bNzyO"
      },
      "execution_count": 9,
      "outputs": []
    },
    {
      "cell_type": "code",
      "source": [
        "#흡연은 수치도 아니라 대체하기 애매하고, 결측치 수가 적으니 그냥 제거\n",
        "health_new = health_new.dropna(subset = ['흡연상태'], axis=0)  \n",
        "display(health_new.isna().sum())"
      ],
      "metadata": {
        "colab": {
          "base_uri": "https://localhost:8080/",
          "height": 634
        },
        "id": "J8XX27tyPXDz",
        "outputId": "9c53d964-4e32-45f0-d17c-51e0546290b8"
      },
      "execution_count": 10,
      "outputs": [
        {
          "output_type": "display_data",
          "data": {
            "text/plain": [
              "기준년도              0\n",
              "가입자일련번호           0\n",
              "시도코드              0\n",
              "성별코드              0\n",
              "연령대코드(5세단위)       0\n",
              "신장                0\n",
              "체중                0\n",
              "허리둘레              0\n",
              "시력(좌)             0\n",
              "시력(우)             0\n",
              "청력(좌)             0\n",
              "청력(우)             0\n",
              "수축기혈압            88\n",
              "이완기혈압            88\n",
              "식전혈당(공복혈당)       88\n",
              "총콜레스테롤            0\n",
              "트리글리세라이드       5954\n",
              "HDL콜레스테롤       5954\n",
              "LDL콜레스테롤       6021\n",
              "혈색소              88\n",
              "요단백             139\n",
              "혈청크레아티닌          88\n",
              "(혈청지오티)AST       88\n",
              "(혈청지오티)ALT       88\n",
              "감마지티피             0\n",
              "흡연상태              0\n",
              "음주여부              1\n",
              "구강검진수검여부          0\n",
              "치아우식증유무        6747\n",
              "치석             6747\n",
              "데이터공개일자           0\n",
              "bmi               0\n",
              "bmi_grade         0\n",
              "dtype: int64"
            ]
          },
          "metadata": {}
        }
      ]
    },
    {
      "cell_type": "code",
      "source": [
        "#이상치 살펴보기\n",
        "sns.boxplot(data = health_new, y = 'bmi') #너무 많네요 일부 제거하겠습니다."
      ],
      "metadata": {
        "id": "9PgX_1xUP7DF"
      },
      "execution_count": 11,
      "outputs": []
    },
    {
      "cell_type": "code",
      "source": [
        "###이상치 처리\n",
        "pct25 = health_new['bmi'].quantile(.25)\n",
        "print(pct25) #22.04 (셋째자리에서반올림)\n",
        "pct75 = health_new['bmi'].quantile(.75)\n",
        "print(pct75) #26.12 (셋째자리에서반올림)\n",
        "iqr = pct75 - pct25\n"
      ],
      "metadata": {
        "colab": {
          "base_uri": "https://localhost:8080/"
        },
        "id": "dUAovxaASeU4",
        "outputId": "63b08292-2fc1-4a4f-afe8-8117c7eb1f66"
      },
      "execution_count": 12,
      "outputs": [
        {
          "output_type": "stream",
          "name": "stdout",
          "text": [
            "22.03856749311295\n",
            "26.122448979591837\n"
          ]
        }
      ]
    },
    {
      "cell_type": "code",
      "source": [
        "#상한하한구하기\n",
        "ll = pct25 - 1.5*iqr\n",
        "print(ll) #15.91\n",
        "ul = pct75 + 1.5*iqr\n",
        "print(ul) #32.25\n",
        "#이상치 결정할 상한값 하한값이 구해졌으나 저체중의 기준이 18.5미만이고, 고도비만의 기준이 35이상이므로 \n",
        "#하한값은 사용할만 하나 상한값을 이상치에 적용 시, 고도비만은 존재하지 않게 되므로 하한만 적용하겠다. 상한은 임의로 40으로 정한다."
      ],
      "metadata": {
        "colab": {
          "base_uri": "https://localhost:8080/"
        },
        "id": "5FEEw7qPTCVy",
        "outputId": "631d3db9-8a10-4361-fd0e-6c8715a99197"
      },
      "execution_count": 13,
      "outputs": [
        {
          "output_type": "stream",
          "name": "stdout",
          "text": [
            "15.91274526339462\n",
            "32.24827120931017\n"
          ]
        }
      ]
    },
    {
      "cell_type": "code",
      "source": [
        "#이상치 있는 행 결측처리하고 제거\n",
        "health_new['bmi'] = np.where((health_new['bmi']<15.91) | (health_new['bmi']>40), np.nan, health_new['bmi'])  \n",
        "display(health_new.isna().sum()) #25개 제거\n",
        "health_new = health_new.dropna(subset = ['bmi'], axis=0)\n",
        "display(health_new.isna().sum())"
      ],
      "metadata": {
        "colab": {
          "base_uri": "https://localhost:8080/",
          "height": 1000
        },
        "id": "L72oMDokTgvg",
        "outputId": "7a855864-b0bd-4a5d-cd6a-75119edd2a5b"
      },
      "execution_count": 14,
      "outputs": [
        {
          "output_type": "display_data",
          "data": {
            "text/plain": [
              "기준년도              0\n",
              "가입자일련번호           0\n",
              "시도코드              0\n",
              "성별코드              0\n",
              "연령대코드(5세단위)       0\n",
              "신장                0\n",
              "체중                0\n",
              "허리둘레              0\n",
              "시력(좌)             0\n",
              "시력(우)             0\n",
              "청력(좌)             0\n",
              "청력(우)             0\n",
              "수축기혈압            88\n",
              "이완기혈압            88\n",
              "식전혈당(공복혈당)       88\n",
              "총콜레스테롤            0\n",
              "트리글리세라이드       5954\n",
              "HDL콜레스테롤       5954\n",
              "LDL콜레스테롤       6021\n",
              "혈색소              88\n",
              "요단백             139\n",
              "혈청크레아티닌          88\n",
              "(혈청지오티)AST       88\n",
              "(혈청지오티)ALT       88\n",
              "감마지티피             0\n",
              "흡연상태              0\n",
              "음주여부              1\n",
              "구강검진수검여부          0\n",
              "치아우식증유무        6747\n",
              "치석             6747\n",
              "데이터공개일자           0\n",
              "bmi              25\n",
              "bmi_grade         0\n",
              "dtype: int64"
            ]
          },
          "metadata": {}
        },
        {
          "output_type": "display_data",
          "data": {
            "text/plain": [
              "기준년도              0\n",
              "가입자일련번호           0\n",
              "시도코드              0\n",
              "성별코드              0\n",
              "연령대코드(5세단위)       0\n",
              "신장                0\n",
              "체중                0\n",
              "허리둘레              0\n",
              "시력(좌)             0\n",
              "시력(우)             0\n",
              "청력(좌)             0\n",
              "청력(우)             0\n",
              "수축기혈압            87\n",
              "이완기혈압            87\n",
              "식전혈당(공복혈당)       87\n",
              "총콜레스테롤            0\n",
              "트리글리세라이드       5940\n",
              "HDL콜레스테롤       5940\n",
              "LDL콜레스테롤       6007\n",
              "혈색소              87\n",
              "요단백             138\n",
              "혈청크레아티닌          87\n",
              "(혈청지오티)AST       87\n",
              "(혈청지오티)ALT       87\n",
              "감마지티피             0\n",
              "흡연상태              0\n",
              "음주여부              1\n",
              "구강검진수검여부          0\n",
              "치아우식증유무        6732\n",
              "치석             6732\n",
              "데이터공개일자           0\n",
              "bmi               0\n",
              "bmi_grade         0\n",
              "dtype: int64"
            ]
          },
          "metadata": {}
        }
      ]
    },
    {
      "cell_type": "code",
      "source": [
        "#허리둘레는 상자그래프로 너무 말이 안되는 이상치 있는지만 확인하고 bmi의 이상치제거를 따라간다.(고도비만을 삭제할 가능성이 있으므로)\n",
        "sns.boxplot(data = health_new, y = '허리둘레')\n"
      ],
      "metadata": {
        "colab": {
          "base_uri": "https://localhost:8080/",
          "height": 270
        },
        "id": "enXpkxx8VYSW",
        "outputId": "21039c90-9edb-4d9a-a1fe-7901c6e7bef9"
      },
      "execution_count": 15,
      "outputs": [
        {
          "output_type": "execute_result",
          "data": {
            "text/plain": [
              "<matplotlib.axes._subplots.AxesSubplot at 0x7f1b84e40650>"
            ]
          },
          "metadata": {},
          "execution_count": 15
        },
        {
          "output_type": "display_data",
          "data": {
            "text/plain": [
              "<Figure size 432x288 with 1 Axes>"
            ],
            "image/png": "[encoded data removed]"
          },
          "metadata": {
            "needs_background": "light"
          }
        }
      ]
    },
    {
      "cell_type": "code",
      "source": [
        "#상자그림보고 가장 위에 두개는 좀 이상하니까 이상치로 판정하겠음 #125 기준으로 하면 벗어남 #제거\n",
        "len(health_new.loc[(health_new['허리둘레'] > 125)])\n",
        "health_new['허리둘레'] = np.where((health_new['허리둘레']>125), np.nan, health_new['허리둘레'])  \n",
        "health_new = health_new.dropna(subset = ['허리둘레'], axis=0)\n"
      ],
      "metadata": {
        "id": "HnXlCmRWmlEu"
      },
      "execution_count": 16,
      "outputs": []
    },
    {
      "cell_type": "code",
      "source": [
        "#bmi_grade 빈도 확인 어떤 범주 표본이 많은지\n",
        "sns.countplot(data = health_new, x = 'bmi_grade') "
      ],
      "metadata": {
        "colab": {
          "base_uri": "https://localhost:8080/",
          "height": 297
        },
        "id": "L1Ebh4l9xa3-",
        "outputId": "7da77f66-dbe1-4a47-ba20-af89a167e71e"
      },
      "execution_count": 19,
      "outputs": [
        {
          "output_type": "execute_result",
          "data": {
            "text/plain": [
              "<matplotlib.axes._subplots.AxesSubplot at 0x7f1b846fa5d0>"
            ]
          },
          "metadata": {},
          "execution_count": 19
        },
        {
          "output_type": "display_data",
          "data": {
            "text/plain": [
              "<Figure size 432x288 with 1 Axes>"
            ],
            "image/png": "[encoded data removed]"
          },
          "metadata": {
            "needs_background": "light"
          }
        }
      ]
    },
    {
      "cell_type": "markdown",
      "source": [
        "##가설 1\n"
      ],
      "metadata": {
        "id": "MgY8BEXE2t6U"
      }
    },
    {
      "cell_type": "code",
      "source": [
        "#가설 1. 총 콜레스테롤은 비만에 영향을 주지 않을 것이다. \n",
        "\n",
        "sns.scatterplot(data = health_new, x = 'bmi', y = '총콜레스테롤') \n",
        "#산점도로 보시다시피 x축 bmi의 높고 낮음과 상관 없이 콜레스테롤이 고르게 분포되어 있다.\n",
        "#콜레스테롤 폭이 크고 좁음은 빈도가 많은 구간(정상, 1비만, 과체중에 해당하는 범위)일수록 표본이 많아 폭이 큰 것 같다.\n",
        "#bmi별로 콜레스테를이 일렬로 줄지은 것 같은 현상은 bmi의 기본데이터인 체중과 신장이 5기준으로 나뉘었기 때문이다."
      ],
      "metadata": {
        "colab": {
          "base_uri": "https://localhost:8080/",
          "height": 299
        },
        "id": "FZ8Hwp6RmC-r",
        "outputId": "d5e19c54-592f-438a-acf0-af2b1e4d35fa"
      },
      "execution_count": 20,
      "outputs": [
        {
          "output_type": "execute_result",
          "data": {
            "text/plain": [
              "<matplotlib.axes._subplots.AxesSubplot at 0x7f1b8467f7d0>"
            ]
          },
          "metadata": {},
          "execution_count": 20
        },
        {
          "output_type": "display_data",
          "data": {
            "text/plain": [
              "<Figure size 432x288 with 1 Axes>"
            ],
            "image/png": "[encoded data removed]"
          },
          "metadata": {
            "needs_background": "light"
          }
        }
      ]
    },
    {
      "cell_type": "code",
      "source": [
        "bmigrade_mean = health_new.groupby('bmi_grade' , as_index = False).agg(  mean_col = ('총콜레스테롤', 'mean'))\n",
        "sns.barplot(data = bmigrade_mean, x = 'bmi_grade', y = 'mean_col')#보시다시피 비만정도와 콜레스테롤 평균 시각적으로 유의미한 차이 없음."
      ],
      "metadata": {
        "colab": {
          "base_uri": "https://localhost:8080/",
          "height": 297
        },
        "id": "VXHZEHwhtaxu",
        "outputId": "33b0d885-e0ac-4b09-fa7f-1cd7c7be375a"
      },
      "execution_count": 17,
      "outputs": [
        {
          "output_type": "execute_result",
          "data": {
            "text/plain": [
              "<matplotlib.axes._subplots.AxesSubplot at 0x7f1b84ccf2d0>"
            ]
          },
          "metadata": {},
          "execution_count": 17
        },
        {
          "output_type": "display_data",
          "data": {
            "text/plain": [
              "<Figure size 432x288 with 1 Axes>"
            ],
            "image/png": "[encoded data removed]"
          },
          "metadata": {
            "needs_background": "light"
          }
        }
      ]
    },
    {
      "cell_type": "markdown",
      "source": [
        "###가설 1.결론 및 통찰  \n",
        "통상적으로 비만이면 콜레스테롤이 많이 함유된 음식을 먹어 그렇게 된 것이고, 이는  혈중 콜레스테롤 수치를 증가시켜 동맥경화나 심장병 같은 질병이 발생하기 쉽게 한다는 인식이 있다. 비만인에게 식이를 권장할 때도 건강을 위해 콜레스테롤이 많이 든 계란 노른자를 섭취하지 말고 흰자만 먹으라고 하기도 하지 않은가. 허나 그렇지 않을 수 있다는 것을 도서 '호메시스'를 읽고 가능성을 접했다. \n",
        "\n",
        "실제로 데이터에 기반에 시각화를 해보니 콜레스테롤 수치와 비만 정도는 관계가 없었다. 평균으로 막대그래프를 그린 것을 보아도 그러하고, 산점도를 보아도 그러하다. (산점도의 콜레스테롤 폭이 넓은 구간은 단순히 빈도가 높아 해당 범위에서 표본이 많기 때문에 다양한 값이 나올 수 있던 것으로 추측할 수 있다.)\n",
        "이는 동물성 지방에 관한 오해와 관계가 있는데, 우선 혈중 콜레스테롤은 실제 콜레스테롤 음식 섭취에 큰 영향을 받지 않는다. 그러므로 콜레스테롤의 섭취는 실제 혈중 콜레스테롤 수치의 증가로 이어지지 않고, 콜레스테롤 섭취로 인한 비만과 실제 혈중 수치는 관련이 없다. \n",
        "*(콜레스테롤 음식 섭취와 비만의 관계는 이 데이터로 확인할 수 없었다.)"
      ],
      "metadata": {
        "id": "G60Pm7QAxxYt"
      }
    },
    {
      "cell_type": "markdown",
      "source": [
        "#가설2"
      ],
      "metadata": {
        "id": "sdesRGQ13C-E"
      }
    },
    {
      "cell_type": "code",
      "source": [
        "#2. 감마gtp는 비만에 영향을 준다.\n",
        "sns.scatterplot(data = health_new, x = 'bmi', y = '감마지티피') \\\n",
        "   .set(ylim = (0, 1000))\n",
        "   \n",
        "#산점도로는 확인이 어려웠다."
      ],
      "metadata": {
        "colab": {
          "base_uri": "https://localhost:8080/",
          "height": 301
        },
        "id": "G9GO0fbymnWF",
        "outputId": "6528f25c-07ba-4210-9895-67e600bc84cf"
      },
      "execution_count": 23,
      "outputs": [
        {
          "output_type": "execute_result",
          "data": {
            "text/plain": [
              "[(0.0, 1000.0)]"
            ]
          },
          "metadata": {},
          "execution_count": 23
        },
        {
          "output_type": "display_data",
          "data": {
            "text/plain": [
              "<Figure size 432x288 with 1 Axes>"
            ],
            "image/png": "[encoded data removed]"
          },
          "metadata": {
            "needs_background": "light"
          }
        }
      ]
    },
    {
      "cell_type": "code",
      "source": [
        "bmigrade_mean2 = health_new.groupby('bmi_grade' , as_index = False).agg(  mean_gtp = ('감마지티피', 'mean'))\n",
        "sns.barplot(data = bmigrade_mean2, x = 'bmi_grade', y = 'mean_gtp')\n",
        "#비만정도가 높을 수록 감마gtp수치가 높은 것을 확인할 수 있었다."
      ],
      "metadata": {
        "colab": {
          "base_uri": "https://localhost:8080/",
          "height": 297
        },
        "id": "TlfRhd4H7MU4",
        "outputId": "b251fbb1-8610-46c3-9722-c4a66704267f"
      },
      "execution_count": 25,
      "outputs": [
        {
          "output_type": "execute_result",
          "data": {
            "text/plain": [
              "<matplotlib.axes._subplots.AxesSubplot at 0x7f1b845e2dd0>"
            ]
          },
          "metadata": {},
          "execution_count": 25
        },
        {
          "output_type": "display_data",
          "data": {
            "text/plain": [
              "<Figure size 432x288 with 1 Axes>"
            ],
            "image/png": "[encoded data removed]"
          },
          "metadata": {
            "needs_background": "light"
          }
        }
      ]
    },
    {
      "cell_type": "markdown",
      "source": [
        "###가설 2.결론 및 통찰  \n",
        "우연히 책을 읽고 감마gtp가 외부의 화학물질에 대응해 담즙을 만들어내는 것과 관련된 수치라는 것을 알게되었다. 현대사회에서 유해화학물질을 섭취하는 가장 큰 경로가 식습관이기에 이 수치는 식습관과 관련이 깊다. 수치가 높을수록 고혈압, 암, 뇌졸증 등 만성퇴행성질환의 대부분과 관련이 있다기에 비만정도와의 관련성도 직접 데이터를 통해 알아보고 싶었다. \n",
        "\n",
        "산점도를 보았을 때는 케이스가 많아 확인이 어려웠으나 bmi 정도 별로 수치 평균을 내보니 그 차이가 보였다. 저체중에서 고도비만으로 갈수록 감마gtp수치 평균이 높아지는 것을 확인할 수 있었다. 감마gtp 수치는 동물성 식품을 많이 먹을수록 높다. 왜냐하면 유해화학물질은 지방에 잘 농축되기 때문이다. 반대로 말하면 식물성 식품을 먹을수록 수치가 낮다는 뜻이다. 식물성 식품위주의 섭취는 칼로리가 낮아 자연스레 체중감량으로 이어질 수 밖에 없다고 생각한다. 이때문에 감마gtp가 비만정도와 상관이 있는 것 같다."
      ],
      "metadata": {
        "id": "ktYUgVD67xm-"
      }
    },
    {
      "cell_type": "markdown",
      "source": [
        "#가설 3\n"
      ],
      "metadata": {
        "id": "GnNgvQ-y_Cnc"
      }
    },
    {
      "cell_type": "code",
      "source": [
        "#3. 흡연은 비만에 영향을 주지 않을 것이다.\n",
        "sns.boxplot(data = health_new, x = '흡연상태', y = 'bmi')\n",
        "#확실히 안 필 때가 bmi가 가장 낮아보이긴 한다. \n",
        "#그런데 폈다 끊은 경우가 피는 중보다 높아보인다. \n",
        "#또한, 안피는 사람이나 피는 사람이나 bmi 이상치 벗어난 정도가 커 보인다. 폈다가 끊은게 가장 고르게 통통하다(?)"
      ],
      "metadata": {
        "colab": {
          "base_uri": "https://localhost:8080/",
          "height": 297
        },
        "id": "AojGyUC5n0eG",
        "outputId": "7b096af6-c1e3-4134-8b38-2c646dde5615"
      },
      "execution_count": 28,
      "outputs": [
        {
          "output_type": "execute_result",
          "data": {
            "text/plain": [
              "<matplotlib.axes._subplots.AxesSubplot at 0x7f1b8392c190>"
            ]
          },
          "metadata": {},
          "execution_count": 28
        },
        {
          "output_type": "display_data",
          "data": {
            "text/plain": [
              "<Figure size 432x288 with 1 Axes>"
            ],
            "image/png": "[encoded data removed]"
          },
          "metadata": {
            "needs_background": "light"
          }
        }
      ]
    },
    {
      "cell_type": "code",
      "source": [
        "흡연상태_mean = health_new.groupby('흡연상태' , as_index = False).agg(  mean_bmi = ('bmi', 'mean'))\n",
        "sns.barplot(data = 흡연상태_mean, x = '흡연상태', y = 'mean_bmi') \\\n",
        "   .set(ylim = (22, 28))\n",
        "\n",
        "# 평균으로 확실히 보니 안피는게 bmi 낮다. \n",
        "# 피다가 끊는게 가장 비만도가 높다."
      ],
      "metadata": {
        "colab": {
          "base_uri": "https://localhost:8080/",
          "height": 301
        },
        "id": "_eN_rOmbA1u4",
        "outputId": "0d7724c6-e0cc-48ae-9cb0-f53815a782ac"
      },
      "execution_count": 32,
      "outputs": [
        {
          "output_type": "execute_result",
          "data": {
            "text/plain": [
              "[(22.0, 28.0)]"
            ]
          },
          "metadata": {},
          "execution_count": 32
        },
        {
          "output_type": "display_data",
          "data": {
            "text/plain": [
              "<Figure size 432x288 with 1 Axes>"
            ],
            "image/png": "[encoded data removed]"
          },
          "metadata": {
            "needs_background": "light"
          }
        }
      ]
    },
    {
      "cell_type": "markdown",
      "source": [
        "###가설 3 결론및 통찰\n",
        "흡연여부가 몸무게에 영향을 주지 않을 것 같아서 세워본 가설이다. 하지만 확실히 안피는게 비만도가 가장 낮았디. 눈여겨볼 점은 폈다가 끊은 상태였다.\n",
        "\n",
        "상자그림을 봐도, 막대그래프를 봐도 폈다가 끊는게 가장 비만도가 높았다.( 생각해보니 분석자의 아버지도 필 때보다 피다 끊었을 때 몸무게가 매우 증가했다.) \n",
        "\n",
        "화학물질이 지방세포에 있다가 해독이 되면서 지방세포가 불안정해져서 그런게 아닌가 싶다. 혹은 금단현상과 관련이 있는가도 싶다. 가능하면 끊은지 얼마 안 된 사람하고 오래된 사람도 분석해 보면 해석에 도움이 될 것 같다."
      ],
      "metadata": {
        "id": "bEinVjaNC8OT"
      }
    },
    {
      "cell_type": "code",
      "source": [
        "#4. 추가적으로 허리둘레와 비만도가 궁금했다.\n",
        "bmigrade_mean3 = health_new.groupby('bmi_grade' , as_index = False).agg(  mean_허리둘레 = ('허리둘레', 'mean'))\n",
        "sns.barplot(data = bmigrade_mean3, x = 'bmi_grade', y = 'mean_허리둘레')\n",
        "#당연한 결과지만 비만도가 높을수록 허리둘레도 두꺼웠다."
      ],
      "metadata": {
        "colab": {
          "base_uri": "https://localhost:8080/",
          "height": 297
        },
        "id": "KZjKv1OxqLLO",
        "outputId": "52bab3d1-c3d5-4184-8158-5d9c5cfaccc2"
      },
      "execution_count": 33,
      "outputs": [
        {
          "output_type": "execute_result",
          "data": {
            "text/plain": [
              "<matplotlib.axes._subplots.AxesSubplot at 0x7f1b8475be50>"
            ]
          },
          "metadata": {},
          "execution_count": 33
        },
        {
          "output_type": "display_data",
          "data": {
            "text/plain": [
              "<Figure size 432x288 with 1 Axes>"
            ],
            "image/png": "[encoded data removed]"
          },
          "metadata": {
            "needs_background": "light"
          }
        }
      ]
    }
  ]
}